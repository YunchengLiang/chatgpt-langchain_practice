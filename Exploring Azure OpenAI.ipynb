{
 "cells": [
  {
   "cell_type": "code",
   "execution_count": 76,
   "metadata": {},
   "outputs": [],
   "source": [
    "import os\n",
    "import sys\n",
    "import subprocess\n",
    "import json\n",
    "\n",
    "# az account get-access-token --resource https://cognitiveservices.azure.com -o json | jq -r .accessToken\n",
    "\n",
    "url = 'https://cognitiveservices.azure.com'\n",
    "args = ['az', 'account', 'get-access-token', '--resource', url, '-o', 'json']\n",
    "p = subprocess.run(args, check=True, capture_output=True)\n",
    "p_stdout = p.stdout.decode()\n",
    "p_stdout_dict = json.loads(p_stdout)\n",
    "aad_token = p_stdout_dict[\"accessToken\"]\n",
    "\n",
    "# p, aad_token\n",
    "# os.environ['aad_token'] = aad_token"
   ]
  },
  {
   "cell_type": "code",
   "execution_count": null,
   "metadata": {},
   "outputs": [],
   "source": [
    "aad_token"
   ]
  },
  {
   "cell_type": "code",
   "execution_count": 78,
   "metadata": {},
   "outputs": [],
   "source": [
    "prompts = [\n",
    "\"\"\"Generate a summary of the below conversation in the following format:\n",
    "Customer problem:\n",
    "Outcome of the conversation:\n",
    "Action items for follow-up:\n",
    "Customer budget:\n",
    "Departure city:\n",
    "Destination city:\n",
    "\n",
    "Conversation:\n",
    "User: Hi there, I’m off between August 25 and September 11. I saved up 4000 for a nice trip. If I flew out from San Francisco, what are your suggestions for where I can go?\n",
    "Agent: For that budget you could travel to cities in the US, Mexico, Brazil, Italy or Japan. Any preferences?\n",
    "User: Excellent, I’ve always wanted to see Japan. What kind of hotel can I expect?\n",
    "Agent: Great, let me check what I have. First, can I just confirm with you that this is a trip for one adult?\n",
    "User: Yes it is\n",
    "Agent: Great, thank you, In that case I can offer you 15 days at HOTEL Sugoi, a 3 star hotel close to a Palace. You would be staying there between August 25th and September 7th. They offer free wifi and have an excellent guest rating of 8.49/10. The entire package costs 2024.25USD. Should I book this for you?\n",
    "User: That sounds really good actually. Please book me at Sugoi.\n",
    "Agent: I can do that for you! Can I help you with anything else today?\n",
    "User: No, thanks! Please just send me the itinerary to my email soon.\n",
    "\n",
    "Summary:\"\"\",\n",
    "\"\"\"Below is an extract from the annual financial report of a company. Extract key financial number (if present), key internal risk factors, and key external risk factors.\n",
    "\n",
    "# Start of Report\n",
    "Revenue increased $7.5 billion or 16%. Commercial products and cloud services revenue increased $4.0 billion or 13%. O365 Commercial revenue grew 22% driven by seat growth of 17% and higher revenue per user. Office Consumer products and cloud services revenue increased $474 million or 10% driven by Consumer subscription revenue, on a strong prior year comparable that benefited from transactional strength in Japan. Gross margin increased $6.5 billion or 18% driven by the change in estimated useful lives of our server and network equipment. \n",
    "Our competitors range in size from diversified global companies with significant research and development resources to small, specialized firms whose narrower product lines may let them be more effective in deploying technical, marketing, and financial resources. Barriers to entry in many of our businesses are low and many of the areas in which we compete evolve rapidly with changing and disruptive technologies, shifting user needs, and frequent introductions of new products and services. Our ability to remain competitive depends on our success in making innovative products, devices, and services that appeal to businesses and consumers.\n",
    "# End of Report\"\"\",\n",
    "\"Once upon a time\",\n",
    "]"
   ]
  },
  {
   "cell_type": "code",
   "execution_count": 81,
   "metadata": {},
   "outputs": [],
   "source": [
    "import requests\n",
    "import json\n",
    "\n",
    "s = requests.session()\n",
    "headers = {\n",
    "    'Accept': 'application/json',\n",
    "    'Content-Type': 'application/json',\n",
    "    'Authorization': 'Bearer %s' % aad_token\n",
    "  }\n",
    "url = \"https://mazuseanclabopenai02.openai.azure.com/openai/deployments/text-davinci-003/completions\"\n",
    "params = {\n",
    "    # \"api_base\": \"https://mazuseanclabopenai02.openai.azure.com\",\n",
    "    # \"api_type\": \"azure\",\n",
    "    # \"api_version\": \"2022-12-01\"\n",
    "    \"api-version\": \"2023-03-15-preview\"\n",
    "    }\n",
    "data = {\n",
    "  'prompt': prompts[1],\n",
    "  \"max_tokens\": 350,\n",
    "  \"temperature\": 0.3,\n",
    "  \"frequency_penalty\": 0,\n",
    "  \"presence_penalty\": 0,\n",
    "  \"top_p\": 1,\n",
    "  \"best_of\": 1,\n",
    "  \"stop\": None,\n",
    "}\n",
    "\n",
    "resp = s.post(url, headers=headers, params=params, json=data)\n"
   ]
  },
  {
   "cell_type": "code",
   "execution_count": 82,
   "metadata": {},
   "outputs": [
    {
     "data": {
      "text/plain": [
       "(200,\n",
       " {'id': 'cmpl-7eTtwWW1wJAzSRXpSIOFus7y530Tv',\n",
       "  'object': 'text_completion',\n",
       "  'created': 1689882416,\n",
       "  'model': 'text-davinci-003',\n",
       "  'choices': [{'text': '\\n\\nKey Financial Number: \\n- Revenue increased $7.5 billion or 16%\\n- Gross margin increased $6.5 billion or 18%\\n\\nKey Internal Risk Factors:\\n- Ability to remain competitive depends on success in making innovative products, devices, and services\\n\\nKey External Risk Factors:\\n- Competitors range in size from diversified global companies to small, specialized firms\\n- Low barriers to entry in many of our businesses\\n- Rapidly changing and disruptive technologies, shifting user needs, and frequent introductions of new products and services',\n",
       "    'index': 0,\n",
       "    'finish_reason': 'stop',\n",
       "    'logprobs': None}],\n",
       "  'usage': {'completion_tokens': 114,\n",
       "   'prompt_tokens': 261,\n",
       "   'total_tokens': 375}})"
      ]
     },
     "execution_count": 82,
     "metadata": {},
     "output_type": "execute_result"
    }
   ],
   "source": [
    "resp_j = resp.json()\n",
    "resp.status_code, resp_j \n",
    "# resp_j['choices'][0]['text']"
   ]
  },
  {
   "cell_type": "code",
   "execution_count": null,
   "metadata": {},
   "outputs": [],
   "source": []
  },
  {
   "cell_type": "code",
   "execution_count": null,
   "metadata": {},
   "outputs": [],
   "source": []
  },
  {
   "cell_type": "code",
   "execution_count": null,
   "metadata": {},
   "outputs": [],
   "source": []
  }
 ],
 "metadata": {
  "kernelspec": {
   "display_name": "monitoring_processes",
   "language": "python",
   "name": "python3"
  },
  "language_info": {
   "codemirror_mode": {
    "name": "ipython",
    "version": 3
   },
   "file_extension": ".py",
   "mimetype": "text/x-python",
   "name": "python",
   "nbconvert_exporter": "python",
   "pygments_lexer": "ipython3",
   "version": "3.8.16"
  },
  "orig_nbformat": 4
 },
 "nbformat": 4,
 "nbformat_minor": 2
}
