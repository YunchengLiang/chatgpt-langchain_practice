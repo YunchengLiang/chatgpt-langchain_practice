{
 "cells": [
  {
   "cell_type": "code",
   "execution_count": 1,
   "id": "ab9c5ac2",
   "metadata": {},
   "outputs": [
    {
     "name": "stdout",
     "output_type": "stream",
     "text": [
      "0.0.248\n"
     ]
    }
   ],
   "source": [
    "import langchain \n",
    "print(langchain.__version__)"
   ]
  },
  {
   "cell_type": "code",
   "execution_count": 2,
   "id": "ba917306",
   "metadata": {},
   "outputs": [],
   "source": [
    "import os\n",
    "os.environ[\"OPENAI_API_TYPE\"] = \"azure\"\n",
    "os.environ[\"OPENAI_API_VERSION\"] = \"2023-05-15\"\n",
    "os.environ[\"OPENAI_API_BASE\"] = \"https://mazcaeanclabopenai01.openai.azure.com\"\n"
   ]
  },
  {
   "cell_type": "code",
   "execution_count": 3,
   "id": "00f1ce2d",
   "metadata": {},
   "outputs": [],
   "source": [
    "# # Set this to `azure`\n",
    "# export OPENAI_API_TYPE=azure\n",
    "# # The API version you want to use: set this to `2023-05-15` for the released version.\n",
    "# export OPENAI_API_VERSION=2023-05-15\n",
    "# # The base URL for your Azure OpenAI resource. You can find this in the Azure portal under your Azure OpenAI resource.\n",
    "# export OPENAI_API_BASE=https://your-resource-name.openai.azure.com  \n",
    "# # The API key for your Azure OpenAI resource.  You can find this in the Azure portal under your Azure OpenAI resource.\n",
    "# export OPENAI_API_KEY=<your Azure OpenAI API key>"
   ]
  },
  {
   "cell_type": "code",
   "execution_count": 4,
   "id": "a4c2d76b",
   "metadata": {},
   "outputs": [],
   "source": [
    "from langchain.embeddings import HuggingFaceEmbeddings\n",
    "from langchain.vectorstores import FAISS\n",
    "from langchain.text_splitter import RecursiveCharacterTextSplitter,TokenTextSplitter\n",
    "from langchain import OpenAI\n",
    "from langchain.chains import RetrievalQA\n",
    "from langchain.document_loaders import DirectoryLoader\n",
    "import magic\n",
    "import os\n",
    "import nltk"
   ]
  },
  {
   "cell_type": "code",
   "execution_count": 5,
   "id": "cd750d77",
   "metadata": {},
   "outputs": [],
   "source": [
    "from langchain.document_loaders import PyPDFLoader\n",
    "\n",
    "loader =  PyPDFLoader(\"https://www.rogers.com/cms/pdf/en/Consumer_SUG_V20.pdf\")\n",
    "# Load up your text into documents\n",
    "data = loader.load()"
   ]
  },
  {
   "cell_type": "code",
   "execution_count": 6,
   "id": "a59ba19d",
   "metadata": {},
   "outputs": [],
   "source": [
    "from transformers import AutoTokenizer, AutoModel\n",
    "\n",
    "# Load model from HuggingFace Hub\n",
    "tokenizer = AutoTokenizer.from_pretrained('sentence-transformers/all-MiniLM-L6-v2')\n"
   ]
  },
  {
   "cell_type": "code",
   "execution_count": 7,
   "id": "3153f864",
   "metadata": {},
   "outputs": [],
   "source": [
    "#customize splitter which count token length instead of length, control the tokens to be less than 230\n",
    "#(256 as the upper limit of the embedding model)\n",
    "def huggingface_tokenizer_length(text: str) -> int:\n",
    "    return len(tokenizer.encode(text))\n",
    "text_splitter = RecursiveCharacterTextSplitter(chunk_size=230, chunk_overlap=20,length_function=huggingface_tokenizer_length)\n",
    "# Split your documents into texts\n",
    "texts = text_splitter.split_documents(data)"
   ]
  },
  {
   "cell_type": "code",
   "execution_count": 8,
   "id": "a8fa3f32",
   "metadata": {},
   "outputs": [
    {
     "name": "stdout",
     "output_type": "stream",
     "text": [
      "445\n",
      "595\n",
      "666\n",
      "774\n",
      "586\n",
      "666\n",
      "815\n",
      "731\n",
      "209\n",
      "836\n",
      "_____\n",
      "116\n",
      "138\n",
      "155\n",
      "166\n",
      "127\n",
      "152\n",
      "164\n",
      "156\n",
      "47\n",
      "190\n"
     ]
    }
   ],
   "source": [
    "for i in texts[:10]:\n",
    "    print(len(i.page_content))\n",
    "print(\"_____\")\n",
    "for i in texts[:10]:\n",
    "    print(huggingface_tokenizer_length(i.page_content))"
   ]
  },
  {
   "cell_type": "code",
   "execution_count": 11,
   "id": "d3f94283",
   "metadata": {},
   "outputs": [],
   "source": [
    "from langchain.embeddings import OpenAIEmbeddings\n",
    "embeddings=OpenAIEmbeddings(deployment='text-embedding-ada-002',\n",
    "                                model='text-embedding-ada-002',\n",
    "                                chunk_size=8)"
   ]
  },
  {
   "cell_type": "code",
   "execution_count": 12,
   "id": "d2cad0de",
   "metadata": {},
   "outputs": [],
   "source": [
    "# # Turn your texts into embeddings\n",
    "# #By default, input text longer than 384 word pieces is truncated.\n",
    "# model_name = \"sentence-transformers/all-MiniLM-L6-v2\"\n",
    "# model_kwargs = {'device': 'cpu'}\n",
    "# encode_kwargs = {'normalize_embeddings': False}\n",
    "# embeddings = HuggingFaceEmbeddings(\n",
    "#                 model_name=model_name,\n",
    "#                 model_kwargs=model_kwargs,\n",
    "#                 encode_kwargs=encode_kwargs\n",
    "#             )"
   ]
  },
  {
   "cell_type": "code",
   "execution_count": 13,
   "id": "734ed265",
   "metadata": {},
   "outputs": [],
   "source": [
    "# Get your docsearch ready\n",
    "from langchain.vectorstores import Chroma\n",
    "docsearch = Chroma.from_documents(texts, embeddings)"
   ]
  },
  {
   "cell_type": "code",
   "execution_count": 11,
   "id": "f1d5e9b3",
   "metadata": {},
   "outputs": [
    {
     "data": {
      "text/plain": [
       "<langchain.vectorstores.chroma.Chroma at 0x2250569eac0>"
      ]
     },
     "execution_count": 11,
     "metadata": {},
     "output_type": "execute_result"
    }
   ],
   "source": [
    "docsearch"
   ]
  },
  {
   "cell_type": "code",
   "execution_count": 14,
   "id": "573626b5",
   "metadata": {},
   "outputs": [],
   "source": [
    "from langchain.prompts import PromptTemplate\n",
    "prompt_template = \"\"\"\n",
    "        You are a customer service agent of Rogers Communications which is a telecommunication company in Canada.\n",
    "        You are helpful and honest on answering customers' questions.  \n",
    "\n",
    "        Use the following information about Rogers Communications to respond to \n",
    "        the customer's query acting as a customer service agent.\n",
    "        Context: {context}                                \n",
    "\n",
    "        Keep the response brief and only use the information given by the context. If you don't know the answer, just say that you don't know, don't try to make up an answer.\n",
    "\n",
    "        Customer: {question}\n",
    "        Customer service agent:\"\"\"\n",
    "PROMPT = PromptTemplate(\n",
    "    template=prompt_template, input_variables=[\"context\", \"question\"]\n",
    ")"
   ]
  },
  {
   "cell_type": "code",
   "execution_count": 15,
   "id": "6d6339ef",
   "metadata": {},
   "outputs": [],
   "source": [
    "from langchain.chat_models import AzureChatOpenAI\n",
    "llm = AzureChatOpenAI(\n",
    "    deployment_name=\"gpt-4-32k\",\n",
    "    model_name=\"gpt-4-32k\"\n",
    ")"
   ]
  },
  {
   "cell_type": "code",
   "execution_count": 16,
   "id": "ab55b4cb",
   "metadata": {},
   "outputs": [
    {
     "name": "stdout",
     "output_type": "stream",
     "text": [
      "cache=None verbose=False callbacks=None callback_manager=None tags=None metadata=None client=<class 'openai.api_resources.chat_completion.ChatCompletion'> model_name='gpt-4-32k' temperature=0.7 model_kwargs={} openai_api_key='27c9d423022649f1976f8a36029deea4' openai_api_base='https://mazcaeanclabopenai01.openai.azure.com' openai_organization='' openai_proxy='' request_timeout=None max_retries=6 streaming=False n=1 max_tokens=None tiktoken_model_name=None deployment_name='gpt-4-32k' openai_api_type='azure' openai_api_version='2023-05-15'\n"
     ]
    }
   ],
   "source": [
    "print(llm)"
   ]
  },
  {
   "cell_type": "code",
   "execution_count": 17,
   "id": "404779c9",
   "metadata": {},
   "outputs": [],
   "source": [
    "chain_type_kwargs = {\"prompt\": PROMPT}\n",
    "qa = RetrievalQA.from_chain_type(llm=llm, chain_type=\"stuff\", \n",
    "                                 retriever=docsearch.as_retriever(search_kwargs={\"k\": 2}), \n",
    "                                 chain_type_kwargs=chain_type_kwargs,\n",
    "                                 return_source_documents=True)"
   ]
  },
  {
   "cell_type": "code",
   "execution_count": 18,
   "id": "20b81063",
   "metadata": {},
   "outputs": [],
   "source": [
    "# Run a query\n",
    "queries = [\n",
    "        \"how to download ringtones?\",\n",
    "        \"How are my services invoiced for the first bill?\"\n",
    "]\n",
    "\n",
    "query_1 = queries[0]\n",
    "result_1 = qa({\"query\": query_1})"
   ]
  },
  {
   "cell_type": "code",
   "execution_count": 19,
   "id": "68cfe8fb",
   "metadata": {},
   "outputs": [
    {
     "data": {
      "text/plain": [
       "'To download ringtones, please follow these steps:\\n\\n1. Select the Internet icon from your main menu and then select the Shop link from your mobile internet home page or text MUSIC to 555 for a link to the Music and Tones page.\\n2. Check out categories such as Top Sellers and Spotlights by selecting Ringtones.\\n3. Pick a ringtone of your choice, then click on the Download link. Once downloaded, an option will appear to set the new download as your ringtone.'"
      ]
     },
     "execution_count": 19,
     "metadata": {},
     "output_type": "execute_result"
    }
   ],
   "source": [
    "result_1['result']"
   ]
  },
  {
   "cell_type": "code",
   "execution_count": 20,
   "id": "42d3a6f8",
   "metadata": {},
   "outputs": [
    {
     "data": {
      "text/plain": [
       "[Document(page_content='to the original point of purchase.Mobile Backup\\nHARdw ARe RetuRN PoliCy\\nGet the most out of each battery charge \\nso your phone is ready whenever you are.Tip BAtteRy PeRfoRMANCe  VAlue \\nPACksincluded inVAlue \\nPACksincluded in\\n1  Select the Internet icon \\nfrom your main menu. \\nThen select the Shop link from your mobile internet home page or text MUSIC  \\nto 555 for a link to the \\nMusic and Tones page.\\n2  Select Ringtones to check \\nout categories such as Top Sellers and Spotlights.\\n3   Select a ringtone, then click on the Download  \\nlink. Once downloaded, an option will appear to set the new download as your ringtone.how\\nto\\n04/05For details, applicable conditions and a list of supported \\ndevices, visit rogers.com/mobilebackup', metadata={'page': 2, 'source': 'C:\\\\Users\\\\YUNCHE~1.LIA\\\\AppData\\\\Local\\\\Temp\\\\tmpiuu159fn\\\\tmp.pdf'}),\n",
       " Document(page_content='the Ringbacks mobile store.\\nClick the link.\\n3   Now you can browse to download your Ringback.\\ntuRN RiNGBACks oN/off\\n1   Text ON or OFF to 555. You \\nwill receive a Ringbacks text message with a link.\\n2   Click on the link.\\n3   Under the heading Ringback ON/OFF, select ON or OFF.how\\nto\\nhow\\ntoGetting started\\nNow that you’ve got your new Rogers wireless phone, here’s how to set it up\\nVoicemail\\nYou’re not always available, but your voicemail is always working.\\n1  To access your voicemail,  \\nhold down the               button.\\n2  Follow the instructions to set up a personal password and record your name and a personal greeting (or use the default greeting).\\nhow\\nto', metadata={'page': 1, 'source': 'C:\\\\Users\\\\YUNCHE~1.LIA\\\\AppData\\\\Local\\\\Temp\\\\tmpiuu159fn\\\\tmp.pdf'})]"
      ]
     },
     "execution_count": 20,
     "metadata": {},
     "output_type": "execute_result"
    }
   ],
   "source": [
    "result_1['source_documents']"
   ]
  },
  {
   "cell_type": "code",
   "execution_count": 21,
   "id": "e11454ac",
   "metadata": {},
   "outputs": [
    {
     "data": {
      "text/plain": [
       "'Your first bill includes both partial and regular charges. The regular charges include your monthly plan and any additional fees that are billed in advance for the upcoming month. Partial charges are calculated based on the length of time between your activation date and your invoice date. This covers your usage for that period. For example, if you activated a $30 plan with 150 minutes on May 5, you’d have 40 minutes of airtime to use until May 12 and would see a partial charge of about $8 for those 8 days of service.'"
      ]
     },
     "execution_count": 21,
     "metadata": {},
     "output_type": "execute_result"
    }
   ],
   "source": [
    "query_2 = queries[1]\n",
    "result_2 = qa({\"query\": query_2})\n",
    "result_2['result']"
   ]
  },
  {
   "cell_type": "code",
   "execution_count": 22,
   "id": "60b422e4",
   "metadata": {},
   "outputs": [
    {
     "data": {
      "text/plain": [
       "[Document(page_content='08Your first bill\\nLearn how billing works, in plain language\\nFor example, if you activated a $30 plan with 150 minutes on May 5, you’d have 40 minutes of airtime to use until May 12 and would see a partial charge of approximately $8 for your rate plan for the 8 days of service.First bill explanation\\nHow AR e My seRViCes iNVoiCed?\\nYour first bill includes partial charges and regular charges. Regular charges include your monthly plan and any add-on fees billed in advance for the next month. If you exceed monthly usage limits, extra charges will be listed on your next invoice in the “Regular Charges” section.\\nwHy AR e tHeRe PAR tiAl CHARG es oN My \\nBill, AN d How AR e tHey CA lCulAted?', metadata={'page': 4, 'source': 'C:\\\\Users\\\\YUNCHE~1.LIA\\\\AppData\\\\Local\\\\Temp\\\\tmpiuu159fn\\\\tmp.pdf'}),\n",
       " Document(page_content='Bill, AN d How AR e tHey CA lCulAted?\\nYour activation date and billing period don’t always start on the same date, so your allotted usage is pro-rated. Partial charges on your invoice cover the period between your activation date and your invoice date (found on the top right-hand corner of your invoice).\\n \\n$30  ÷  30 days  x 8 days  = $8\\n MONThLY  NUMBeR OF DAYS  MAY 5 TO  PARTIAL ChARGeS  \\nPRICe PLAN  PeR MONTh  MAY 12  OF PRICe PLAN\\n 150  ÷ 30 days  x 8 days  = 40\\n MONThLY  NUMBeR  MAY 5 TO  ALLOTTeD   \\n MINUTeS  OF DAYS  MAY 12  MINUTeS(\\n())CAlCulA tiNG PAR tiAl CHARGes Tutorial\\nFor more answers to all your first bill questions, visit rogers.com/firstbill To sign up, visit rogers.com/urstartupsiGN u P foR oNliNe BilliNG \\noN My RoGeRs', metadata={'page': 4, 'source': 'C:\\\\Users\\\\YUNCHE~1.LIA\\\\AppData\\\\Local\\\\Temp\\\\tmpiuu159fn\\\\tmp.pdf'})]"
      ]
     },
     "execution_count": 22,
     "metadata": {},
     "output_type": "execute_result"
    }
   ],
   "source": [
    "result_2['source_documents']"
   ]
  }
 ],
 "metadata": {
  "kernelspec": {
   "display_name": "Python 3 (ipykernel)",
   "language": "python",
   "name": "python3"
  },
  "language_info": {
   "codemirror_mode": {
    "name": "ipython",
    "version": 3
   },
   "file_extension": ".py",
   "mimetype": "text/x-python",
   "name": "python",
   "nbconvert_exporter": "python",
   "pygments_lexer": "ipython3",
   "version": "3.9.12"
  }
 },
 "nbformat": 4,
 "nbformat_minor": 5
}
