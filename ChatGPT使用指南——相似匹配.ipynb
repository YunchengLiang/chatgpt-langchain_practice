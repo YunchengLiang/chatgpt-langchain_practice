{
 "cells": [
  {
   "cell_type": "markdown",
   "id": "a4980428",
   "metadata": {
    "toc": true
   },
   "source": [
    "<h1>Table of Contents<span class=\"tocSkip\"></span></h1>\n",
    "<div class=\"toc\"><ul class=\"toc-item\"><li><span><a href=\"#ChatGPT使用指南——相似匹配\" data-toc-modified-id=\"ChatGPT使用指南——相似匹配-1\">ChatGPT使用指南——相似匹配</a></span><ul class=\"toc-item\"><li><span><a href=\"#1.-何为Embedding\" data-toc-modified-id=\"1.-何为Embedding-1.1\">1. 何为Embedding</a></span></li><li><span><a href=\"#2.-相关API\" data-toc-modified-id=\"2.-相关API-1.2\">2. 相关API</a></span><ul class=\"toc-item\"><li><span><a href=\"#2.1-LMAS-Embedding-API\" data-toc-modified-id=\"2.1-LMAS-Embedding-API-1.2.1\">2.1 LMAS Embedding API</a></span></li><li><span><a href=\"#2.2-ChatGPT-Style\" data-toc-modified-id=\"2.2-ChatGPT-Style-1.2.2\">2.2 ChatGPT Style</a></span></li></ul></li><li><span><a href=\"#3.-Embedding应用\" data-toc-modified-id=\"3.-Embedding应用-1.3\">3. Embedding应用</a></span><ul class=\"toc-item\"><li><span><a href=\"#3.1-QA\" data-toc-modified-id=\"3.1-QA-1.3.1\">3.1 QA</a></span></li><li><span><a href=\"#3.2-聚类\" data-toc-modified-id=\"3.2-聚类-1.3.2\">3.2 聚类</a></span></li><li><span><a href=\"#3.3-推荐\" data-toc-modified-id=\"3.3-推荐-1.3.3\">3.3 推荐</a></span></li></ul></li><li><span><a href=\"#相关文献\" data-toc-modified-id=\"相关文献-1.4\">相关文献</a></span></li></ul></li></ul></div>"
   ]
  },
  {
   "cell_type": "markdown",
   "id": "2ca90e2d",
   "metadata": {},
   "source": [
    "# ChatGPT使用指南——相似匹配"
   ]
  },
  {
   "cell_type": "markdown",
   "id": "c08b87df",
   "metadata": {},
   "source": [
    "## 1. 何为Embedding"
   ]
  },
  {
   "cell_type": "markdown",
   "id": "0403a6f6",
   "metadata": {},
   "source": [
    "&emsp;&emsp;对于自然语言，因为它的输入是一段文本，在中文里就是一个一个字，或一个一个词，行业内把这个字或词叫Token。如果要使用模型，拿到一段文本的第一件事就是把它Token化，当然，可以按字、也可以按词，或按你想要的其他方式，比如每两个字一组（Bi-Gram）。举个例子：\n",
    "\n",
    "- 给定文本：我们相信AI可以让世界变得更美好。\n",
    "- 按字Token化：我/们/相/信/A/I/可/以/让/世/界/变/得/更/美/好/。\n",
    "- 按词Token化：我们/相信/AI/可以/让/世界/变得/更/美好/。\n",
    "- 按Bi-Gram Token化：我们/们相/相信/信A/AI/I可/可以/以让/让世/世界/界变/变得/得更/更美/美好/好。"
   ]
  },
  {
   "cell_type": "markdown",
   "id": "cb576e6d",
   "metadata": {},
   "source": [
    "&emsp;&emsp;那自然就有一个新的问题：我们应该怎么选择Token化方式？其实每种不同的方法都有自己的优点和不足，在大模型之前，按词的方式比较常见。但在有了大模型之后，基本都是按字来了，不用再纠结这个点了。\n",
    "\n",
    "&emsp;&emsp;Token化后，第二件事就是要怎么表示这些Token，我们知道计算机只能处理数字，所以要想办法把这些Token给变成计算机「认识」的数字才行。读者不妨思考一下如果要你来做这件事会怎么做。"
   ]
  },
  {
   "cell_type": "markdown",
   "id": "8eeab223",
   "metadata": {},
   "source": [
    "&emsp;&emsp;其实很简单很直观，把所有字作为一个字典，序号就代表它自己。我们还是以上面的句子为例，假设词表就包含上面那些字，那么词表就可以用一个txt文件存储，内容如下：\n",
    "\n",
    "```text\n",
    "我\n",
    "们\n",
    "相\n",
    "信\n",
    "A\n",
    "I\n",
    "可\n",
    "以  \n",
    "让  \n",
    "世  \n",
    "界  \n",
    "变  \n",
    "得  \n",
    "更  \n",
    "美  \n",
    "好  \n",
    "。 \n",
    "```"
   ]
  },
  {
   "cell_type": "markdown",
   "id": "6ba7ad32",
   "metadata": {},
   "source": [
    "&emsp;&emsp;一行一个字，每个字作为一个Token，此时，0=我，1=们，……，以此类推。拿中文来说，这个词表可能只要几千行，即使包含各种特殊符号、生僻字，也就2万个多点，我们假设词表大小为N。"
   ]
  },
  {
   "cell_type": "markdown",
   "id": "96d6352c",
   "metadata": {},
   "source": [
    "&emsp;&emsp;接下来我们考虑如何用这些数字来表示一段文本。最简单的方法就是用它的ID直接串起来，这样也不是不行，但这种表示方法的特征是一维的，也就是说只能表示一个特征。这种方法不太符合实际情况，效果也不理想。所以，研究人员就想到另一种表示方法：One-Hot编码。其实，将文本变为数字表示的过程本质上就是一种编码过程。One-Hot的意思是，对每一个字都有N（词表大小）个特征，除了该字的ID位置值为1，其余都为0。我们依然用上面的例子来说明，把整个词表表示为下面的形式：\n",
    "\n",
    "\n",
    "> 我 1 0 0 0 0 0 0 0 0 0 0 0 0 0 0 0  \n",
    "们 0 1 0 0 0 0 0 0 0 0 0 0 0 0 0 0  \n",
    "相 0 0 1 0 0 0 0 0 0 0 0 0 0 0 0 0  \n",
    "信 0 0 0 1 0 0 0 0 0 0 0 0 0 0 0 0  \n",
    "……下面省略"
   ]
  },
  {
   "cell_type": "markdown",
   "id": "4f9c02a1",
   "metadata": {},
   "source": [
    "&emsp;&emsp;此时，对每一个Token（字），它的表示就变成了一个一维向量，比如「我」：`[1,0,...0]`，这个向量的长度就是词表的大小N，它被称为「我」这个字的One-Hot表示。"
   ]
  },
  {
   "cell_type": "markdown",
   "id": "4846a023",
   "metadata": {},
   "source": [
    "&emsp;&emsp;对于一段文本，我们一般会将每个Token的表示结合起来，结合方式可以采用求和或平均。这样，对于任意长度的任意文本，我们都能将其表示为固定大小的向量，非常方便进行各种矩阵或张量（三维以上的数组）计算，这对深度学习至关重要。\n",
    "\n",
    "&emsp;&emsp;举个例子，比如有这么一句话：让世界更美好。现在我们使用刚刚的方法将其表示为一个向量，采用平均的方式。"
   ]
  },
  {
   "cell_type": "markdown",
   "id": "5f645fd0",
   "metadata": {},
   "source": [
    "&emsp;&emsp;首先，列出每个字的向量：\n",
    "\n",
    "> 让 0 0 0 0 0 0 0 0 1 0 0 0 0 0 0 0 0  \n",
    "世 0 0 0 0 0 0 0 0 0 1 0 0 0 0 0 0 0  \n",
    "界 0 0 0 0 0 0 0 0 0 0 1 0 0 0 0 0 0  \n",
    "更 0 0 0 0 0 0 0 0 0 0 0 0 0 1 0 0 0  \n",
    "美 0 0 0 0 0 0 0 0 0 0 0 0 0 0 1 0 0  \n",
    "好 0 0 0 0 0 0 0 0 0 0 0 0 0 0 0 1 0  \n",
    "。 0 0 0 0 0 0 0 0 0 0 0 0 0 0 0 0 1  "
   ]
  },
  {
   "cell_type": "markdown",
   "id": "ddad8a7a",
   "metadata": {},
   "source": [
    "&emsp;&emsp;然后针对每一列取平均，结果为：`0 0 0 0 0 0 0 1/7 1/7 1/7 0 0 1/7 1/7 1/7 1/7`。不难发现，对任两句话，只要其中包含的字不完全一样，最终得到的向量表示也不会完全一样。注①"
   ]
  },
  {
   "cell_type": "markdown",
   "id": "fc51f689",
   "metadata": {},
   "source": [
    "&emsp;&emsp;当然，在实际使用时，往往不会这么简单的用1/0来表示，因为每个字在句子中的作用是不一样的，所以一般会给不同的Token赋予不同的权重。最常见的方法是使用在句子中出现的频率，那些高频的（但不是「的」「更」这样的虚词）被认为是重要的。更多可以参考【相关文献1】。"
   ]
  },
  {
   "cell_type": "markdown",
   "id": "d0be8361",
   "metadata": {},
   "source": [
    "&emsp;&emsp;这种方法不错，在深度学习之前很长一段时间里都是这样的，不过它有两个很大的问题：\n",
    "\n",
    "1. 数据维度太高：太高的维度会导致向量在空间中聚集在一个非常狭窄的角落，模型难以训练。\n",
    "2. 数据稀疏，向量之间缺乏语义上的交互（语义鸿沟）：比如「我爱吃苹果」和「我爱用苹果」，前者是水果，后者是手机，怎么判断出来的呢？根据上下文。但由于现在这种表示方式，导致上下文之间是孤立的，所以模型学不到这个知识点。还有类似「我喜欢你」和「你喜欢我」这样会得到同样的表示，但其实是不同的意思。注①\n",
    "\n",
    "\n",
    "更多可以参考【相关文献 1】。"
   ]
  },
  {
   "cell_type": "markdown",
   "id": "87446397",
   "metadata": {},
   "source": [
    "&emsp;&emsp;终于轮到我们的主角Embedding登场了，它的主要思想是这样的：\n",
    "\n",
    "- 把特征固定在某一个维度D，比如256、300、768等等，这个不重要，总之不再是词表那么大的数字。这就避免了维度过高的问题。\n",
    "- 利用自然语言文本的上下文关系学习一个稠密表示。也就是说，每个Token的表示不再是预先算好的了，而是在过程中学习到的，元素也不再是很多个0，而是每个位置都有一个小数，这D个小数构成了一个Token表示。至于D个特征到底是什么，不知道，也不重要。我们只需要知道这D个小数就表示这个Token。\n",
    "\n",
    "&emsp;&emsp;还是继续以前面的例子来说明，这时候词表的表示变成下面这样了：\n",
    "\n",
    "\n",
    "> 我 0.xxx0, 0.yyy0, 0.zzz0, ... D个小数  \n",
    "们 0.xxx1, 0.yyy1, 0.zzz1, ... D个小数  \n",
    "相 0.xxx2, 0.yyy2, 0.zzz2, ... D个小数  \n",
    "信 0.xxx3, 0.yyy3, 0.zzz3, ... D个小数  \n",
    "……下面省略  \n",
    "\n",
    "&emsp;&emsp;这些小数怎么来的？简单，随机来的。就像下面这样："
   ]
  },
  {
   "cell_type": "code",
   "execution_count": 15,
   "id": "4ef7ffe6",
   "metadata": {},
   "outputs": [],
   "source": [
    "import numpy as np"
   ]
  },
  {
   "cell_type": "code",
   "execution_count": 16,
   "id": "62817ba2",
   "metadata": {},
   "outputs": [
    {
     "data": {
      "text/plain": [
       "(16, 256)"
      ]
     },
     "execution_count": 16,
     "metadata": {},
     "output_type": "execute_result"
    }
   ],
   "source": [
    "rng = np.random.default_rng(42)\n",
    "# 词表大小N=16，维度D=256\n",
    "table = rng.uniform(size=(16, 256))\n",
    "table.shape"
   ]
  },
  {
   "cell_type": "code",
   "execution_count": 17,
   "id": "0fd77b1e",
   "metadata": {},
   "outputs": [
    {
     "data": {
      "text/plain": [
       "array([[0.77395605, 0.43887844, 0.85859792, ..., 0.24783956, 0.23666236,\n",
       "        0.74601428],\n",
       "       [0.81656876, 0.10527808, 0.06655886, ..., 0.11585672, 0.07205915,\n",
       "        0.84199321],\n",
       "       [0.05556792, 0.28061144, 0.33413004, ..., 0.00925978, 0.18832197,\n",
       "        0.03128351],\n",
       "       ...,\n",
       "       [0.50647331, 0.22303613, 0.94414565, ..., 0.79202324, 0.40169878,\n",
       "        0.72247782],\n",
       "       [0.9151384 , 0.80071297, 0.39044651, ..., 0.03994193, 0.79502741,\n",
       "        0.28297954],\n",
       "       [0.68255979, 0.64272531, 0.65262805, ..., 0.18645529, 0.21927175,\n",
       "        0.32320729]])"
      ]
     },
     "execution_count": 17,
     "metadata": {},
     "output_type": "execute_result"
    }
   ],
   "source": [
    "table"
   ]
  },
  {
   "cell_type": "markdown",
   "id": "13b8f0cf",
   "metadata": {},
   "source": [
    "&emsp;&emsp;在模型训练过程中，会根据不同的上下文不断地更新这个参数，最后模型训练完后得到的这个矩阵就是Token的表示。我们完全可以把它当成一个黑盒子，输入一个X，根据标签Y不断更新参数，最终就得到一组参数，这些参数的名字就叫「模型」。\n",
    "\n",
    "&emsp;&emsp;这种表示方法在深度学习早期（2013-2015年左右）比较流行，不过由于这个矩阵训练好后就固定不变了，这在有些时候就不合适。比如「你好坏」这句话在不同的情况下可能完全是不同的意思。"
   ]
  },
  {
   "cell_type": "markdown",
   "id": "8f65406a",
   "metadata": {},
   "source": [
    "&emsp;&emsp;我们知道，句子才是语义的最小单位，因此相比Token，我们其实更加关注和需要句子的表示，我们期望可以根据不同上下文动态地获得句子表示。这中间当然经历了比较多的探索，一直到如今的大模型时代，对模型输入任意一句话，它都能给我们返回一个非常不错的表示，而且依然是固定长度的向量。\n",
    "\n",
    "&emsp;&emsp;如果对这方面感兴趣，可以进一步阅读【相关文献2】和【相关文献3】。"
   ]
  },
  {
   "cell_type": "markdown",
   "id": "89325cdf",
   "metadata": {},
   "source": [
    "&emsp;&emsp;我们总结一下，Embedding本质就是一组稠密向量，用来表示一段文本（可以是字、词、句、段等），获取到这个表示后，我们就可以进一步做一些任务。大家不妨先思考一下，当给定任意句子并获得到它的固定长度的语义表示时，我们可以干什么？我们在下一节将先介绍一下OpenAI提供的接口，以及一些后面任务可能用到的概念。"
   ]
  },
  {
   "cell_type": "markdown",
   "id": "9bfde057",
   "metadata": {},
   "source": [
    "## 2. 相关API"
   ]
  },
  {
   "cell_type": "markdown",
   "id": "597c3fc4",
   "metadata": {},
   "source": [
    "### 2.1 LMAS Embedding API"
   ]
  },
  {
   "cell_type": "code",
   "execution_count": 3,
   "id": "e6b93864",
   "metadata": {},
   "outputs": [],
   "source": [
    "import os\n",
    "OPENAI_API_KEY = os.environ.get(\"OPENAI_API_KEY\")"
   ]
  },
  {
   "cell_type": "code",
   "execution_count": 4,
   "id": "1f093735",
   "metadata": {},
   "outputs": [],
   "source": [
    "import openai\n",
    "# OPENAI_API_KEY = \"填入专属的API key\"\n",
    "openai.api_key = OPENAI_API_KEY"
   ]
  },
  {
   "cell_type": "code",
   "execution_count": 31,
   "id": "530f4286",
   "metadata": {},
   "outputs": [],
   "source": [
    "text = \"我喜欢你\"\n",
    "model = \"text-embedding-ada-002\""
   ]
  },
  {
   "cell_type": "code",
   "execution_count": 32,
   "id": "1b4f9c80",
   "metadata": {
    "scrolled": true
   },
   "outputs": [],
   "source": [
    "emb_req = openai.Embedding.create(input=[text], model=model)"
   ]
  },
  {
   "cell_type": "code",
   "execution_count": 33,
   "id": "1da5ef4c",
   "metadata": {
    "scrolled": true
   },
   "outputs": [
    {
     "data": {
      "text/plain": [
       "(1536, list)"
      ]
     },
     "execution_count": 33,
     "metadata": {},
     "output_type": "execute_result"
    }
   ],
   "source": [
    "emb = emb_req.data[0].embedding\n",
    "len(emb), type(emb)"
   ]
  },
  {
   "cell_type": "markdown",
   "id": "fdeb078c",
   "metadata": {},
   "source": [
    "&emsp;&emsp;与Embedding息息相关的一个概念是「相似度」，准确来说是「语义相似度」。在自然语言处理领域，我们一般使用**cosine相似度**作为语义相似度的度量，评估两个向量在语义空间上的分布情况。\n",
    "\n",
    "&emsp;&emsp;具体来说就是下面这个式子：\n",
    "\n",
    "$$\n",
    "\\text{cosine}(v,w) = \\frac {v·w}{|v||w|} = \\frac {\\displaystyle \\sum_{i=1}^N v_iw_i} {\\displaystyle \\sqrt{\\sum_{i=1}^N v_i^2} \\sqrt{\\sum_{i=1}^N w_i^2}}\n",
    "$$"
   ]
  },
  {
   "cell_type": "markdown",
   "id": "454fb8b2",
   "metadata": {},
   "source": [
    "&emsp;&emsp;我们举个例子："
   ]
  },
  {
   "cell_type": "code",
   "execution_count": 27,
   "id": "f67ed38f",
   "metadata": {},
   "outputs": [
    {
     "data": {
      "text/plain": [
       "0.9925833339709301"
      ]
     },
     "execution_count": 27,
     "metadata": {},
     "output_type": "execute_result"
    }
   ],
   "source": [
    "import numpy as np\n",
    "a = [0.1, 0.2, 0.3]\n",
    "b = [0.2, 0.3, 0.4]\n",
    "cosine_ab = (0.1*0.2+0.2*0.3+0.3*0.4)/(np.sqrt(0.1**2+0.2**2+0.3**2) * np.sqrt(0.2**2+0.3**2+0.4**2))\n",
    "cosine_ab"
   ]
  },
  {
   "cell_type": "markdown",
   "id": "7e7c7fb2",
   "metadata": {},
   "source": [
    "&emsp;&emsp;OpenAI官方提供了一个集成接口，使用起来更加简单（但其实你也可以自己写一个）："
   ]
  },
  {
   "cell_type": "code",
   "execution_count": 1,
   "id": "adde7b98",
   "metadata": {},
   "outputs": [],
   "source": [
    "from openai.embeddings_utils import get_embedding, cosine_similarity"
   ]
  },
  {
   "cell_type": "code",
   "execution_count": 36,
   "id": "1815d2ca",
   "metadata": {},
   "outputs": [],
   "source": [
    "# 注意它默认的模型是text-similarity-davinci-001，我们也可以换成text-embedding-ada-002\n",
    "text1 = \"我喜欢你\"\n",
    "text2 = \"我钟意你\"\n",
    "text3 = \"我不喜欢你\"\n",
    "emb1 = get_embedding(text1)\n",
    "emb2 = get_embedding(text2)\n",
    "emb3 = get_embedding(text3)"
   ]
  },
  {
   "cell_type": "code",
   "execution_count": 37,
   "id": "aeb63bcf",
   "metadata": {},
   "outputs": [
    {
     "data": {
      "text/plain": [
       "(12288, list)"
      ]
     },
     "execution_count": 37,
     "metadata": {},
     "output_type": "execute_result"
    }
   ],
   "source": [
    "len(emb1), type(emb1)"
   ]
  },
  {
   "cell_type": "code",
   "execution_count": 38,
   "id": "bb4dbbfc",
   "metadata": {},
   "outputs": [
    {
     "data": {
      "text/plain": [
       "0.9246855139297101"
      ]
     },
     "execution_count": 38,
     "metadata": {},
     "output_type": "execute_result"
    }
   ],
   "source": [
    "cosine_similarity(emb1, emb2)"
   ]
  },
  {
   "cell_type": "code",
   "execution_count": 39,
   "id": "c76e7bcf",
   "metadata": {},
   "outputs": [
    {
     "data": {
      "text/plain": [
       "0.8578009661644189"
      ]
     },
     "execution_count": 39,
     "metadata": {},
     "output_type": "execute_result"
    }
   ],
   "source": [
    "cosine_similarity(emb1, emb3)"
   ]
  },
  {
   "cell_type": "code",
   "execution_count": 20,
   "id": "92801b94",
   "metadata": {},
   "outputs": [
    {
     "data": {
      "text/plain": [
       "0.8205299527695261"
      ]
     },
     "execution_count": 20,
     "metadata": {},
     "output_type": "execute_result"
    }
   ],
   "source": [
    "cosine_similarity(emb2, emb3)"
   ]
  },
  {
   "cell_type": "code",
   "execution_count": 21,
   "id": "40bf0057",
   "metadata": {},
   "outputs": [],
   "source": [
    "text1 = \"我喜欢你\"\n",
    "text2 = \"我钟意你\"\n",
    "text3 = \"我不喜欢你\"\n",
    "emb1 = get_embedding(text1, \"text-embedding-ada-002\")\n",
    "emb2 = get_embedding(text2, \"text-embedding-ada-002\")\n",
    "emb3 = get_embedding(text3, \"text-embedding-ada-002\")"
   ]
  },
  {
   "cell_type": "code",
   "execution_count": 22,
   "id": "f02ae887",
   "metadata": {},
   "outputs": [
    {
     "data": {
      "text/plain": [
       "0.8931105629213952"
      ]
     },
     "execution_count": 22,
     "metadata": {},
     "output_type": "execute_result"
    }
   ],
   "source": [
    "cosine_similarity(emb1, emb2)"
   ]
  },
  {
   "cell_type": "code",
   "execution_count": 23,
   "id": "9481b45a",
   "metadata": {},
   "outputs": [
    {
     "data": {
      "text/plain": [
       "0.9262074073566393"
      ]
     },
     "execution_count": 23,
     "metadata": {},
     "output_type": "execute_result"
    }
   ],
   "source": [
    "cosine_similarity(emb1, emb3)"
   ]
  },
  {
   "cell_type": "code",
   "execution_count": 24,
   "id": "200317d4",
   "metadata": {},
   "outputs": [
    {
     "data": {
      "text/plain": [
       "0.845821877417193"
      ]
     },
     "execution_count": 24,
     "metadata": {},
     "output_type": "execute_result"
    }
   ],
   "source": [
    "cosine_similarity(emb2, emb3)"
   ]
  },
  {
   "cell_type": "markdown",
   "id": "f0c8dcd9",
   "metadata": {},
   "source": [
    "&emsp;&emsp;text-embedding-ada-002模型在这个例子上表现不太令人满意。更多模型可以在这里查看：[New and improved embedding model](https://openai.com/blog/new-and-improved-embedding-model)"
   ]
  },
  {
   "cell_type": "markdown",
   "id": "6991b67b",
   "metadata": {},
   "source": [
    "### 2.2 ChatGPT Style"
   ]
  },
  {
   "cell_type": "markdown",
   "id": "b5dd5c74",
   "metadata": {},
   "source": [
    "&emsp;&emsp;接下来我们用万能的ChatGPT尝试一下，注意它不会给你返回Embedding，它是尝试直接告诉你答案！"
   ]
  },
  {
   "cell_type": "code",
   "execution_count": 29,
   "id": "86f116d3",
   "metadata": {},
   "outputs": [],
   "source": [
    "content = \"请告诉我下面三句话的相似程度：\\n1. 我喜欢你。\\n2. 我钟意你。\\n3.我不喜欢你。\\n\""
   ]
  },
  {
   "cell_type": "code",
   "execution_count": 30,
   "id": "29ad8225",
   "metadata": {
    "scrolled": true
   },
   "outputs": [
    {
     "data": {
      "text/plain": [
       "'\\n\\n1和2相似，都表达了对某人的好感或喜欢之情。而3则与前两句截然相反，表示对某人的反感或不喜欢。'"
      ]
     },
     "execution_count": 30,
     "metadata": {},
     "output_type": "execute_result"
    }
   ],
   "source": [
    "response = openai.ChatCompletion.create(\n",
    "    model=\"gpt-3.5-turbo\", \n",
    "    messages=[{\"role\": \"user\", \"content\": content}]\n",
    ")\n",
    "\n",
    "response.get(\"choices\")[0].get(\"message\").get(\"content\")"
   ]
  },
  {
   "cell_type": "markdown",
   "id": "4ed55c55",
   "metadata": {},
   "source": [
    "牛逼，不过这个格式不太好，我们调整一下："
   ]
  },
  {
   "cell_type": "code",
   "execution_count": 31,
   "id": "4b4ec156",
   "metadata": {},
   "outputs": [],
   "source": [
    "content += '第一句话用a表示，第二句话用b表示，第三句话用c表示，请以json格式输出两两相似度，类似下面这样：\\n{\"ab\": a和b的相似度}'"
   ]
  },
  {
   "cell_type": "code",
   "execution_count": 32,
   "id": "b7bdde56",
   "metadata": {},
   "outputs": [
    {
     "data": {
      "text/plain": [
       "'\\n\\n{\"ab\": 0.8, \"ac\": -1, \"bc\": 0.7}\\n\\n解释：a和b的相似度为0.8，因为两句话表达了相同的情感；a和c的相似度为-1，因为两句话表达了相反的情感；b和c的相似度为0.7，因为两句话都是表达情感，但一个是积极情感，一个是消极情感，相似度略低。'"
      ]
     },
     "execution_count": 32,
     "metadata": {},
     "output_type": "execute_result"
    }
   ],
   "source": [
    "response = openai.ChatCompletion.create(\n",
    "    model=\"gpt-3.5-turbo\", \n",
    "    messages=[{\"role\": \"user\", \"content\": content}]\n",
    ")\n",
    "\n",
    "response.get(\"choices\")[0].get(\"message\").get(\"content\")"
   ]
  },
  {
   "cell_type": "markdown",
   "id": "612b96fa",
   "metadata": {},
   "source": [
    "牛逼++！"
   ]
  },
  {
   "cell_type": "markdown",
   "id": "f2f3b058",
   "metadata": {},
   "source": [
    "## 3. Embedding应用"
   ]
  },
  {
   "cell_type": "markdown",
   "id": "d15f87f9",
   "metadata": {},
   "source": [
    "&emsp;&emsp;有读者可能会疑惑，既然有了这么牛逼Plus的ChatGPT了，为什么还要介绍Embedding这种看起来好像是「低级货」的技术呢？这里主要有两个原因：\n",
    "\n",
    "1. 有些问题使用Embedding解决（或其他非ChatGPT的方式）会更加合理。通俗来说就是「杀鸡焉用牛刀」。\n",
    "2. ChatGPT性能方面不是特别友好，毕竟是一个Token一个Token吐出来的。"
   ]
  },
  {
   "cell_type": "markdown",
   "id": "776fe3df",
   "metadata": {},
   "source": [
    "&emsp;&emsp;关于第一点，我们要额外多说几句。选择技术方案就跟选对象一样，合适最重要。只要你的问题（需求）没变，能解决的技术就是好技术。比如你的任务就是一个二分类，明明一个很简单的模型就能解决，就没必要非得上个很复杂的。除非ChatGPT这样的LLM已经大众到一定阶段（任何人都能够非常流畅、自由地使用），我们从统一性角度考虑。\n",
    "\n",
    "&emsp;&emsp;言归正传，使用Embedding的应用大多跟语义相关，我们这里介绍与此相关的几个经典任务以及衍生的应用。"
   ]
  },
  {
   "cell_type": "markdown",
   "id": "79f3bd15",
   "metadata": {},
   "source": [
    "### 3.1 QA"
   ]
  },
  {
   "cell_type": "markdown",
   "id": "5fbdf2c9",
   "metadata": {},
   "source": [
    "&emsp;&emsp;QA是问答的意思，Q表示Question，A表示Answer，QA是NLP非常基础和常用的任务。简单来说，就是当用户提出一个问题时，我们能从已有的问题库中找到一个最相似的，并把它的答案返回给用户。这里有两个关键点：\n",
    "\n",
    "1. 事先需要有一个QA库。\n",
    "2. 用户提问时，系统要能够在QA库中找到一个最相似的。"
   ]
  },
  {
   "cell_type": "markdown",
   "id": "8a534745",
   "metadata": {},
   "source": [
    "&emsp;&emsp;ChatGPT（或生成方式）做这类任务相对有点麻烦，尤其是当：\n",
    "\n",
    "- QA库非常庞大时\n",
    "- 给用户的答案是固定的，不允许自由发挥时\n",
    "\n",
    "&emsp;&emsp;生成方式做起来是事倍功半。但是Embedding确实天然的非常适合，因为该任务的核心就是在一堆文本中找出给定文本最相似的。简单来说，其实就是个相似度计算问题。"
   ]
  },
  {
   "cell_type": "markdown",
   "id": "211cc967",
   "metadata": {},
   "source": [
    "&emsp;&emsp;我们使用Kaggle提供的Quora数据集：[FAQ Kaggle dataset! | Data Science and Machine Learning](https://www.kaggle.com/general/183270)，先把它给读进来。"
   ]
  },
  {
   "cell_type": "code",
   "execution_count": 41,
   "id": "85786f71",
   "metadata": {},
   "outputs": [],
   "source": [
    "import pandas as pd"
   ]
  },
  {
   "cell_type": "code",
   "execution_count": 42,
   "id": "775a8f48",
   "metadata": {},
   "outputs": [
    {
     "data": {
      "text/plain": [
       "(1166, 4)"
      ]
     },
     "execution_count": 42,
     "metadata": {},
     "output_type": "execute_result"
    }
   ],
   "source": [
    "df = pd.read_csv(\"dataset/Kaggle related questions on Qoura - Questions.csv\")\n",
    "df.shape"
   ]
  },
  {
   "cell_type": "code",
   "execution_count": 43,
   "id": "b7ed7f42",
   "metadata": {},
   "outputs": [
    {
     "data": {
      "text/html": [
       "<div>\n",
       "<style scoped>\n",
       "    .dataframe tbody tr th:only-of-type {\n",
       "        vertical-align: middle;\n",
       "    }\n",
       "\n",
       "    .dataframe tbody tr th {\n",
       "        vertical-align: top;\n",
       "    }\n",
       "\n",
       "    .dataframe thead th {\n",
       "        text-align: right;\n",
       "    }\n",
       "</style>\n",
       "<table border=\"1\" class=\"dataframe\">\n",
       "  <thead>\n",
       "    <tr style=\"text-align: right;\">\n",
       "      <th></th>\n",
       "      <th>Questions</th>\n",
       "      <th>Followers</th>\n",
       "      <th>Answered</th>\n",
       "      <th>Link</th>\n",
       "    </tr>\n",
       "  </thead>\n",
       "  <tbody>\n",
       "    <tr>\n",
       "      <th>0</th>\n",
       "      <td>How do I start participating in Kaggle competi...</td>\n",
       "      <td>1200</td>\n",
       "      <td>1</td>\n",
       "      <td>/How-do-I-start-participating-in-Kaggle-compet...</td>\n",
       "    </tr>\n",
       "    <tr>\n",
       "      <th>1</th>\n",
       "      <td>Is Kaggle dead?</td>\n",
       "      <td>181</td>\n",
       "      <td>1</td>\n",
       "      <td>/Is-Kaggle-dead</td>\n",
       "    </tr>\n",
       "    <tr>\n",
       "      <th>2</th>\n",
       "      <td>How should a beginner get started on Kaggle?</td>\n",
       "      <td>388</td>\n",
       "      <td>1</td>\n",
       "      <td>/How-should-a-beginner-get-started-on-Kaggle</td>\n",
       "    </tr>\n",
       "    <tr>\n",
       "      <th>3</th>\n",
       "      <td>What are some alternatives to Kaggle?</td>\n",
       "      <td>201</td>\n",
       "      <td>1</td>\n",
       "      <td>/What-are-some-alternatives-to-Kaggle</td>\n",
       "    </tr>\n",
       "    <tr>\n",
       "      <th>4</th>\n",
       "      <td>What Kaggle competitions should a beginner sta...</td>\n",
       "      <td>273</td>\n",
       "      <td>1</td>\n",
       "      <td>/What-Kaggle-competitions-should-a-beginner-st...</td>\n",
       "    </tr>\n",
       "  </tbody>\n",
       "</table>\n",
       "</div>"
      ],
      "text/plain": [
       "                                           Questions  Followers  Answered  \\\n",
       "0  How do I start participating in Kaggle competi...       1200         1   \n",
       "1                                    Is Kaggle dead?        181         1   \n",
       "2       How should a beginner get started on Kaggle?        388         1   \n",
       "3              What are some alternatives to Kaggle?        201         1   \n",
       "4  What Kaggle competitions should a beginner sta...        273         1   \n",
       "\n",
       "                                                Link  \n",
       "0  /How-do-I-start-participating-in-Kaggle-compet...  \n",
       "1                                    /Is-Kaggle-dead  \n",
       "2       /How-should-a-beginner-get-started-on-Kaggle  \n",
       "3              /What-are-some-alternatives-to-Kaggle  \n",
       "4  /What-Kaggle-competitions-should-a-beginner-st...  "
      ]
     },
     "execution_count": 43,
     "metadata": {},
     "output_type": "execute_result"
    }
   ],
   "source": [
    "df.head()"
   ]
  },
  {
   "cell_type": "markdown",
   "id": "8317a26b",
   "metadata": {},
   "source": [
    "&emsp;&emsp;这里，我们就把Link当做答案构造数据对。基本的流程如下：\n",
    "\n",
    "- 对每个Question计算Embedding\n",
    "- 存储Embedding，同时存储每个Question对应的答案\n",
    "- 从存储的地方检索最相似的Question"
   ]
  },
  {
   "cell_type": "markdown",
   "id": "1bcd7255",
   "metadata": {},
   "source": [
    "&emsp;&emsp;第一步我们将借助OpenAI的Embedding接口，但是后两步得看实际情况了。如果Question的数量比较少，比如只有几万条甚至几千条，那我们可以把计算好的Embedding直接存储成文件，每次服务启动时直接加载到内存或缓存里就好了。使用时，挨个计算输入问题和存储的所有问题的相似度，然后给出最相似的问题的答案。"
   ]
  },
  {
   "cell_type": "markdown",
   "id": "53d61b30",
   "metadata": {},
   "source": [
    "&emsp;&emsp;为了快速演示，我们只取前5个句子为例："
   ]
  },
  {
   "cell_type": "code",
   "execution_count": 24,
   "id": "8689f565",
   "metadata": {},
   "outputs": [],
   "source": [
    "from openai.embeddings_utils import get_embedding, cosine_similarity\n",
    "import openai\n",
    "import numpy as np\n",
    "OPENAI_API_KEY = \"填入专属的API key\"\n",
    "openai.api_key = OPENAI_API_KEY"
   ]
  },
  {
   "cell_type": "code",
   "execution_count": 14,
   "id": "f76ef71d",
   "metadata": {},
   "outputs": [],
   "source": [
    "vec_base = []\n",
    "for v in df.head().itertuples():\n",
    "    emb = get_embedding(v.Questions)\n",
    "    im = {\n",
    "        \"question\": v.Questions,\n",
    "        \"embedding\": emb,\n",
    "        \"answer\": v.Link\n",
    "    }\n",
    "    vec_base.append(im)"
   ]
  },
  {
   "cell_type": "markdown",
   "id": "4d6d260b",
   "metadata": {},
   "source": [
    "&emsp;&emsp;然后给定输入，比如：\"is kaggle alive?\"，我们先获取它的Embedding，然后逐个遍历`vec_base`计算相似度，并取最高的作为响应。"
   ]
  },
  {
   "cell_type": "code",
   "execution_count": 45,
   "id": "a9144856",
   "metadata": {},
   "outputs": [],
   "source": [
    "query = \"is kaggle alive?\"\n",
    "q_emb = get_embedding(query)"
   ]
  },
  {
   "cell_type": "code",
   "execution_count": 18,
   "id": "b7570046",
   "metadata": {},
   "outputs": [],
   "source": [
    "sims = [cosine_similarity(q_emb, v[\"embedding\"]) for v in vec_base]"
   ]
  },
  {
   "cell_type": "code",
   "execution_count": 20,
   "id": "8e6dcb55",
   "metadata": {},
   "outputs": [
    {
     "data": {
      "text/plain": [
       "[0.665769204766594,\n",
       " 0.8711775410642538,\n",
       " 0.7489853201153621,\n",
       " 0.7384357684745508,\n",
       " 0.7287129153982224]"
      ]
     },
     "execution_count": 20,
     "metadata": {},
     "output_type": "execute_result"
    }
   ],
   "source": [
    "sims"
   ]
  },
  {
   "cell_type": "markdown",
   "id": "c0d712c9",
   "metadata": {},
   "source": [
    "&emsp;&emsp;我们返回第二个即可："
   ]
  },
  {
   "cell_type": "code",
   "execution_count": 23,
   "id": "ca1e0cc2",
   "metadata": {},
   "outputs": [
    {
     "data": {
      "text/plain": [
       "('Is Kaggle dead?', '/Is-Kaggle-dead')"
      ]
     },
     "execution_count": 23,
     "metadata": {},
     "output_type": "execute_result"
    }
   ],
   "source": [
    "vec_base[1][\"question\"], vec_base[1][\"answer\"]"
   ]
  },
  {
   "cell_type": "markdown",
   "id": "0878f9b7",
   "metadata": {},
   "source": [
    "&emsp;&emsp;当然，在实际中，我们不建议使用循环，大家可以使用NumPy进行批量计算。"
   ]
  },
  {
   "cell_type": "code",
   "execution_count": 27,
   "id": "4e97b201",
   "metadata": {},
   "outputs": [
    {
     "data": {
      "text/plain": [
       "(5, 12288)"
      ]
     },
     "execution_count": 27,
     "metadata": {},
     "output_type": "execute_result"
    }
   ],
   "source": [
    "arr = np.array(\n",
    "    [v[\"embedding\"] for v in vec_base]\n",
    ")\n",
    "arr.shape"
   ]
  },
  {
   "cell_type": "code",
   "execution_count": 47,
   "id": "bf47ca7c",
   "metadata": {},
   "outputs": [
    {
     "data": {
      "text/plain": [
       "(1, 12288)"
      ]
     },
     "execution_count": 47,
     "metadata": {},
     "output_type": "execute_result"
    }
   ],
   "source": [
    "q_arr = np.expand_dims(q_emb, 0)\n",
    "q_arr.shape"
   ]
  },
  {
   "cell_type": "code",
   "execution_count": 48,
   "id": "8090b806",
   "metadata": {},
   "outputs": [],
   "source": [
    "from sklearn.metrics.pairwise import cosine_similarity"
   ]
  },
  {
   "cell_type": "code",
   "execution_count": 50,
   "id": "06df6f50",
   "metadata": {
    "scrolled": true
   },
   "outputs": [
    {
     "data": {
      "text/plain": [
       "array([[0.6657692 ],\n",
       "       [0.87117754],\n",
       "       [0.74898532],\n",
       "       [0.73843577],\n",
       "       [0.72871292]])"
      ]
     },
     "execution_count": 50,
     "metadata": {},
     "output_type": "execute_result"
    }
   ],
   "source": [
    "cosine_similarity(arr, q_arr)"
   ]
  },
  {
   "cell_type": "markdown",
   "id": "a26fc82b",
   "metadata": {},
   "source": [
    "&emsp;&emsp;不过，当Question非常多，比如上百万甚至上亿时，这种方式就不合适了。一个是内存里可能放不下，另一个是算起来也很慢。这时候就必须借助一些专门用来做语义检索的工具了。"
   ]
  },
  {
   "cell_type": "markdown",
   "id": "f608a1fd",
   "metadata": {},
   "source": [
    "&emsp;&emsp;比较常用的工具有：\n",
    "\n",
    "- [facebookresearch/faiss: A library for efficient similarity search and clustering of dense vectors.](https://github.com/facebookresearch/faiss)\n",
    "- [milvus-io/milvus: Vector database for scalable similarity search and AI applications.](https://github.com/milvus-io/milvus)\n",
    "- [Vector similarity | Redis](https://redis.io/docs/stack/search/reference/vectors/)\n",
    "\n",
    "此处，我们以Redis为例，其他工具用法类似。"
   ]
  },
  {
   "cell_type": "markdown",
   "id": "f62d6616",
   "metadata": {},
   "source": [
    "&emsp;&emsp;首先，我们需要一个redis，建议使用docker直接运行：\n",
    "\n",
    "```shell\n",
    "docker run -p 6379:6379 -it redis/redis-stack:latest\n",
    "```\n",
    "\n",
    "执行后，docker会自动从hub把镜像拉到本地，默认是6379端口。"
   ]
  },
  {
   "cell_type": "markdown",
   "id": "f582fb4f",
   "metadata": {},
   "source": [
    "&emsp;&emsp;然后安装redis-py，也就是Redis的Python客户端：\n",
    "\n",
    "```shell\n",
    "pip install redis\n",
    "```\n",
    "\n",
    "这样我们就可以用Python和Redis进行交互了。"
   ]
  },
  {
   "cell_type": "markdown",
   "id": "471bbcef",
   "metadata": {},
   "source": [
    "&emsp;&emsp;先来个最简单的例子："
   ]
  },
  {
   "cell_type": "code",
   "execution_count": 49,
   "id": "1c69cfcd",
   "metadata": {},
   "outputs": [
    {
     "data": {
      "text/plain": [
       "True"
      ]
     },
     "execution_count": 49,
     "metadata": {},
     "output_type": "execute_result"
    }
   ],
   "source": [
    "import redis\n",
    "r = redis.Redis()\n",
    "r.set(\"key\", \"value\")"
   ]
  },
  {
   "cell_type": "code",
   "execution_count": 14,
   "id": "79532818",
   "metadata": {},
   "outputs": [
    {
     "data": {
      "text/plain": [
       "b'value'"
      ]
     },
     "execution_count": 14,
     "metadata": {},
     "output_type": "execute_result"
    }
   ],
   "source": [
    "r.get(\"key\")"
   ]
  },
  {
   "cell_type": "markdown",
   "id": "8103554d",
   "metadata": {},
   "source": [
    "&emsp;&emsp;如果大家使用过ElasticSearch，接下来的内容会非常容易理解。总的来说，和刚刚的步骤差不多，但是这里我们需要先建索引，然后生成Embedding并把它存储到Redis，再进行使用（从索引中搜索）。不过由于我们使用了工具，具体步骤会略微不同。"
   ]
  },
  {
   "cell_type": "markdown",
   "id": "d5a6d6dd",
   "metadata": {},
   "source": [
    "&emsp;&emsp;索引的概念和数据库中的索引有点相似，就是要定义一组Schema，告诉Redis你的字段是什么，有哪些属性。"
   ]
  },
  {
   "cell_type": "code",
   "execution_count": 50,
   "id": "afa5b12c",
   "metadata": {},
   "outputs": [],
   "source": [
    "VECTOR_DIM = 12288\n",
    "INDEX_NAME = \"faq\""
   ]
  },
  {
   "cell_type": "code",
   "execution_count": 16,
   "id": "e3bbdeaf",
   "metadata": {},
   "outputs": [],
   "source": [
    "from redis.commands.search.query import Query\n",
    "from redis.commands.search.field import TextField, VectorField"
   ]
  },
  {
   "cell_type": "code",
   "execution_count": 17,
   "id": "cdf4ab06",
   "metadata": {},
   "outputs": [],
   "source": [
    "# 建好要存字段的索引，针对不同属性字段，使用不同Field\n",
    "question = TextField(name=\"question\")\n",
    "answer = TextField(name=\"answer\")\n",
    "embedding = VectorField(\n",
    "    name=\"embedding\", \n",
    "    algorithm=\"HNSW\", \n",
    "    attributes={\n",
    "        \"TYPE\": \"FLOAT32\",\n",
    "        \"DIM\": VECTOR_DIM,\n",
    "        \"DISTANCE_METRIC\": \"COSINE\"\n",
    "    }\n",
    ")\n",
    "schema = (question, embedding, answer)\n",
    "index = r.ft(INDEX_NAME)\n",
    "try:\n",
    "    info = index.info()\n",
    "except:\n",
    "    index.create_index(schema)"
   ]
  },
  {
   "cell_type": "markdown",
   "id": "10793899",
   "metadata": {},
   "source": [
    ">Hierarchical Navigable Small Worlds "
   ]
  },
  {
   "cell_type": "code",
   "execution_count": 320,
   "id": "14b22b25",
   "metadata": {
    "scrolled": true
   },
   "outputs": [
    {
     "data": {
      "text/plain": [
       "b'OK'"
      ]
     },
     "execution_count": 320,
     "metadata": {},
     "output_type": "execute_result"
    }
   ],
   "source": [
    "# 如果需要删除已有文档的话，可以使用下面的命令\n",
    "index.dropindex(delete_documents=True)"
   ]
  },
  {
   "cell_type": "markdown",
   "id": "8ef78580",
   "metadata": {},
   "source": [
    "&emsp;&emsp;接下来就是把数据存到Redis。"
   ]
  },
  {
   "cell_type": "code",
   "execution_count": 322,
   "id": "71c0b706",
   "metadata": {},
   "outputs": [],
   "source": [
    "for v in df.head().itertuples():\n",
    "    emb = get_embedding(v.Questions)\n",
    "    # 注意，redis要存储bytes或string\n",
    "    emb = np.array(emb, dtype=np.float32).tobytes()\n",
    "    im = {\n",
    "        \"question\": v.Questions,\n",
    "        \"embedding\": emb,\n",
    "        \"answer\": v.Link\n",
    "    }\n",
    "    # 重点是这句\n",
    "    r.hset(name=f\"{INDEX_NAME}-{v.Index}\", mapping=im)"
   ]
  },
  {
   "cell_type": "markdown",
   "id": "13f954c8",
   "metadata": {},
   "source": [
    "&emsp;&emsp;然后我们就可以进行搜索查询了，这一步构造查询输入稍微有一点麻烦。"
   ]
  },
  {
   "cell_type": "code",
   "execution_count": null,
   "id": "f73cd66f",
   "metadata": {},
   "outputs": [],
   "source": [
    "# 构造查询输入\n",
    "query = \"kaggle alive?\"\n",
    "embed_query = get_embedding(query)\n",
    "params_dict = {\"query_embedding\": np.array(embed_query).astype(dtype=np.float32).tobytes()}"
   ]
  },
  {
   "cell_type": "code",
   "execution_count": 24,
   "id": "8f64e696",
   "metadata": {
    "code_folding": []
   },
   "outputs": [],
   "source": [
    "k = 3\n",
    "# {some filter query}=>[ KNN {num|$num} @vector_field $query_vec]\n",
    "base_query = f\"* => [KNN {k} @embedding $query_embedding AS similarity]\"\n",
    "return_fields = [\"question\", \"answer\", \"similarity\"]\n",
    "query = (\n",
    "    Query(base_query)\n",
    "     .return_fields(*return_fields)\n",
    "     .sort_by(\"similarity\")\n",
    "     .paging(0, k)\n",
    "     .dialect(2)\n",
    ")"
   ]
  },
  {
   "cell_type": "markdown",
   "id": "98ed9b6b",
   "metadata": {},
   "source": [
    "> KNN（K最近邻算法），简单来说就是对未知点，分别和已有的点算距离，挑距离最近的K个点。"
   ]
  },
  {
   "cell_type": "code",
   "execution_count": 365,
   "id": "00caba57",
   "metadata": {
    "scrolled": false
   },
   "outputs": [
    {
     "name": "stdout",
     "output_type": "stream",
     "text": [
      "faq-1, Is Kaggle dead?, /Is-Kaggle-dead (Score: 0.831)\n",
      "faq-2, How should a beginner get started on Kaggle?, /How-should-a-beginner-get-started-on-Kaggle (Score: 0.735)\n",
      "faq-3, What are some alternatives to Kaggle?, /What-are-some-alternatives-to-Kaggle (Score: 0.73)\n"
     ]
    }
   ],
   "source": [
    "# 查询\n",
    "res = index.search(query, params_dict)\n",
    "for i,doc in enumerate(res.docs):\n",
    "    score = 1 - float(doc.similarity)\n",
    "    print(f\"{doc.id}, {doc.question}, {doc.answer} (Score: {round(score ,3) })\")"
   ]
  },
  {
   "cell_type": "markdown",
   "id": "8dc777b1",
   "metadata": {},
   "source": [
    "&emsp;&emsp;上面，我们通过几种不同的方法为大家介绍了如何使用Embedding进行QA任务。简单回顾一下，要做QA任务首先咱们得有一个QA库，这些QA就是我们的仓库，每当一个新的问题过来时，我们就用这个问题去和咱们仓库里的每一个Q去匹配，然后找到最相似的那个，接下来就把该问题的Answer当做新问题的Answer交给用户。"
   ]
  },
  {
   "cell_type": "markdown",
   "id": "3dae402c",
   "metadata": {},
   "source": [
    "&emsp;&emsp;这个任务的核心就是如何找到这个最相似的，涉及两个知识点：如何表示一个Question，以及如何查找到相似的Question。对于第一点，我们用API提供的Embedding表示，我们可以把它当做一个黑盒子，输入任意长度的文本，输出一个向量。查找相似问题则主要是用到相似度算法，语义相似度一般用cosine距离来衡量。"
   ]
  },
  {
   "cell_type": "markdown",
   "id": "d71cbb7f",
   "metadata": {},
   "source": [
    "&emsp;&emsp;当然实际中可能会更加复杂一些，比如我们可能除了使用语义匹配，还会使用字词匹配（经典的做法）。而且，一般都会找到topN个相似的，然后对这topN个结果进行排序，选出最可能的那个。不过，这个前面我们举过例子了，完全可以通过ChatGPT来解决，让它帮你选出最好的那个。"
   ]
  },
  {
   "cell_type": "markdown",
   "id": "a6db5f4b",
   "metadata": {},
   "source": [
    "### 3.2 聚类"
   ]
  },
  {
   "cell_type": "markdown",
   "id": "a145fa4a",
   "metadata": {},
   "source": [
    "&emsp;&emsp;聚类的意思是把彼此相近的样本聚集在一起，本质也是在使用一种表示和相似度衡量来处理文本。比如我们有大量的未分类文本，如果事先能知道有几种类别，就可以用聚类的方法先将样本大致分一下。"
   ]
  },
  {
   "cell_type": "markdown",
   "id": "049b10f4",
   "metadata": {},
   "source": [
    "&emsp;&emsp;我们使用Kaggle的DBPedia数据集：[DBPedia Classes | Kaggle](https://www.kaggle.com/datasets/danofer/dbpedia-classes?select=DBPEDIA_val.csv)。\n",
    "\n",
    "&emsp;&emsp;这个数据集对一段文本会给出三个不同层次级别的分类标签，我们这里用第一层的类别。"
   ]
  },
  {
   "cell_type": "code",
   "execution_count": 1,
   "id": "bcbf3c00",
   "metadata": {},
   "outputs": [],
   "source": [
    "import pandas as pd"
   ]
  },
  {
   "cell_type": "code",
   "execution_count": 2,
   "id": "bb693b27",
   "metadata": {},
   "outputs": [
    {
     "data": {
      "text/plain": [
       "(36003, 4)"
      ]
     },
     "execution_count": 2,
     "metadata": {},
     "output_type": "execute_result"
    }
   ],
   "source": [
    "df = pd.read_csv(\"./dataset/DBPEDIA_val.csv\")\n",
    "df.shape"
   ]
  },
  {
   "cell_type": "code",
   "execution_count": 3,
   "id": "1ddd54fd",
   "metadata": {},
   "outputs": [
    {
     "data": {
      "text/html": [
       "<div>\n",
       "<style scoped>\n",
       "    .dataframe tbody tr th:only-of-type {\n",
       "        vertical-align: middle;\n",
       "    }\n",
       "\n",
       "    .dataframe tbody tr th {\n",
       "        vertical-align: top;\n",
       "    }\n",
       "\n",
       "    .dataframe thead th {\n",
       "        text-align: right;\n",
       "    }\n",
       "</style>\n",
       "<table border=\"1\" class=\"dataframe\">\n",
       "  <thead>\n",
       "    <tr style=\"text-align: right;\">\n",
       "      <th></th>\n",
       "      <th>text</th>\n",
       "      <th>l1</th>\n",
       "      <th>l2</th>\n",
       "      <th>l3</th>\n",
       "    </tr>\n",
       "  </thead>\n",
       "  <tbody>\n",
       "    <tr>\n",
       "      <th>0</th>\n",
       "      <td>Li Curt is a station on the Bernina Railway li...</td>\n",
       "      <td>Place</td>\n",
       "      <td>Station</td>\n",
       "      <td>RailwayStation</td>\n",
       "    </tr>\n",
       "    <tr>\n",
       "      <th>1</th>\n",
       "      <td>Grafton State Hospital was a psychiatric hospi...</td>\n",
       "      <td>Place</td>\n",
       "      <td>Building</td>\n",
       "      <td>Hospital</td>\n",
       "    </tr>\n",
       "    <tr>\n",
       "      <th>2</th>\n",
       "      <td>The Democratic Patriotic Alliance of Kurdistan...</td>\n",
       "      <td>Agent</td>\n",
       "      <td>Organisation</td>\n",
       "      <td>PoliticalParty</td>\n",
       "    </tr>\n",
       "    <tr>\n",
       "      <th>3</th>\n",
       "      <td>Ira Rakatansky (October 3, 1919 – March 4, 201...</td>\n",
       "      <td>Agent</td>\n",
       "      <td>Person</td>\n",
       "      <td>Architect</td>\n",
       "    </tr>\n",
       "    <tr>\n",
       "      <th>4</th>\n",
       "      <td>Universitatea Reșița is a women handball club ...</td>\n",
       "      <td>Agent</td>\n",
       "      <td>SportsTeam</td>\n",
       "      <td>HandballTeam</td>\n",
       "    </tr>\n",
       "  </tbody>\n",
       "</table>\n",
       "</div>"
      ],
      "text/plain": [
       "                                                text     l1            l2  \\\n",
       "0  Li Curt is a station on the Bernina Railway li...  Place       Station   \n",
       "1  Grafton State Hospital was a psychiatric hospi...  Place      Building   \n",
       "2  The Democratic Patriotic Alliance of Kurdistan...  Agent  Organisation   \n",
       "3  Ira Rakatansky (October 3, 1919 – March 4, 201...  Agent        Person   \n",
       "4  Universitatea Reșița is a women handball club ...  Agent    SportsTeam   \n",
       "\n",
       "               l3  \n",
       "0  RailwayStation  \n",
       "1        Hospital  \n",
       "2  PoliticalParty  \n",
       "3       Architect  \n",
       "4    HandballTeam  "
      ]
     },
     "execution_count": 3,
     "metadata": {},
     "output_type": "execute_result"
    }
   ],
   "source": [
    "df.head()"
   ]
  },
  {
   "cell_type": "markdown",
   "id": "7a2daff3",
   "metadata": {},
   "source": [
    "查看一下类别数量："
   ]
  },
  {
   "cell_type": "code",
   "execution_count": 6,
   "id": "013b32ae",
   "metadata": {},
   "outputs": [
    {
     "data": {
      "text/plain": [
       "Agent             18647\n",
       "Place              6855\n",
       "Species            3210\n",
       "Work               3141\n",
       "Event              2854\n",
       "SportsSeason        879\n",
       "UnitOfWork          263\n",
       "TopicalConcept      117\n",
       "Device               37\n",
       "Name: l1, dtype: int64"
      ]
     },
     "execution_count": 6,
     "metadata": {},
     "output_type": "execute_result"
    }
   ],
   "source": [
    "df.l1.value_counts()"
   ]
  },
  {
   "cell_type": "markdown",
   "id": "cb146545",
   "metadata": {},
   "source": [
    "数量有点多，我们随机采样200条："
   ]
  },
  {
   "cell_type": "code",
   "execution_count": 7,
   "id": "9c22c434",
   "metadata": {},
   "outputs": [
    {
     "data": {
      "text/plain": [
       "Agent             102\n",
       "Place              31\n",
       "Work               22\n",
       "Species            19\n",
       "Event              12\n",
       "SportsSeason       10\n",
       "UnitOfWork          3\n",
       "TopicalConcept      1\n",
       "Name: l1, dtype: int64"
      ]
     },
     "execution_count": 7,
     "metadata": {},
     "output_type": "execute_result"
    }
   ],
   "source": [
    "sdf = df.sample(200)\n",
    "sdf.l1.value_counts()"
   ]
  },
  {
   "cell_type": "markdown",
   "id": "65691d50",
   "metadata": {},
   "source": [
    "&emsp;&emsp;为了便于观察，我们只保留3个数量差不多的类别：Place、Work和Species。（类型太多时，样本点会混在一块难以观察，大家可以自己尝试。）"
   ]
  },
  {
   "cell_type": "code",
   "execution_count": 98,
   "id": "06a37228",
   "metadata": {},
   "outputs": [
    {
     "data": {
      "text/plain": [
       "(72, 6)"
      ]
     },
     "execution_count": 98,
     "metadata": {},
     "output_type": "execute_result"
    }
   ],
   "source": [
    "cdf = sdf[\n",
    "    (sdf.l1 == \"Place\") | (sdf.l1 == \"Work\") | (sdf.l1 == \"Species\")\n",
    "]\n",
    "cdf.shape"
   ]
  },
  {
   "cell_type": "markdown",
   "id": "42ce2778",
   "metadata": {},
   "source": [
    "&emsp;&emsp;接下来先把文本变成向量："
   ]
  },
  {
   "cell_type": "code",
   "execution_count": 99,
   "id": "a3042ac4",
   "metadata": {},
   "outputs": [],
   "source": [
    "from openai.embeddings_utils import get_embedding, cosine_similarity\n",
    "import openai\n",
    "import numpy as np\n",
    "OPENAI_API_KEY = \"填入专属的API key\"\n",
    "openai.api_key = OPENAI_API_KEY"
   ]
  },
  {
   "cell_type": "markdown",
   "id": "5c7a8186",
   "metadata": {},
   "source": [
    "&emsp;&emsp;我们前面提到过了，这里`get_embedding`可以支持多种模型（engine）选项，它默认的是：`text-similarity-davinci-001`，我们这里用另一个：`text-embedding-ada-002`，这个比较快（它的维度比前面的少很多）。"
   ]
  },
  {
   "cell_type": "code",
   "execution_count": 100,
   "id": "03626b17",
   "metadata": {},
   "outputs": [
    {
     "name": "stderr",
     "output_type": "stream",
     "text": [
      "<ipython-input-100-85f47cb77106>:1: SettingWithCopyWarning: \n",
      "A value is trying to be set on a copy of a slice from a DataFrame.\n",
      "Try using .loc[row_indexer,col_indexer] = value instead\n",
      "\n",
      "See the caveats in the documentation: https://pandas.pydata.org/pandas-docs/stable/user_guide/indexing.html#returning-a-view-versus-a-copy\n",
      "  cdf[\"embedding\"] = cdf.text.apply(lambda x: get_embedding(x, engine=\"text-embedding-ada-002\"))\n"
     ]
    }
   ],
   "source": [
    "cdf[\"embedding\"] = cdf.text.apply(lambda x: get_embedding(x, engine=\"text-embedding-ada-002\"))"
   ]
  },
  {
   "cell_type": "markdown",
   "id": "ae9200b4",
   "metadata": {},
   "source": [
    "&emsp;&emsp;接下来用PCA（主成分分析）给降维，将原来的向量从1536维降到3维，便于显示。"
   ]
  },
  {
   "cell_type": "code",
   "execution_count": 101,
   "id": "beb3f2d3",
   "metadata": {},
   "outputs": [
    {
     "name": "stderr",
     "output_type": "stream",
     "text": [
      "<ipython-input-101-3bc0b46a423a>:5: SettingWithCopyWarning: \n",
      "A value is trying to be set on a copy of a slice from a DataFrame.\n",
      "Try using .loc[row_indexer,col_indexer] = value instead\n",
      "\n",
      "See the caveats in the documentation: https://pandas.pydata.org/pandas-docs/stable/user_guide/indexing.html#returning-a-view-versus-a-copy\n",
      "  cdf[\"embed_vis\"] = vis_dims.tolist()\n"
     ]
    },
    {
     "data": {
      "text/plain": [
       "((72, 1536), (72, 3))"
      ]
     },
     "execution_count": 101,
     "metadata": {},
     "output_type": "execute_result"
    }
   ],
   "source": [
    "from sklearn.decomposition import PCA\n",
    "arr = np.array(cdf.embedding.to_list())\n",
    "pca = PCA(n_components=3)\n",
    "vis_dims = pca.fit_transform(arr)\n",
    "cdf[\"embed_vis\"] = vis_dims.tolist()\n",
    "arr.shape, vis_dims.shape"
   ]
  },
  {
   "cell_type": "code",
   "execution_count": 108,
   "id": "19e6be0c",
   "metadata": {
    "scrolled": false
   },
   "outputs": [
    {
     "data": {
      "image/png": "[encoded data removed]",
      "text/plain": [
       "<Figure size 576x576 with 1 Axes>"
      ]
     },
     "metadata": {
      "needs_background": "light"
     },
     "output_type": "display_data"
    }
   ],
   "source": [
    "%matplotlib inline\n",
    "import matplotlib.pyplot as plt\n",
    "import numpy as np\n",
    "\n",
    "fig, ax = plt.subplots(subplot_kw={\"projection\": \"3d\"}, figsize=(8, 8))\n",
    "cmap = plt.get_cmap(\"tab20\")\n",
    "categories = sorted(cdf.l1.unique())\n",
    "\n",
    "# 分别绘制每个类别\n",
    "for i, cat in enumerate(categories):\n",
    "    sub_matrix = np.array(cdf[cdf.l1 == cat][\"embed_vis\"].to_list())\n",
    "    x=sub_matrix[:, 0]\n",
    "    y=sub_matrix[:, 1]\n",
    "    z=sub_matrix[:, 2]\n",
    "    colors = [cmap(i/len(categories))] * len(sub_matrix)\n",
    "    ax.scatter(x, y, z, c=colors, label=cat)\n",
    "\n",
    "ax.legend(bbox_to_anchor=(1.2, 1))\n",
    "plt.show();"
   ]
  },
  {
   "cell_type": "markdown",
   "id": "ec8c20d7",
   "metadata": {},
   "source": [
    "&emsp;&emsp;可以比较明显的看出，三个不同类型的数据分别在不同的位置。"
   ]
  },
  {
   "cell_type": "markdown",
   "id": "4a4a5c96",
   "metadata": {},
   "source": [
    "### 3.3 推荐"
   ]
  },
  {
   "cell_type": "markdown",
   "id": "81667fec",
   "metadata": {},
   "source": [
    "&emsp;&emsp;我们在很多APP或网站上都能看到推荐功能。比如在购物网站，每当你登陆或者选购一件商品后，系统就会给你推荐一些相关的产品。在这一小节中，我们就来做一个类似的应用，不过我们推荐的不是商品，而是文本，比如帖子、文章、新闻等。"
   ]
  },
  {
   "cell_type": "markdown",
   "id": "c9c6d1b2",
   "metadata": {},
   "source": [
    "&emsp;&emsp;我们以新闻为例，先说一下基本逻辑：\n",
    "\n",
    "- 首先要有一个基础的文章库，可能包括标题、内容、标签等。\n",
    "- 计算已有文章的Embedding并存储。\n",
    "- 根据用户浏览记录，推荐和浏览记录最相似的文章。"
   ]
  },
  {
   "cell_type": "markdown",
   "id": "8e08ebc0",
   "metadata": {},
   "source": [
    "&emsp;&emsp;使用如下的数据集：[AG News Classification Dataset | Kaggle](https://www.kaggle.com/datasets/amananandrai/ag-news-classification-dataset?select=train.csv)"
   ]
  },
  {
   "cell_type": "markdown",
   "id": "a4ffd147",
   "metadata": {},
   "source": [
    "&emsp;&emsp;看起来好像和前面的QA差不多，事实也的确如此，因为它们本质上都是相似匹配问题。只不过QA使用的是用户的Question去匹配已有知识库，而推荐是使用用户的浏览记录去匹配。但是很明显，推荐相比QA要更复杂一些，主要包括以下几个方面：\n",
    "\n",
    "- 刚开始用户没有记录时的推荐（一般行业称为冷启动问题）。\n",
    "- 除了相似还有其他要考虑的因素：比如热门内容、新内容、内容多样性、随时间变化的兴趣变化等等。\n",
    "- 编码（Embedding输入）问题：我们应该取标题呢，还是文章，还是简要描述或者摘要，还是都要计算。\n",
    "- 规模问题：推荐面临的量级一般会远超QA，除了横向扩展机器，是否能从流程和算法设计上提升效率。\n",
    "- 用户反馈对推荐系统的影响问题：用户反感或喜欢与文章本身并没有直接关系，比如用户喜欢体育新闻但讨厌中国足球。\n",
    "- 线上实时更新问题。"
   ]
  },
  {
   "cell_type": "markdown",
   "id": "5afd0385",
   "metadata": {},
   "source": [
    "&emsp;&emsp;当然，一个完整的线上系统要考虑的因素可能更多。我们给大家列出这些只是希望读者在设计一个方案时能够充分调研和考虑，同时结合实际情况进行。反过来说，可能并不需要考虑上面的每个因素。所以，大家在实际操作时一定要活学活用，充分理解需求后再动手实施。"
   ]
  },
  {
   "cell_type": "markdown",
   "id": "107c5d93",
   "metadata": {},
   "source": [
    "&emsp;&emsp;我们这里综合考虑上面的因素给大家一个比较简单的方案，但务必注意，其中每个模块的方案都不是唯一的。整体设计如下：\n",
    "\n",
    "- 用户注册登录时，让其选择感兴趣的类型（如体育、音乐、时尚等），我们通过这一步将用户框在一个大的范围内，同时用来顺道解决冷启动问题。\n",
    "- 给用户推荐内容时，在知道类别（用户注册时选择+浏览记录）后，应依次考虑时效性、热门程度、多样性等。\n",
    "- 考虑到性能问题，可以编码「标题+摘要」。\n",
    "- 对大类别进一步细分，只在细分类别里进行相似度计算。\n",
    "- 记录用户实时行为（如浏览Item、浏览时长、评论、收藏、点赞、转发等）。\n",
    "- 动态更新内容库，更新用户行为库。"
   ]
  },
  {
   "cell_type": "markdown",
   "id": "6c5a81c4",
   "metadata": {},
   "source": [
    "&emsp;&emsp;在具体实施时，我们使用最常用的流程线方案：召回+排序。\n",
    "\n",
    "- 召回：通过各种不同属性或特征（如用户偏好、热点、行为等）先找到一批要推荐列表。\n",
    "- 排序：根据多样性、时效性、用户反馈、热门程度等属性对结果进行排序。"
   ]
  },
  {
   "cell_type": "code",
   "execution_count": 1,
   "id": "b2594de7",
   "metadata": {},
   "outputs": [],
   "source": [
    "from dataclasses import dataclass\n",
    "import pandas as pd"
   ]
  },
  {
   "cell_type": "code",
   "execution_count": 2,
   "id": "b92fdab4",
   "metadata": {},
   "outputs": [
    {
     "data": {
      "text/plain": [
       "(120000, 3)"
      ]
     },
     "execution_count": 2,
     "metadata": {},
     "output_type": "execute_result"
    }
   ],
   "source": [
    "df = pd.read_csv(\"./dataset/AG_News.csv\")\n",
    "df.shape"
   ]
  },
  {
   "cell_type": "code",
   "execution_count": 3,
   "id": "aa169a6d",
   "metadata": {},
   "outputs": [
    {
     "data": {
      "text/html": [
       "<div>\n",
       "<style scoped>\n",
       "    .dataframe tbody tr th:only-of-type {\n",
       "        vertical-align: middle;\n",
       "    }\n",
       "\n",
       "    .dataframe tbody tr th {\n",
       "        vertical-align: top;\n",
       "    }\n",
       "\n",
       "    .dataframe thead th {\n",
       "        text-align: right;\n",
       "    }\n",
       "</style>\n",
       "<table border=\"1\" class=\"dataframe\">\n",
       "  <thead>\n",
       "    <tr style=\"text-align: right;\">\n",
       "      <th></th>\n",
       "      <th>Class Index</th>\n",
       "      <th>Title</th>\n",
       "      <th>Description</th>\n",
       "    </tr>\n",
       "  </thead>\n",
       "  <tbody>\n",
       "    <tr>\n",
       "      <th>0</th>\n",
       "      <td>3</td>\n",
       "      <td>Wall St. Bears Claw Back Into the Black (Reuters)</td>\n",
       "      <td>Reuters - Short-sellers, Wall Street's dwindli...</td>\n",
       "    </tr>\n",
       "    <tr>\n",
       "      <th>1</th>\n",
       "      <td>3</td>\n",
       "      <td>Carlyle Looks Toward Commercial Aerospace (Reu...</td>\n",
       "      <td>Reuters - Private investment firm Carlyle Grou...</td>\n",
       "    </tr>\n",
       "    <tr>\n",
       "      <th>2</th>\n",
       "      <td>3</td>\n",
       "      <td>Oil and Economy Cloud Stocks' Outlook (Reuters)</td>\n",
       "      <td>Reuters - Soaring crude prices plus worries\\ab...</td>\n",
       "    </tr>\n",
       "    <tr>\n",
       "      <th>3</th>\n",
       "      <td>3</td>\n",
       "      <td>Iraq Halts Oil Exports from Main Southern Pipe...</td>\n",
       "      <td>Reuters - Authorities have halted oil export\\f...</td>\n",
       "    </tr>\n",
       "    <tr>\n",
       "      <th>4</th>\n",
       "      <td>3</td>\n",
       "      <td>Oil prices soar to all-time record, posing new...</td>\n",
       "      <td>AFP - Tearaway world oil prices, toppling reco...</td>\n",
       "    </tr>\n",
       "  </tbody>\n",
       "</table>\n",
       "</div>"
      ],
      "text/plain": [
       "   Class Index                                              Title  \\\n",
       "0            3  Wall St. Bears Claw Back Into the Black (Reuters)   \n",
       "1            3  Carlyle Looks Toward Commercial Aerospace (Reu...   \n",
       "2            3    Oil and Economy Cloud Stocks' Outlook (Reuters)   \n",
       "3            3  Iraq Halts Oil Exports from Main Southern Pipe...   \n",
       "4            3  Oil prices soar to all-time record, posing new...   \n",
       "\n",
       "                                         Description  \n",
       "0  Reuters - Short-sellers, Wall Street's dwindli...  \n",
       "1  Reuters - Private investment firm Carlyle Grou...  \n",
       "2  Reuters - Soaring crude prices plus worries\\ab...  \n",
       "3  Reuters - Authorities have halted oil export\\f...  \n",
       "4  AFP - Tearaway world oil prices, toppling reco...  "
      ]
     },
     "execution_count": 3,
     "metadata": {},
     "output_type": "execute_result"
    }
   ],
   "source": [
    "df.head()"
   ]
  },
  {
   "cell_type": "code",
   "execution_count": 21,
   "id": "5532f89f",
   "metadata": {},
   "outputs": [
    {
     "data": {
      "text/plain": [
       "3    30000\n",
       "4    30000\n",
       "2    30000\n",
       "1    30000\n",
       "Name: Class Index, dtype: int64"
      ]
     },
     "execution_count": 21,
     "metadata": {},
     "output_type": "execute_result"
    }
   ],
   "source": [
    "df[\"Class Index\"].value_counts()"
   ]
  },
  {
   "cell_type": "markdown",
   "id": "44389263",
   "metadata": {},
   "source": [
    "&emsp;&emsp;根据数据集介绍（上面的链接），四个类型分别是：1-World, 2-Sports, 3-Business, 4-Sci/Tech，每个类型有30000条数据，共12万条。接下来，我们将使用上面已经介绍的知识来做一个简单的流水线系统。"
   ]
  },
  {
   "cell_type": "markdown",
   "id": "20146b61",
   "metadata": {},
   "source": [
    "&emsp;&emsp;为了便于运行，依然取100条sample作为示例："
   ]
  },
  {
   "cell_type": "code",
   "execution_count": 9,
   "id": "bb785111",
   "metadata": {},
   "outputs": [],
   "source": [
    "sdf = df.sample(100)"
   ]
  },
  {
   "cell_type": "code",
   "execution_count": 10,
   "id": "aeb62886",
   "metadata": {},
   "outputs": [
    {
     "data": {
      "text/plain": [
       "2    28\n",
       "4    26\n",
       "1    24\n",
       "3    22\n",
       "Name: Class Index, dtype: int64"
      ]
     },
     "execution_count": 10,
     "metadata": {},
     "output_type": "execute_result"
    }
   ],
   "source": [
    "sdf[\"Class Index\"].value_counts()"
   ]
  },
  {
   "cell_type": "markdown",
   "id": "ff52441d",
   "metadata": {},
   "source": [
    "&emsp;&emsp;首先维护一个用户偏好和行为记录："
   ]
  },
  {
   "cell_type": "code",
   "execution_count": 35,
   "id": "7a93b84c",
   "metadata": {},
   "outputs": [],
   "source": [
    "from typing import List\n",
    "@dataclass\n",
    "class User:\n",
    "    \n",
    "    user_name: str\n",
    "\n",
    "@dataclass\n",
    "class UserPrefer:\n",
    "    \n",
    "    user_name: str\n",
    "    prefers: List[int]\n",
    "\n",
    "\n",
    "@dataclass\n",
    "class Item:\n",
    "    \n",
    "    item_id: str\n",
    "    item_props: dict\n",
    "\n",
    "\n",
    "@dataclass\n",
    "class Action:\n",
    "    \n",
    "    action_type: str\n",
    "    action_props: dict\n",
    "\n",
    "\n",
    "@dataclass\n",
    "class UserAction:\n",
    "    \n",
    "    user: User\n",
    "    item: Item\n",
    "    action: Action\n",
    "    action_time: str"
   ]
  },
  {
   "cell_type": "code",
   "execution_count": 232,
   "id": "509c10ee",
   "metadata": {},
   "outputs": [],
   "source": [
    "u1 = User(\"u1\")\n",
    "up1 = UserPrefer(\"u1\", [1, 2])\n",
    "# sdf.iloc[1] 正好是sport（类别为2）\n",
    "i1 = Item(\"i1\", {\n",
    "    \"id\": 1, \n",
    "    \"catetory\": \"sport\",\n",
    "    \"title\": \"Swimming: Shibata Joins Japanese Gold Rush\", \n",
    "    \"description\": \"\\\n",
    "    ATHENS (Reuters) - Ai Shibata wore down French teen-ager  Laure Manaudou to win the women's 800 meters \\\n",
    "    freestyle gold  medal at the Athens Olympics Friday and provide Japan with  their first female swimming \\\n",
    "    champion in 12 years.\", \n",
    "    \"content\": \"content\"\n",
    "})\n",
    "a1 = Action(\"浏览\", {\n",
    "    \"open_time\": \"2023-04-01 12:00:00\", \n",
    "    \"leave_time\": \"2023-04-01 14:00:00\",\n",
    "    \"type\": \"close\",\n",
    "    \"duration\": \"2hour\"\n",
    "})\n",
    "ua1 = UserAction(u1, i1, a1, \"2023-04-01 12:00:00\")"
   ]
  },
  {
   "cell_type": "markdown",
   "id": "0170ac93",
   "metadata": {},
   "source": [
    "&emsp;&emsp;计算所有文本的Embedding，这一步和之前一样："
   ]
  },
  {
   "cell_type": "code",
   "execution_count": 77,
   "id": "ab142d4e",
   "metadata": {},
   "outputs": [],
   "source": [
    "from openai.embeddings_utils import get_embedding, cosine_similarity\n",
    "from sklearn.metrics.pairwise import cosine_similarity\n",
    "import openai\n",
    "import numpy as np\n",
    "\n",
    "OPENAI_API_KEY = \"填入专属的API key\"\n",
    "openai.api_key = OPENAI_API_KEY"
   ]
  },
  {
   "cell_type": "code",
   "execution_count": 16,
   "id": "0def4599",
   "metadata": {},
   "outputs": [],
   "source": [
    "sdf[\"embedding\"] = sdf.apply(lambda x: \n",
    "                             get_embedding(x.Title + x.Description, engine=\"text-embedding-ada-002\"), axis=1)"
   ]
  },
  {
   "cell_type": "markdown",
   "id": "390b98e5",
   "metadata": {},
   "source": [
    "&emsp;&emsp;我们先处理一下召回："
   ]
  },
  {
   "cell_type": "code",
   "execution_count": 214,
   "id": "dc1590b5",
   "metadata": {},
   "outputs": [],
   "source": [
    "import random\n",
    "class Recall:\n",
    "    \n",
    "    def __init__(self, df: pd.DataFrame):\n",
    "        self.data = df\n",
    "    \n",
    "    def user_prefer_recall(self, user, n):\n",
    "        up = self.get_user_prefers(user)\n",
    "        idx = random.randrange(0, len(up.prefers))\n",
    "        return self.pick_by_idx(idx, n)\n",
    "    \n",
    "    def hot_recall(self, n):\n",
    "        # 随机进行示例\n",
    "        df = self.data.sample(n)\n",
    "        return df\n",
    "    \n",
    "    def user_action_recall(self, user, n):\n",
    "        actions = self.get_user_actions(user)\n",
    "        interest = self.get_most_interested_item(actions)\n",
    "        recoms = self.recommend_by_interest(interest, n)\n",
    "        return recoms\n",
    "    \n",
    "    def get_most_interested_item(self, user_action):\n",
    "        \"\"\"\n",
    "        可以选近一段时间内用户交互时间、次数、评论（相关属性）过的Item\n",
    "        \"\"\"\n",
    "        # 就是sdf的第2行，idx为1的那条作为最喜欢（假设）\n",
    "        # 是一条游泳相关的Item\n",
    "        idx = user_action.item.item_props[\"id\"]\n",
    "        im = self.data.iloc[idx]\n",
    "        return im\n",
    "    \n",
    "    def recommend_by_interest(self, interest, n):\n",
    "        cate_id = interest[\"Class Index\"]\n",
    "        q_emb = interest[\"embedding\"]\n",
    "        # 确定类别\n",
    "        base = self.data[self.data[\"Class Index\"] == cate_id]\n",
    "        # 此处可以复用QA那一段代码，用给定embedding计算base中embedding的相似度\n",
    "        base_arr = np.array(\n",
    "            [v.embedding for v in base.itertuples()]\n",
    "        )\n",
    "        q_arr = np.expand_dims(q_emb, 0)\n",
    "        sims = cosine_similarity(base_arr, q_arr)\n",
    "        # 排除掉自己\n",
    "        idxes = sims.argsort(0).squeeze()[-(n+1):-1]\n",
    "        return base.iloc[reversed(idxes.tolist())]\n",
    "    \n",
    "    def pick_by_idx(self, category, n):\n",
    "        df = self.data[self.data[\"Class Index\"] == category]\n",
    "        return df.sample(n)\n",
    "    \n",
    "    def get_user_actions(self, user):\n",
    "        dct = {\"u1\": ua1}\n",
    "        return dct[user.user_name]\n",
    "    \n",
    "    def get_user_prefers(self, user):\n",
    "        dct = {\"u1\": up1}\n",
    "        return dct[user.user_name]\n",
    "    \n",
    "    def run(self, user):\n",
    "        ur = self.user_action_recall(user, 5)\n",
    "        if len(ur) == 0:\n",
    "            ur = self.user_prefer_recall(user, 5)\n",
    "        hr = self.hot_recall(3)\n",
    "        return pd.concat([ur, hr], axis=0)"
   ]
  },
  {
   "cell_type": "code",
   "execution_count": 224,
   "id": "2a43c274",
   "metadata": {},
   "outputs": [],
   "source": [
    "r = Recall(sdf)"
   ]
  },
  {
   "cell_type": "code",
   "execution_count": 225,
   "id": "1b2993db",
   "metadata": {},
   "outputs": [],
   "source": [
    "rd = r.run(u1)"
   ]
  },
  {
   "cell_type": "code",
   "execution_count": 227,
   "id": "a8f4e021",
   "metadata": {
    "scrolled": false
   },
   "outputs": [
    {
     "data": {
      "text/html": [
       "<div>\n",
       "<style scoped>\n",
       "    .dataframe tbody tr th:only-of-type {\n",
       "        vertical-align: middle;\n",
       "    }\n",
       "\n",
       "    .dataframe tbody tr th {\n",
       "        vertical-align: top;\n",
       "    }\n",
       "\n",
       "    .dataframe thead th {\n",
       "        text-align: right;\n",
       "    }\n",
       "</style>\n",
       "<table border=\"1\" class=\"dataframe\">\n",
       "  <thead>\n",
       "    <tr style=\"text-align: right;\">\n",
       "      <th></th>\n",
       "      <th>Class Index</th>\n",
       "      <th>Title</th>\n",
       "      <th>Description</th>\n",
       "      <th>embedding</th>\n",
       "    </tr>\n",
       "  </thead>\n",
       "  <tbody>\n",
       "    <tr>\n",
       "      <th>12120</th>\n",
       "      <td>2</td>\n",
       "      <td>Olympics Wrap: Another Doping Controversy Surf...</td>\n",
       "      <td>ATHENS (Reuters) - Olympic chiefs ordered Hun...</td>\n",
       "      <td>[0.013697294518351555, 0.012140628881752491, 0...</td>\n",
       "    </tr>\n",
       "    <tr>\n",
       "      <th>5905</th>\n",
       "      <td>2</td>\n",
       "      <td>Saturday Night #39;s Alright for Blighty</td>\n",
       "      <td>Matthew Pinsents coxless four team, sailor Ben...</td>\n",
       "      <td>[-0.012345104478299618, -0.0025237693917006254...</td>\n",
       "    </tr>\n",
       "    <tr>\n",
       "      <th>29729</th>\n",
       "      <td>2</td>\n",
       "      <td>Beijing Paralympic Games to be fabulous: IPC P...</td>\n",
       "      <td>The 13th Summer Paralympic Games in 2008 in Be...</td>\n",
       "      <td>[-0.009852061048150063, 0.017894696444272995, ...</td>\n",
       "    </tr>\n",
       "    <tr>\n",
       "      <th>27215</th>\n",
       "      <td>2</td>\n",
       "      <td>Dent tops Luczak to win at China Open</td>\n",
       "      <td>Taylor Dent defeated Australian qualifier Pete...</td>\n",
       "      <td>[-0.004778657108545303, 0.014275987632572651, ...</td>\n",
       "    </tr>\n",
       "    <tr>\n",
       "      <th>72985</th>\n",
       "      <td>2</td>\n",
       "      <td>Rusedski through in St Petersburg</td>\n",
       "      <td>Greg Rusedski eased into the second round of t...</td>\n",
       "      <td>[-0.007127437274903059, 0.0025771241635084152,...</td>\n",
       "    </tr>\n",
       "    <tr>\n",
       "      <th>28344</th>\n",
       "      <td>3</td>\n",
       "      <td>Delta pilots wary of retirements</td>\n",
       "      <td>Union says pilots may retire en masse to get p...</td>\n",
       "      <td>[-0.03769957274198532, -0.032835111021995544, ...</td>\n",
       "    </tr>\n",
       "    <tr>\n",
       "      <th>80374</th>\n",
       "      <td>2</td>\n",
       "      <td>Everett powerless in loss to Prince George</td>\n",
       "      <td>Besides the final score, there is only one sta...</td>\n",
       "      <td>[-0.014837506227195263, -0.015726948156952858,...</td>\n",
       "    </tr>\n",
       "    <tr>\n",
       "      <th>64648</th>\n",
       "      <td>4</td>\n",
       "      <td>New Screening Technology Is Nigh</td>\n",
       "      <td>Machines built to find weapons hidden in cloth...</td>\n",
       "      <td>[-0.020757483318448067, -0.017689339816570282,...</td>\n",
       "    </tr>\n",
       "  </tbody>\n",
       "</table>\n",
       "</div>"
      ],
      "text/plain": [
       "       Class Index                                              Title  \\\n",
       "12120            2  Olympics Wrap: Another Doping Controversy Surf...   \n",
       "5905             2           Saturday Night #39;s Alright for Blighty   \n",
       "29729            2  Beijing Paralympic Games to be fabulous: IPC P...   \n",
       "27215            2              Dent tops Luczak to win at China Open   \n",
       "72985            2                  Rusedski through in St Petersburg   \n",
       "28344            3                   Delta pilots wary of retirements   \n",
       "80374            2         Everett powerless in loss to Prince George   \n",
       "64648            4                   New Screening Technology Is Nigh   \n",
       "\n",
       "                                             Description  \\\n",
       "12120   ATHENS (Reuters) - Olympic chiefs ordered Hun...   \n",
       "5905   Matthew Pinsents coxless four team, sailor Ben...   \n",
       "29729  The 13th Summer Paralympic Games in 2008 in Be...   \n",
       "27215  Taylor Dent defeated Australian qualifier Pete...   \n",
       "72985  Greg Rusedski eased into the second round of t...   \n",
       "28344  Union says pilots may retire en masse to get p...   \n",
       "80374  Besides the final score, there is only one sta...   \n",
       "64648  Machines built to find weapons hidden in cloth...   \n",
       "\n",
       "                                               embedding  \n",
       "12120  [0.013697294518351555, 0.012140628881752491, 0...  \n",
       "5905   [-0.012345104478299618, -0.0025237693917006254...  \n",
       "29729  [-0.009852061048150063, 0.017894696444272995, ...  \n",
       "27215  [-0.004778657108545303, 0.014275987632572651, ...  \n",
       "72985  [-0.007127437274903059, 0.0025771241635084152,...  \n",
       "28344  [-0.03769957274198532, -0.032835111021995544, ...  \n",
       "80374  [-0.014837506227195263, -0.015726948156952858,...  \n",
       "64648  [-0.020757483318448067, -0.017689339816570282,...  "
      ]
     },
     "execution_count": 227,
     "metadata": {},
     "output_type": "execute_result"
    }
   ],
   "source": [
    "# 共8个，5个用户行为推荐、3个热门\n",
    "rd"
   ]
  },
  {
   "cell_type": "markdown",
   "id": "48a8002c",
   "metadata": {},
   "source": [
    "&emsp;&emsp;需要再次说明的是，上面的只是一个大致的流程，实际中有很多细节或优化点需要注意，比如：\n",
    "\n",
    "- 建数据库表（上面的`get_`其实都是查表）\n",
    "- 将Item、User和Action也进行Embedding，全部使用Embedding后再做召回\n",
    "- 对『感兴趣`get_most_interested_item`』更多的优化，考虑更多行为和反馈，召回更多不同类型条目\n",
    "- 性能和自动更新数据的考虑\n",
    "- 线上评测，A/B等"
   ]
  },
  {
   "cell_type": "markdown",
   "id": "765ca69f",
   "metadata": {},
   "source": [
    "&emsp;&emsp;可以发现，我们虽然只做了召回一步，但其中涉及到的内容已经远远不止之前QA那一点了，QA用到的东西可能只是其中一小部分。不过事无绝对，即便是QA任务也可能根据实际情况不同需要做很多优化，比如召回+排序。但总体来说，类似推荐这样比较综合的系统相对来说会更加复杂一些。"
   ]
  },
  {
   "cell_type": "markdown",
   "id": "07e10ecc",
   "metadata": {},
   "source": [
    "&emsp;&emsp;后面就是排序了，这一步需要区分不同的应用场景，可以做或不做，做的话（就是对刚刚得到的列表进行排序）也可以简单或复杂。比如简单地按发布时间，复杂的综合考虑多样性、时效性、用户反馈、热门程度等多种属性。具体操作时，可以直接按相关属性排序，也可以用模型排序。这里就不再继续深入了。"
   ]
  },
  {
   "cell_type": "markdown",
   "id": "56189400",
   "metadata": {},
   "source": [
    "## 相关文献\n",
    "\n",
    "- 【1】[浅析文本分类 —— 情感分析与自然语言处理 | Yam](https://yam.gift/2021/10/27/NLP/2021-10-27-Senta/)\n",
    "- 【2】[句子表征综述 | Yam](https://yam.gift/2022/03/27/NLP/2022-03-27-Sentence-Representation-Summarization/)\n",
    "- 【3】[NLP 表征的历史与未来 | Yam](https://yam.gift/2020/12/12/NLP/2020-12-12-NLP-Representation-History-Future/)\n",
    "\n",
    "\n",
    "memo：\n",
    "\n",
    "- [openai-cookbook/Semantic_text_search_using_embeddings.ipynb at main · openai/openai-cookbook](https://github.com/openai/openai-cookbook/blob/main/examples/Semantic_text_search_using_embeddings.ipynb)\n",
    "- [openai-cookbook/getting-started-with-redis-and-openai.ipynb at main · openai/openai-cookbook](https://github.com/openai/openai-cookbook/blob/main/examples/vector_databases/redis/getting-started-with-redis-and-openai.ipynb)\n",
    "- [openai-cookbook/Visualizing_embeddings_in_3D.ipynb at main · openai/openai-cookbook](https://github.com/openai/openai-cookbook/blob/main/examples/Visualizing_embeddings_in_3D.ipynb)\n",
    "\n",
    "注①：感谢DataWhale成员于沼懿指出此处不严谨描述。"
   ]
  },
  {
   "cell_type": "code",
   "execution_count": null,
   "id": "abd26c9c",
   "metadata": {},
   "outputs": [],
   "source": []
  }
 ],
 "metadata": {
  "kernelspec": {
   "display_name": "Python 3",
   "language": "python",
   "name": "python3"
  },
  "language_info": {
   "codemirror_mode": {
    "name": "ipython",
    "version": 3
   },
   "file_extension": ".py",
   "mimetype": "text/x-python",
   "name": "python",
   "nbconvert_exporter": "python",
   "pygments_lexer": "ipython3",
   "version": "3.8.13"
  },
  "latex_envs": {
   "LaTeX_envs_menu_present": true,
   "autoclose": false,
   "autocomplete": true,
   "bibliofile": "biblio.bib",
   "cite_by": "apalike",
   "current_citInitial": 1,
   "eqLabelWithNumbers": true,
   "eqNumInitial": 1,
   "hotkeys": {
    "equation": "Ctrl-E",
    "itemize": "Ctrl-I"
   },
   "labels_anchors": false,
   "latex_user_defs": false,
   "report_style_numbering": false,
   "user_envs_cfg": false
  },
  "toc": {
   "base_numbering": 1,
   "nav_menu": {},
   "number_sections": false,
   "sideBar": true,
   "skip_h1_title": false,
   "title_cell": "Table of Contents",
   "title_sidebar": "Contents",
   "toc_cell": true,
   "toc_position": {
    "height": "calc(100% - 180px)",
    "left": "10px",
    "top": "150px",
    "width": "175px"
   },
   "toc_section_display": true,
   "toc_window_display": true
  }
 },
 "nbformat": 4,
 "nbformat_minor": 5
}
