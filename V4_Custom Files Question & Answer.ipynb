{
 "cells": [
  {
   "cell_type": "code",
   "execution_count": 1,
   "id": "ab9c5ac2",
   "metadata": {},
   "outputs": [
    {
     "name": "stdout",
     "output_type": "stream",
     "text": [
      "0.0.248\n"
     ]
    }
   ],
   "source": [
    "import langchain \n",
    "print(langchain.__version__)"
   ]
  },
  {
   "cell_type": "code",
   "execution_count": 83,
   "id": "ea2c536e",
   "metadata": {},
   "outputs": [],
   "source": [
    "from dotenv import load_dotenv, find_dotenv\n",
    "__ = load_dotenv(find_dotenv())#read the local .env file\n"
   ]
  },
  {
   "cell_type": "code",
   "execution_count": 2,
   "id": "ba917306",
   "metadata": {},
   "outputs": [],
   "source": [
    "import os\n",
    "os.environ[\"OPENAI_API_TYPE\"] = \"azure\"\n",
    "os.environ[\"OPENAI_API_VERSION\"] = \"2023-05-15\"\n",
    "os.environ[\"OPENAI_API_BASE\"] = \"https://mazcaeanclabopenai01.openai.azure.com\"\n"
   ]
  },
  {
   "cell_type": "code",
   "execution_count": 3,
   "id": "00f1ce2d",
   "metadata": {},
   "outputs": [],
   "source": [
    "# # Set this to `azure`\n",
    "# export OPENAI_API_TYPE=azure\n",
    "# # The API version you want to use: set this to `2023-05-15` for the released version.\n",
    "# export OPENAI_API_VERSION=2023-05-15\n",
    "# # The base URL for your Azure OpenAI resource. You can find this in the Azure portal under your Azure OpenAI resource.\n",
    "# export OPENAI_API_BASE=https://your-resource-name.openai.azure.com  \n",
    "# # The API key for your Azure OpenAI resource.  You can find this in the Azure portal under your Azure OpenAI resource.\n",
    "# export OPENAI_API_KEY=<your Azure OpenAI API key>"
   ]
  },
  {
   "cell_type": "code",
   "execution_count": 3,
   "id": "a4c2d76b",
   "metadata": {},
   "outputs": [],
   "source": [
    "from langchain.embeddings import HuggingFaceEmbeddings\n",
    "from langchain.vectorstores import FAISS\n",
    "from langchain.text_splitter import RecursiveCharacterTextSplitter,TokenTextSplitter\n",
    "from langchain import OpenAI\n",
    "from langchain.chains import RetrievalQA\n",
    "from langchain.document_loaders import DirectoryLoader\n",
    "import magic\n",
    "import os\n",
    "import nltk"
   ]
  },
  {
   "cell_type": "code",
   "execution_count": 4,
   "id": "cd750d77",
   "metadata": {},
   "outputs": [],
   "source": [
    "from langchain.document_loaders import PyPDFLoader\n",
    "\n",
    "loader =  PyPDFLoader(\"https://www.rogers.com/cms/pdf/en/Consumer_SUG_V20.pdf\")\n",
    "# Load up your text into documents\n",
    "data = loader.load()"
   ]
  },
  {
   "cell_type": "code",
   "execution_count": 5,
   "id": "a59ba19d",
   "metadata": {},
   "outputs": [],
   "source": [
    "from transformers import AutoTokenizer, AutoModel\n",
    "\n",
    "# Load model from HuggingFace Hub\n",
    "tokenizer = AutoTokenizer.from_pretrained('sentence-transformers/all-MiniLM-L6-v2')\n"
   ]
  },
  {
   "cell_type": "code",
   "execution_count": 6,
   "id": "3153f864",
   "metadata": {},
   "outputs": [],
   "source": [
    "#customize splitter which count token length instead of length, control the tokens to be less than 230\n",
    "#(256 as the upper limit of the embedding model)\n",
    "def huggingface_tokenizer_length(text: str) -> int:\n",
    "    return len(tokenizer.encode(text))\n",
    "text_splitter = RecursiveCharacterTextSplitter(chunk_size=230, chunk_overlap=20,length_function=huggingface_tokenizer_length)\n",
    "# Split your documents into texts\n",
    "texts = text_splitter.split_documents(data)"
   ]
  },
  {
   "cell_type": "code",
   "execution_count": 7,
   "id": "a8fa3f32",
   "metadata": {},
   "outputs": [
    {
     "name": "stdout",
     "output_type": "stream",
     "text": [
      "445\n",
      "595\n",
      "666\n",
      "774\n",
      "586\n",
      "666\n",
      "815\n",
      "731\n",
      "209\n",
      "836\n",
      "_____\n",
      "116\n",
      "138\n",
      "155\n",
      "166\n",
      "127\n",
      "152\n",
      "164\n",
      "156\n",
      "47\n",
      "190\n"
     ]
    }
   ],
   "source": [
    "for i in texts[:10]:\n",
    "    print(len(i.page_content))\n",
    "print(\"_____\")\n",
    "for i in texts[:10]:\n",
    "    print(huggingface_tokenizer_length(i.page_content))"
   ]
  },
  {
   "cell_type": "code",
   "execution_count": 8,
   "id": "d3f94283",
   "metadata": {},
   "outputs": [],
   "source": [
    "from langchain.embeddings import OpenAIEmbeddings\n",
    "embeddings=OpenAIEmbeddings(deployment='text-embedding-ada-002',\n",
    "                                model='text-embedding-ada-002',\n",
    "                                chunk_size=8)"
   ]
  },
  {
   "cell_type": "code",
   "execution_count": 9,
   "id": "734ed265",
   "metadata": {},
   "outputs": [],
   "source": [
    "# Get your docsearch ready\n",
    "from langchain.vectorstores import Chroma\n",
    "docsearch = Chroma.from_documents(texts, embeddings)"
   ]
  },
  {
   "cell_type": "code",
   "execution_count": 10,
   "id": "f1d5e9b3",
   "metadata": {},
   "outputs": [
    {
     "data": {
      "text/plain": [
       "<langchain.vectorstores.chroma.Chroma at 0x1f73a1ab490>"
      ]
     },
     "execution_count": 10,
     "metadata": {},
     "output_type": "execute_result"
    }
   ],
   "source": [
    "docsearch"
   ]
  },
  {
   "cell_type": "code",
   "execution_count": 11,
   "id": "573626b5",
   "metadata": {},
   "outputs": [],
   "source": [
    "from langchain.prompts import PromptTemplate\n",
    "prompt_template = \"\"\"\n",
    "        You are a customer service agent of Rogers Communications which is a telecommunication company in Canada.\n",
    "        You are helpful and honest on answering customers' questions.  \n",
    "\n",
    "        Use the following information about Rogers Communications to respond to \n",
    "        the customer's query acting as a customer service agent.\n",
    "        Context: {context}                                \n",
    "\n",
    "        Keep the response brief and only use the information given by the context. If you don't know the answer, just say that you don't know, don't try to make up an answer.\n",
    "\n",
    "        Customer: {question}\n",
    "        Customer service agent:\"\"\"\n",
    "PROMPT = PromptTemplate(\n",
    "    template=prompt_template, input_variables=[\"context\", \"question\"]\n",
    ")"
   ]
  },
  {
   "cell_type": "code",
   "execution_count": 13,
   "id": "6d6339ef",
   "metadata": {},
   "outputs": [],
   "source": [
    "from langchain.chat_models import AzureChatOpenAI\n",
    "llm = AzureChatOpenAI(\n",
    "    deployment_name=\"gpt-4-32k\",\n",
    "    model_name=\"gpt-4-32k\"\n",
    ")"
   ]
  },
  {
   "cell_type": "code",
   "execution_count": 14,
   "id": "ab55b4cb",
   "metadata": {},
   "outputs": [
    {
     "name": "stdout",
     "output_type": "stream",
     "text": [
      "cache=None verbose=False callbacks=None callback_manager=None tags=None metadata=None client=<class 'openai.api_resources.chat_completion.ChatCompletion'> model_name='gpt-4-32k' temperature=0.7 model_kwargs={} openai_api_key='27c9d423022649f1976f8a36029deea4' openai_api_base='https://mazcaeanclabopenai01.openai.azure.com' openai_organization='' openai_proxy='' request_timeout=None max_retries=6 streaming=False n=1 max_tokens=None tiktoken_model_name=None deployment_name='gpt-4-32k' openai_api_type='azure' openai_api_version='2023-05-15'\n"
     ]
    }
   ],
   "source": [
    "print(llm)"
   ]
  },
  {
   "cell_type": "code",
   "execution_count": 57,
   "id": "404779c9",
   "metadata": {},
   "outputs": [],
   "source": [
    "chain_type_kwargs = {\"prompt\": PROMPT, \"document_separator\": \"<<<<>>>>>\"}\n",
    "qa = RetrievalQA.from_chain_type(llm=llm, chain_type=\"stuff\", \n",
    "                                 retriever=docsearch.as_retriever(search_kwargs={\"k\": 2}), \n",
    "                                 chain_type_kwargs=chain_type_kwargs,\n",
    "                                 return_source_documents=True)"
   ]
  },
  {
   "cell_type": "markdown",
   "id": "8a030ce6",
   "metadata": {},
   "source": [
    "### LLM-Generated examples"
   ]
  },
  {
   "cell_type": "code",
   "execution_count": 58,
   "id": "3000edb0",
   "metadata": {},
   "outputs": [],
   "source": [
    "examples = [\n",
    "    {\n",
    "        \"query\": \"how to download ringtones?\",\n",
    "        \"answer\": \"To download ringtones, please follow these steps:\\\n",
    "            1. Select the Internet icon from your main menu and then select the Shop link from your mobile internet home page or text MUSIC to 555 for a link to the Music and Tones page.\\\n",
    "            2. Check out categories such as Top Sellers and Spotlights by selecting Ringtones.\\\n",
    "            3. Pick a ringtone of your choice, then click on the Download link. Once downloaded, an option will appear to set the new download as your ringtone\"\n",
    "    },\n",
    "    {\n",
    "        \"query\": \"How are my services invoiced for the first bill?\",\n",
    "        \"answer\": \"Your first bill includes both partial and regular charges. The regular charges include your monthly plan and any additional fees that are billed in advance for the upcoming month. Partial charges are calculated based on the length of time between your activation date and your invoice date. This covers your usage for that period.\"\n",
    "    }\n",
    "]"
   ]
  },
  {
   "cell_type": "code",
   "execution_count": 17,
   "id": "133186eb",
   "metadata": {},
   "outputs": [],
   "source": [
    "from langchain.evaluation.qa import QAGenerateChain\n",
    "example_gen_chain = QAGenerateChain.from_llm(llm)"
   ]
  },
  {
   "cell_type": "code",
   "execution_count": 19,
   "id": "29c8873c",
   "metadata": {},
   "outputs": [
    {
     "name": "stderr",
     "output_type": "stream",
     "text": [
      "C:\\Users\\yuncheng.liang\\AppData\\Roaming\\Python\\Python39\\site-packages\\langchain\\chains\\llm.py:303: UserWarning: The apply_and_parse method is deprecated, instead pass an output parser directly to LLMChain.\n",
      "  warnings.warn(\n"
     ]
    }
   ],
   "source": [
    "new_examples = example_gen_chain.apply_and_parse(\n",
    "    [{\"doc\": t} for t in data[:10]]\n",
    ")"
   ]
  },
  {
   "cell_type": "code",
   "execution_count": 20,
   "id": "26913455",
   "metadata": {},
   "outputs": [
    {
     "data": {
      "text/plain": [
       "{'qa_pairs': {'query': 'What is the website to get personalized info, How-To videos and support for Rogers services?',\n",
       "  'answer': 'The website is rogers.com/urstartup.'}}"
      ]
     },
     "execution_count": 20,
     "metadata": {},
     "output_type": "execute_result"
    }
   ],
   "source": [
    "new_examples[0]"
   ]
  },
  {
   "cell_type": "code",
   "execution_count": 21,
   "id": "62152c74",
   "metadata": {},
   "outputs": [
    {
     "data": {
      "text/plain": [
       "{'qa_pairs': {'query': \"How do you add new contacts to your phone's address book?\",\n",
       "  'answer': \"To add new contacts, find your phone’s Contacts or Address Book icon on the menu screen. Select 'Add Contact' and fill in the person’s details, then save your entry.\"}}"
      ]
     },
     "execution_count": 21,
     "metadata": {},
     "output_type": "execute_result"
    }
   ],
   "source": [
    "new_examples[1]"
   ]
  },
  {
   "cell_type": "code",
   "execution_count": 22,
   "id": "aa6cfff4",
   "metadata": {},
   "outputs": [
    {
     "data": {
      "text/plain": [
       "{'qa_pairs': {'query': 'What are some of the features available once registered with My Rogers?',\n",
       "  'answer': 'The features available once registered with My Rogers include visiting the Getting Started Centre, accessing your account, paying your bill, and monitoring your usage.'}}"
      ]
     },
     "execution_count": 22,
     "metadata": {},
     "output_type": "execute_result"
    }
   ],
   "source": [
    "new_examples[3]"
   ]
  },
  {
   "cell_type": "code",
   "execution_count": 50,
   "id": "d75eb31c",
   "metadata": {},
   "outputs": [
    {
     "data": {
      "text/plain": [
       "{'query': 'What is the website to get personalized info, How-To videos and support for Rogers services?',\n",
       " 'answer': 'The website is rogers.com/urstartup.'}"
      ]
     },
     "execution_count": 50,
     "metadata": {},
     "output_type": "execute_result"
    }
   ],
   "source": [
    "new_examples[0]['qa_pairs']"
   ]
  },
  {
   "cell_type": "code",
   "execution_count": 59,
   "id": "80db7649",
   "metadata": {},
   "outputs": [],
   "source": [
    "for i in new_examples:\n",
    "    examples.append(i['qa_pairs'])"
   ]
  },
  {
   "cell_type": "code",
   "execution_count": 60,
   "id": "49e6d883",
   "metadata": {},
   "outputs": [
    {
     "data": {
      "text/plain": [
       "[{'query': 'how to download ringtones?',\n",
       "  'answer': 'To download ringtones, please follow these steps:            1. Select the Internet icon from your main menu and then select the Shop link from your mobile internet home page or text MUSIC to 555 for a link to the Music and Tones page.            2. Check out categories such as Top Sellers and Spotlights by selecting Ringtones.            3. Pick a ringtone of your choice, then click on the Download link. Once downloaded, an option will appear to set the new download as your ringtone'},\n",
       " {'query': 'How are my services invoiced for the first bill?',\n",
       "  'answer': 'Your first bill includes both partial and regular charges. The regular charges include your monthly plan and any additional fees that are billed in advance for the upcoming month. Partial charges are calculated based on the length of time between your activation date and your invoice date. This covers your usage for that period.'},\n",
       " {'query': 'What is the website to get personalized info, How-To videos and support for Rogers services?',\n",
       "  'answer': 'The website is rogers.com/urstartup.'},\n",
       " {'query': \"How do you add new contacts to your phone's address book?\",\n",
       "  'answer': \"To add new contacts, find your phone’s Contacts or Address Book icon on the menu screen. Select 'Add Contact' and fill in the person’s details, then save your entry.\"},\n",
       " {'query': 'What is the functionality of QR or “Quick Response” codes?',\n",
       "  'answer': 'QR codes are two-dimensional black and white squares that you can scan with supported wireless devices to access additional content, such as videos, photo galleries, websites and more.'},\n",
       " {'query': 'What are some of the features available once registered with My Rogers?',\n",
       "  'answer': 'The features available once registered with My Rogers include visiting the Getting Started Centre, accessing your account, paying your bill, and monitoring your usage.'},\n",
       " {'query': 'How does Rogers calculate airtime charges for local and long distance calls?',\n",
       "  'answer': 'Airtime charges are rounded up to the next minute, with a one-minute minimum charge for all completed calls (made or received). The charges are based on the applicable rate at the beginning of the call.'},\n",
       " {'query': 'What does \"roaming\" mean in the context of wireless data usage?',\n",
       "  'answer': '\"Roaming\" means you’re outside of Canada, off the Rogers network, and using your phone while connected to a partner wireless network. Voice and data roaming charges vary according to country/region.'},\n",
       " {'query': 'What is MMS as referred to in the document?',\n",
       "  'answer': 'MMS stands for multimedia messaging service, which allows you to use your phone’s photo or video capabilities to send media to another wireless phone user.'},\n",
       " {'query': 'What are the steps to copy a contact from your SIM card to your contact list on a BlackBerry device?',\n",
       "  'answer': 'The steps are as follows: '},\n",
       " {'query': 'How can one navigate using a BlackBerry smartphone?',\n",
       "  'answer': 'BlackBerry smartphones have a built-in GPS that works with BlackBerry maps. It can give spoken, turn-by-turn driving directions in English and French to anywhere in Canada. It can also locate, call or navigate to restaurants, hotels, ATMs, Wi-Fi hot spots and more from a directory of millions of businesses. Rogers Navigator is another way to find your way.'},\n",
       " {'query': 'What are the steps to set up your Apple iPhone to send and receive email?',\n",
       "  'answer': '1. Press the home button to access the iPhone’s main menu screen.'}]"
      ]
     },
     "execution_count": 60,
     "metadata": {},
     "output_type": "execute_result"
    }
   ],
   "source": [
    "examples"
   ]
  },
  {
   "cell_type": "markdown",
   "id": "0e48fc98",
   "metadata": {},
   "source": [
    "## Manual Evaluation"
   ]
  },
  {
   "cell_type": "code",
   "execution_count": 25,
   "id": "b96c959e",
   "metadata": {},
   "outputs": [
    {
     "name": "stdout",
     "output_type": "stream",
     "text": [
      "\u001b[32;1m\u001b[1;3m[chain/start]\u001b[0m \u001b[1m[1:chain:RetrievalQA] Entering Chain run with input:\n",
      "\u001b[0m{\n",
      "  \"query\": \"how to download ringtones?\"\n",
      "}\n",
      "\u001b[32;1m\u001b[1;3m[chain/start]\u001b[0m \u001b[1m[1:chain:RetrievalQA > 3:chain:StuffDocumentsChain] Entering Chain run with input:\n",
      "\u001b[0m[inputs]\n",
      "\u001b[32;1m\u001b[1;3m[chain/start]\u001b[0m \u001b[1m[1:chain:RetrievalQA > 3:chain:StuffDocumentsChain > 4:chain:LLMChain] Entering Chain run with input:\n",
      "\u001b[0m{\n",
      "  \"question\": \"how to download ringtones?\",\n",
      "  \"context\": \"to the original point of purchase.Mobile Backup\\nHARdw ARe RetuRN PoliCy\\nGet the most out of each battery charge \\nso your phone is ready whenever you are.Tip BAtteRy PeRfoRMANCe  VAlue \\nPACksincluded inVAlue \\nPACksincluded in\\n1  Select the Internet icon \\nfrom your main menu. \\nThen select the Shop link from your mobile internet home page or text MUSIC  \\nto 555 for a link to the \\nMusic and Tones page.\\n2  Select Ringtones to check \\nout categories such as Top Sellers and Spotlights.\\n3   Select a ringtone, then click on the Download  \\nlink. Once downloaded, an option will appear to set the new download as your ringtone.how\\nto\\n04/05For details, applicable conditions and a list of supported \\ndevices, visit rogers.com/mobilebackup<<<<>>>>>the Ringbacks mobile store.\\nClick the link.\\n3   Now you can browse to download your Ringback.\\ntuRN RiNGBACks oN/off\\n1   Text ON or OFF to 555. You \\nwill receive a Ringbacks text message with a link.\\n2   Click on the link.\\n3   Under the heading Ringback ON/OFF, select ON or OFF.how\\nto\\nhow\\ntoGetting started\\nNow that you’ve got your new Rogers wireless phone, here’s how to set it up\\nVoicemail\\nYou’re not always available, but your voicemail is always working.\\n1  To access your voicemail,  \\nhold down the               button.\\n2  Follow the instructions to set up a personal password and record your name and a personal greeting (or use the default greeting).\\nhow\\nto\"\n",
      "}\n",
      "\u001b[32;1m\u001b[1;3m[llm/start]\u001b[0m \u001b[1m[1:chain:RetrievalQA > 3:chain:StuffDocumentsChain > 4:chain:LLMChain > 5:llm:AzureChatOpenAI] Entering LLM run with input:\n",
      "\u001b[0m{\n",
      "  \"prompts\": [\n",
      "    \"Human: \\n        You are a customer service agent of Rogers Communications which is a telecommunication company in Canada.\\n        You are helpful and honest on answering customers' questions.  \\n\\n        Use the following information about Rogers Communications to respond to \\n        the customer's query acting as a customer service agent.\\n        Context: to the original point of purchase.Mobile Backup\\nHARdw ARe RetuRN PoliCy\\nGet the most out of each battery charge \\nso your phone is ready whenever you are.Tip BAtteRy PeRfoRMANCe  VAlue \\nPACksincluded inVAlue \\nPACksincluded in\\n1  Select the Internet icon \\nfrom your main menu. \\nThen select the Shop link from your mobile internet home page or text MUSIC  \\nto 555 for a link to the \\nMusic and Tones page.\\n2  Select Ringtones to check \\nout categories such as Top Sellers and Spotlights.\\n3   Select a ringtone, then click on the Download  \\nlink. Once downloaded, an option will appear to set the new download as your ringtone.how\\nto\\n04/05For details, applicable conditions and a list of supported \\ndevices, visit rogers.com/mobilebackup<<<<>>>>>the Ringbacks mobile store.\\nClick the link.\\n3   Now you can browse to download your Ringback.\\ntuRN RiNGBACks oN/off\\n1   Text ON or OFF to 555. You \\nwill receive a Ringbacks text message with a link.\\n2   Click on the link.\\n3   Under the heading Ringback ON/OFF, select ON or OFF.how\\nto\\nhow\\ntoGetting started\\nNow that you’ve got your new Rogers wireless phone, here’s how to set it up\\nVoicemail\\nYou’re not always available, but your voicemail is always working.\\n1  To access your voicemail,  \\nhold down the               button.\\n2  Follow the instructions to set up a personal password and record your name and a personal greeting (or use the default greeting).\\nhow\\nto                                \\n\\n        Keep the response brief and only use the information given by the context. If you don't know the answer, just say that you don't know, don't try to make up an answer.\\n\\n        Customer: how to download ringtones?\\n        Customer service agent:\"\n",
      "  ]\n",
      "}\n",
      "\u001b[36;1m\u001b[1;3m[llm/end]\u001b[0m \u001b[1m[1:chain:RetrievalQA > 3:chain:StuffDocumentsChain > 4:chain:LLMChain > 5:llm:AzureChatOpenAI] [3.36s] Exiting LLM run with output:\n",
      "\u001b[0m{\n",
      "  \"generations\": [\n",
      "    [\n",
      "      {\n",
      "        \"text\": \"To download ringtones, please follow these steps:\\n\\n1. Select the Internet icon from your main menu. \\n2. Then select the Shop link from your mobile internet home page or text MUSIC to 555 for a link to the Music and Tones page.\\n3. Select Ringtones to check out categories such as Top Sellers and Spotlights.\\n4. Select a ringtone, then click on the Download link. Once downloaded, an option will appear to set the new download as your ringtone.\\n\\nFor more details and applicable conditions, you can visit rogers.com/mobilebackup.\",\n",
      "        \"generation_info\": {\n",
      "          \"finish_reason\": \"stop\"\n",
      "        },\n",
      "        \"message\": {\n",
      "          \"lc\": 1,\n",
      "          \"type\": \"constructor\",\n",
      "          \"id\": [\n",
      "            \"langchain\",\n",
      "            \"schema\",\n",
      "            \"messages\",\n",
      "            \"AIMessage\"\n",
      "          ],\n",
      "          \"kwargs\": {\n",
      "            \"content\": \"To download ringtones, please follow these steps:\\n\\n1. Select the Internet icon from your main menu. \\n2. Then select the Shop link from your mobile internet home page or text MUSIC to 555 for a link to the Music and Tones page.\\n3. Select Ringtones to check out categories such as Top Sellers and Spotlights.\\n4. Select a ringtone, then click on the Download link. Once downloaded, an option will appear to set the new download as your ringtone.\\n\\nFor more details and applicable conditions, you can visit rogers.com/mobilebackup.\",\n",
      "            \"additional_kwargs\": {}\n",
      "          }\n",
      "        }\n",
      "      }\n",
      "    ]\n",
      "  ],\n",
      "  \"llm_output\": {\n",
      "    \"token_usage\": {\n",
      "      \"completion_tokens\": 118,\n",
      "      \"prompt_tokens\": 487,\n",
      "      \"total_tokens\": 605\n",
      "    },\n",
      "    \"model_name\": \"gpt-4-32k\"\n",
      "  },\n",
      "  \"run\": null\n",
      "}\n",
      "\u001b[36;1m\u001b[1;3m[chain/end]\u001b[0m \u001b[1m[1:chain:RetrievalQA > 3:chain:StuffDocumentsChain > 4:chain:LLMChain] [3.37s] Exiting Chain run with output:\n",
      "\u001b[0m{\n",
      "  \"text\": \"To download ringtones, please follow these steps:\\n\\n1. Select the Internet icon from your main menu. \\n2. Then select the Shop link from your mobile internet home page or text MUSIC to 555 for a link to the Music and Tones page.\\n3. Select Ringtones to check out categories such as Top Sellers and Spotlights.\\n4. Select a ringtone, then click on the Download link. Once downloaded, an option will appear to set the new download as your ringtone.\\n\\nFor more details and applicable conditions, you can visit rogers.com/mobilebackup.\"\n",
      "}\n",
      "\u001b[36;1m\u001b[1;3m[chain/end]\u001b[0m \u001b[1m[1:chain:RetrievalQA > 3:chain:StuffDocumentsChain] [3.37s] Exiting Chain run with output:\n",
      "\u001b[0m{\n",
      "  \"output_text\": \"To download ringtones, please follow these steps:\\n\\n1. Select the Internet icon from your main menu. \\n2. Then select the Shop link from your mobile internet home page or text MUSIC to 555 for a link to the Music and Tones page.\\n3. Select Ringtones to check out categories such as Top Sellers and Spotlights.\\n4. Select a ringtone, then click on the Download link. Once downloaded, an option will appear to set the new download as your ringtone.\\n\\nFor more details and applicable conditions, you can visit rogers.com/mobilebackup.\"\n",
      "}\n",
      "\u001b[36;1m\u001b[1;3m[chain/end]\u001b[0m \u001b[1m[1:chain:RetrievalQA] [3.72s] Exiting Chain run with output:\n",
      "\u001b[0m[outputs]\n"
     ]
    },
    {
     "data": {
      "text/plain": [
       "{'query': 'how to download ringtones?',\n",
       " 'result': 'To download ringtones, please follow these steps:\\n\\n1. Select the Internet icon from your main menu. \\n2. Then select the Shop link from your mobile internet home page or text MUSIC to 555 for a link to the Music and Tones page.\\n3. Select Ringtones to check out categories such as Top Sellers and Spotlights.\\n4. Select a ringtone, then click on the Download link. Once downloaded, an option will appear to set the new download as your ringtone.\\n\\nFor more details and applicable conditions, you can visit rogers.com/mobilebackup.',\n",
       " 'source_documents': [Document(page_content='to the original point of purchase.Mobile Backup\\nHARdw ARe RetuRN PoliCy\\nGet the most out of each battery charge \\nso your phone is ready whenever you are.Tip BAtteRy PeRfoRMANCe  VAlue \\nPACksincluded inVAlue \\nPACksincluded in\\n1  Select the Internet icon \\nfrom your main menu. \\nThen select the Shop link from your mobile internet home page or text MUSIC  \\nto 555 for a link to the \\nMusic and Tones page.\\n2  Select Ringtones to check \\nout categories such as Top Sellers and Spotlights.\\n3   Select a ringtone, then click on the Download  \\nlink. Once downloaded, an option will appear to set the new download as your ringtone.how\\nto\\n04/05For details, applicable conditions and a list of supported \\ndevices, visit rogers.com/mobilebackup', metadata={'page': 2, 'source': 'C:\\\\Users\\\\YUNCHE~1.LIA\\\\AppData\\\\Local\\\\Temp\\\\tmp7ju8xhnp\\\\tmp.pdf'}),\n",
       "  Document(page_content='the Ringbacks mobile store.\\nClick the link.\\n3   Now you can browse to download your Ringback.\\ntuRN RiNGBACks oN/off\\n1   Text ON or OFF to 555. You \\nwill receive a Ringbacks text message with a link.\\n2   Click on the link.\\n3   Under the heading Ringback ON/OFF, select ON or OFF.how\\nto\\nhow\\ntoGetting started\\nNow that you’ve got your new Rogers wireless phone, here’s how to set it up\\nVoicemail\\nYou’re not always available, but your voicemail is always working.\\n1  To access your voicemail,  \\nhold down the               button.\\n2  Follow the instructions to set up a personal password and record your name and a personal greeting (or use the default greeting).\\nhow\\nto', metadata={'page': 1, 'source': 'C:\\\\Users\\\\YUNCHE~1.LIA\\\\AppData\\\\Local\\\\Temp\\\\tmp7ju8xhnp\\\\tmp.pdf'})]}"
      ]
     },
     "execution_count": 25,
     "metadata": {},
     "output_type": "execute_result"
    }
   ],
   "source": [
    "langchain.debug = True\n",
    "qa({\"query\": examples[0][\"query\"]})"
   ]
  },
  {
   "cell_type": "code",
   "execution_count": 26,
   "id": "417877ff",
   "metadata": {},
   "outputs": [],
   "source": [
    "langchain.debug = False"
   ]
  },
  {
   "cell_type": "markdown",
   "id": "8d7eb0b8",
   "metadata": {},
   "source": [
    "## LLM assisted evaluation"
   ]
  },
  {
   "cell_type": "code",
   "execution_count": 70,
   "id": "b51422d1",
   "metadata": {},
   "outputs": [],
   "source": [
    "qa.return_source_documents=False"
   ]
  },
  {
   "cell_type": "code",
   "execution_count": 72,
   "id": "6c990f0b",
   "metadata": {},
   "outputs": [],
   "source": [
    "predictions=qa.apply(examples)"
   ]
  },
  {
   "cell_type": "code",
   "execution_count": 73,
   "id": "fd29d042",
   "metadata": {},
   "outputs": [
    {
     "data": {
      "text/plain": [
       "[{'query': 'how to download ringtones?',\n",
       "  'answer': 'To download ringtones, please follow these steps:            1. Select the Internet icon from your main menu and then select the Shop link from your mobile internet home page or text MUSIC to 555 for a link to the Music and Tones page.            2. Check out categories such as Top Sellers and Spotlights by selecting Ringtones.            3. Pick a ringtone of your choice, then click on the Download link. Once downloaded, an option will appear to set the new download as your ringtone',\n",
       "  'result': 'To download ringtones, please follow these steps:\\n\\n1. Select the Internet icon from your main menu. Then select the Shop link from your mobile internet home page or text MUSIC to 555 for a link to the Music and Tones page.\\n2. Select Ringtones to check out categories such as Top Sellers and Spotlights.\\n3. Select a ringtone, then click on the Download link. Once downloaded, an option will appear to set the new download as your ringtone.\\n\\nFor more details and a list of supported devices, please visit rogers.com/mobilebackup.'},\n",
       " {'query': 'How are my services invoiced for the first bill?',\n",
       "  'answer': 'Your first bill includes both partial and regular charges. The regular charges include your monthly plan and any additional fees that are billed in advance for the upcoming month. Partial charges are calculated based on the length of time between your activation date and your invoice date. This covers your usage for that period.',\n",
       "  'result': 'Your first bill includes both partial charges and regular charges. The regular charges are for your monthly plan and any add-ons, which are billed in advance for the following month. The partial charges cover the period between your activation date and your invoice date. This is because your activation date and billing period don\\'t always start on the same date, so your usage is pro-rated. If you go over your monthly usage limits, these extra charges will appear on your next invoice in the \"Regular Charges\" section.'},\n",
       " {'query': 'What is the website to get personalized info, How-To videos and support for Rogers services?',\n",
       "  'answer': 'The website is rogers.com/urstartup.',\n",
       "  'result': 'The website to get personalized information, How-To videos and support for your Rogers services is rogers.com/urstartup.'},\n",
       " {'query': \"How do you add new contacts to your phone's address book?\",\n",
       "  'answer': \"To add new contacts, find your phone’s Contacts or Address Book icon on the menu screen. Select 'Add Contact' and fill in the person’s details, then save your entry.\",\n",
       "  'result': \"To add new contacts to your phone's address book, follow these steps:\\n\\n1. Find your phone’s Contacts or Address Book icon on the menu screen.\\n2. Select Add Contact and fill in the person’s details.\\n3. Save your entry.\\n\\nNote that additional information such as email addresses, secondary numbers, or other data fields will not be imported.\"},\n",
       " {'query': 'What is the functionality of QR or “Quick Response” codes?',\n",
       "  'answer': 'QR codes are two-dimensional black and white squares that you can scan with supported wireless devices to access additional content, such as videos, photo galleries, websites and more.',\n",
       "  'result': 'QR or “Quick Response” codes are two-dimensional black and white squares. They can be scanned with supported wireless devices using a scanner app. Once scanned, they provide access to additional content, such as videos, photo galleries, websites, and more. You can find these codes in various places like magazines and newspapers. Your phone’s browser will direct you to the relevant content once the QR code is scanned.'},\n",
       " {'query': 'What are some of the features available once registered with My Rogers?',\n",
       "  'answer': 'The features available once registered with My Rogers include visiting the Getting Started Centre, accessing your account, paying your bill, and monitoring your usage.',\n",
       "  'result': 'Once registered with My Rogers, you can access the Getting Started Centre where you can find useful product tips and tutorials, watch helpful How-To videos and read frequently asked questions. You can also manage your account details, such as changing contact details, managing your MY5 list, checking your plan or adding a Value Pack. Additionally, you can make bill payments and manage your accounts online. For smartphone users, the My Account app is available for download, enabling you to check usage, update your MY5 list, pay bills and more.'},\n",
       " {'query': 'How does Rogers calculate airtime charges for local and long distance calls?',\n",
       "  'answer': 'Airtime charges are rounded up to the next minute, with a one-minute minimum charge for all completed calls (made or received). The charges are based on the applicable rate at the beginning of the call.',\n",
       "  'result': 'Rogers calculates airtime charges for both local and long distance calls based on the rate at the start of the call. The charges are rounded up to the next minute, with a one-minute minimum charge for all completed calls. For outgoing calls, charges apply from the time you press SEND until you press END. For incoming calls, charges apply from when the caller initiates the call by pressing SEND and includes the ring time. Long distance calls incur both airtime and long distance charges.'},\n",
       " {'query': 'What does \"roaming\" mean in the context of wireless data usage?',\n",
       "  'answer': '\"Roaming\" means you’re outside of Canada, off the Rogers network, and using your phone while connected to a partner wireless network. Voice and data roaming charges vary according to country/region.',\n",
       "  'result': '\"Roaming\" refers to when you are outside of Canada, off the Rogers network, and using your phone while connected to a partner wireless network. Voice and data roaming charges may apply and these can vary depending on the country or region you are in.'},\n",
       " {'query': 'What is MMS as referred to in the document?',\n",
       "  'answer': 'MMS stands for multimedia messaging service, which allows you to use your phone’s photo or video capabilities to send media to another wireless phone user.',\n",
       "  'result': \"MMS stands for Multimedia Messaging Service. It allows you to use your phone's photo or video capabilities to send media such as pictures, videos, or even audio files to another wireless phone user. You can create an MMS by taking a photo or video, then creating a message or composing MMS from your messaging menu, adding a text message to accompany the media if you wish, then entering the recipient's phone number or email address and pressing send.\"},\n",
       " {'query': 'What are the steps to copy a contact from your SIM card to your contact list on a BlackBerry device?',\n",
       "  'answer': 'The steps are as follows: ',\n",
       "  'result': 'Here are the steps to copy a contact from your SIM card to your contact list on a BlackBerry device: \\n\\n1. In the contact list, press the key > SIM Phone Book.\\n2. Press the key > Copy All to Contacts. \\n\\nThese steps will allow you to transfer all contacts from your SIM card to your contact list.'},\n",
       " {'query': 'How can one navigate using a BlackBerry smartphone?',\n",
       "  'answer': 'BlackBerry smartphones have a built-in GPS that works with BlackBerry maps. It can give spoken, turn-by-turn driving directions in English and French to anywhere in Canada. It can also locate, call or navigate to restaurants, hotels, ATMs, Wi-Fi hot spots and more from a directory of millions of businesses. Rogers Navigator is another way to find your way.',\n",
       "  'result': 'One can navigate using a BlackBerry smartphone with the help of built-in GPS and BlackBerry maps, which are included in the device. Additionally, Rogers Navigator is also a reliable way to find your way. It provides spoken, turn-by-turn driving directions in both English and French. Users can locate, call, or navigate to restaurants, hotels, ATMs, Wi-Fi hot spots and more from a directory of millions of businesses.'},\n",
       " {'query': 'What are the steps to set up your Apple iPhone to send and receive email?',\n",
       "  'answer': '1. Press the home button to access the iPhone’s main menu screen.',\n",
       "  'result': 'To set up your Apple iPhone to send and receive email, follow these steps:\\n\\n1. Press the home button to access the iPhone’s main menu screen.\\n2. Tap the grey Settings icon (a picture of gears) and select Mail, Contacts, Calendars.\\n3. Choose Add Account and select your email provider. Type in your info, such as name, email address, and password.\\n4. You can also select other options, such as having your messages pushed to the phone, choosing how many to show on the screen at once, and more.\\n5. To read your email, press the home button, then tap the Mail icon at the bottom of the screen.'}]"
      ]
     },
     "execution_count": 73,
     "metadata": {},
     "output_type": "execute_result"
    }
   ],
   "source": [
    "predictions"
   ]
  },
  {
   "cell_type": "code",
   "execution_count": 74,
   "id": "d2b77bc2",
   "metadata": {},
   "outputs": [],
   "source": [
    "from langchain.evaluation.qa import QAEvalChain\n",
    "eval_chain = QAEvalChain.from_llm(llm)"
   ]
  },
  {
   "cell_type": "code",
   "execution_count": 75,
   "metadata": {},
   "outputs": [],
   "source": [
    "graded_outputs = eval_chain.evaluate(examples, predictions)"
   ]
  },
  {
   "cell_type": "code",
   "execution_count": 77,
   "id": "c8c47001",
   "metadata": {},
   "outputs": [
    {
     "data": {
      "text/plain": [
       "[{'results': 'CORRECT'},\n",
       " {'results': 'CORRECT'},\n",
       " {'results': 'CORRECT'},\n",
       " {'results': 'CORRECT'},\n",
       " {'results': 'CORRECT'},\n",
       " {'results': 'CORRECT'},\n",
       " {'results': 'CORRECT'},\n",
       " {'results': 'CORRECT'},\n",
       " {'results': 'CORRECT'},\n",
       " {'results': 'CORRECT'},\n",
       " {'results': 'CORRECT'},\n",
       " {'results': 'CORRECT'}]"
      ]
     },
     "execution_count": 77,
     "metadata": {},
     "output_type": "execute_result"
    }
   ],
   "source": [
    "graded_outputs"
   ]
  },
  {
   "cell_type": "code",
   "execution_count": 78,
   "id": "1c4798e7",
   "metadata": {},
   "outputs": [
    {
     "name": "stdout",
     "output_type": "stream",
     "text": [
      "Example 0:\n",
      "Question: how to download ringtones?\n",
      "Real Answer: To download ringtones, please follow these steps:            1. Select the Internet icon from your main menu and then select the Shop link from your mobile internet home page or text MUSIC to 555 for a link to the Music and Tones page.            2. Check out categories such as Top Sellers and Spotlights by selecting Ringtones.            3. Pick a ringtone of your choice, then click on the Download link. Once downloaded, an option will appear to set the new download as your ringtone\n",
      "Predicted Answer: To download ringtones, please follow these steps:\n",
      "\n",
      "1. Select the Internet icon from your main menu. Then select the Shop link from your mobile internet home page or text MUSIC to 555 for a link to the Music and Tones page.\n",
      "2. Select Ringtones to check out categories such as Top Sellers and Spotlights.\n",
      "3. Select a ringtone, then click on the Download link. Once downloaded, an option will appear to set the new download as your ringtone.\n",
      "\n",
      "For more details and a list of supported devices, please visit rogers.com/mobilebackup.\n",
      "Predicted Grade: CORRECT\n",
      "\n",
      "Example 1:\n",
      "Question: How are my services invoiced for the first bill?\n",
      "Real Answer: Your first bill includes both partial and regular charges. The regular charges include your monthly plan and any additional fees that are billed in advance for the upcoming month. Partial charges are calculated based on the length of time between your activation date and your invoice date. This covers your usage for that period.\n",
      "Predicted Answer: Your first bill includes both partial charges and regular charges. The regular charges are for your monthly plan and any add-ons, which are billed in advance for the following month. The partial charges cover the period between your activation date and your invoice date. This is because your activation date and billing period don't always start on the same date, so your usage is pro-rated. If you go over your monthly usage limits, these extra charges will appear on your next invoice in the \"Regular Charges\" section.\n",
      "Predicted Grade: CORRECT\n",
      "\n",
      "Example 2:\n",
      "Question: What is the website to get personalized info, How-To videos and support for Rogers services?\n",
      "Real Answer: The website is rogers.com/urstartup.\n",
      "Predicted Answer: The website to get personalized information, How-To videos and support for your Rogers services is rogers.com/urstartup.\n",
      "Predicted Grade: CORRECT\n",
      "\n",
      "Example 3:\n",
      "Question: How do you add new contacts to your phone's address book?\n",
      "Real Answer: To add new contacts, find your phone’s Contacts or Address Book icon on the menu screen. Select 'Add Contact' and fill in the person’s details, then save your entry.\n",
      "Predicted Answer: To add new contacts to your phone's address book, follow these steps:\n",
      "\n",
      "1. Find your phone’s Contacts or Address Book icon on the menu screen.\n",
      "2. Select Add Contact and fill in the person’s details.\n",
      "3. Save your entry.\n",
      "\n",
      "Note that additional information such as email addresses, secondary numbers, or other data fields will not be imported.\n",
      "Predicted Grade: CORRECT\n",
      "\n",
      "Example 4:\n",
      "Question: What is the functionality of QR or “Quick Response” codes?\n",
      "Real Answer: QR codes are two-dimensional black and white squares that you can scan with supported wireless devices to access additional content, such as videos, photo galleries, websites and more.\n",
      "Predicted Answer: QR or “Quick Response” codes are two-dimensional black and white squares. They can be scanned with supported wireless devices using a scanner app. Once scanned, they provide access to additional content, such as videos, photo galleries, websites, and more. You can find these codes in various places like magazines and newspapers. Your phone’s browser will direct you to the relevant content once the QR code is scanned.\n",
      "Predicted Grade: CORRECT\n",
      "\n",
      "Example 5:\n",
      "Question: What are some of the features available once registered with My Rogers?\n",
      "Real Answer: The features available once registered with My Rogers include visiting the Getting Started Centre, accessing your account, paying your bill, and monitoring your usage.\n",
      "Predicted Answer: Once registered with My Rogers, you can access the Getting Started Centre where you can find useful product tips and tutorials, watch helpful How-To videos and read frequently asked questions. You can also manage your account details, such as changing contact details, managing your MY5 list, checking your plan or adding a Value Pack. Additionally, you can make bill payments and manage your accounts online. For smartphone users, the My Account app is available for download, enabling you to check usage, update your MY5 list, pay bills and more.\n",
      "Predicted Grade: CORRECT\n",
      "\n",
      "Example 6:\n",
      "Question: How does Rogers calculate airtime charges for local and long distance calls?\n",
      "Real Answer: Airtime charges are rounded up to the next minute, with a one-minute minimum charge for all completed calls (made or received). The charges are based on the applicable rate at the beginning of the call.\n",
      "Predicted Answer: Rogers calculates airtime charges for both local and long distance calls based on the rate at the start of the call. The charges are rounded up to the next minute, with a one-minute minimum charge for all completed calls. For outgoing calls, charges apply from the time you press SEND until you press END. For incoming calls, charges apply from when the caller initiates the call by pressing SEND and includes the ring time. Long distance calls incur both airtime and long distance charges.\n",
      "Predicted Grade: CORRECT\n",
      "\n",
      "Example 7:\n",
      "Question: What does \"roaming\" mean in the context of wireless data usage?\n",
      "Real Answer: \"Roaming\" means you’re outside of Canada, off the Rogers network, and using your phone while connected to a partner wireless network. Voice and data roaming charges vary according to country/region.\n",
      "Predicted Answer: \"Roaming\" refers to when you are outside of Canada, off the Rogers network, and using your phone while connected to a partner wireless network. Voice and data roaming charges may apply and these can vary depending on the country or region you are in.\n",
      "Predicted Grade: CORRECT\n",
      "\n",
      "Example 8:\n",
      "Question: What is MMS as referred to in the document?\n",
      "Real Answer: MMS stands for multimedia messaging service, which allows you to use your phone’s photo or video capabilities to send media to another wireless phone user.\n",
      "Predicted Answer: MMS stands for Multimedia Messaging Service. It allows you to use your phone's photo or video capabilities to send media such as pictures, videos, or even audio files to another wireless phone user. You can create an MMS by taking a photo or video, then creating a message or composing MMS from your messaging menu, adding a text message to accompany the media if you wish, then entering the recipient's phone number or email address and pressing send.\n",
      "Predicted Grade: CORRECT\n",
      "\n",
      "Example 9:\n",
      "Question: What are the steps to copy a contact from your SIM card to your contact list on a BlackBerry device?\n",
      "Real Answer: The steps are as follows: \n",
      "Predicted Answer: Here are the steps to copy a contact from your SIM card to your contact list on a BlackBerry device: \n",
      "\n",
      "1. In the contact list, press the key > SIM Phone Book.\n",
      "2. Press the key > Copy All to Contacts. \n",
      "\n",
      "These steps will allow you to transfer all contacts from your SIM card to your contact list.\n",
      "Predicted Grade: CORRECT\n",
      "\n",
      "Example 10:\n",
      "Question: How can one navigate using a BlackBerry smartphone?\n",
      "Real Answer: BlackBerry smartphones have a built-in GPS that works with BlackBerry maps. It can give spoken, turn-by-turn driving directions in English and French to anywhere in Canada. It can also locate, call or navigate to restaurants, hotels, ATMs, Wi-Fi hot spots and more from a directory of millions of businesses. Rogers Navigator is another way to find your way.\n",
      "Predicted Answer: One can navigate using a BlackBerry smartphone with the help of built-in GPS and BlackBerry maps, which are included in the device. Additionally, Rogers Navigator is also a reliable way to find your way. It provides spoken, turn-by-turn driving directions in both English and French. Users can locate, call, or navigate to restaurants, hotels, ATMs, Wi-Fi hot spots and more from a directory of millions of businesses.\n",
      "Predicted Grade: CORRECT\n",
      "\n",
      "Example 11:\n",
      "Question: What are the steps to set up your Apple iPhone to send and receive email?\n",
      "Real Answer: 1. Press the home button to access the iPhone’s main menu screen.\n",
      "Predicted Answer: To set up your Apple iPhone to send and receive email, follow these steps:\n",
      "\n",
      "1. Press the home button to access the iPhone’s main menu screen.\n",
      "2. Tap the grey Settings icon (a picture of gears) and select Mail, Contacts, Calendars.\n",
      "3. Choose Add Account and select your email provider. Type in your info, such as name, email address, and password.\n",
      "4. You can also select other options, such as having your messages pushed to the phone, choosing how many to show on the screen at once, and more.\n",
      "5. To read your email, press the home button, then tap the Mail icon at the bottom of the screen.\n",
      "Predicted Grade: CORRECT\n",
      "\n"
     ]
    }
   ],
   "source": [
    "for i, eg in enumerate(examples):\n",
    "    print(f\"Example {i}:\")\n",
    "    print(\"Question: \" + predictions[i]['query'])\n",
    "    print(\"Real Answer: \" + predictions[i]['answer'])\n",
    "    print(\"Predicted Answer: \" + predictions[i]['result'])\n",
    "    print(\"Predicted Grade: \" + graded_outputs[i]['results'])\n",
    "    print()"
   ]
  },
  {
   "cell_type": "code",
   "execution_count": null,
   "id": "3412ca45",
   "metadata": {},
   "outputs": [],
   "source": []
  }
 ],
 "metadata": {
  "kernelspec": {
   "display_name": "Python 3 (ipykernel)",
   "language": "python",
   "name": "python3"
  },
  "language_info": {
   "codemirror_mode": {
    "name": "ipython",
    "version": 3
   },
   "file_extension": ".py",
   "mimetype": "text/x-python",
   "name": "python",
   "nbconvert_exporter": "python",
   "pygments_lexer": "ipython3",
   "version": "3.9.12"
  }
 },
 "nbformat": 4,
 "nbformat_minor": 5
}
