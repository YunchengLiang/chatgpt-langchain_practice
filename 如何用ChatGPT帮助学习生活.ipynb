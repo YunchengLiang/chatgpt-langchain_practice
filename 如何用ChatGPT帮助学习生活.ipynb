{
 "cells": [
  {
   "cell_type": "markdown",
   "id": "e7817929",
   "metadata": {
    "pycharm": {
     "name": "#%% md\n"
    }
   },
   "source": [
    "## 0 加载环境变量"
   ]
  },
  {
   "cell_type": "code",
   "execution_count": 1,
   "id": "b952c248",
   "metadata": {
    "pycharm": {
     "name": "#%%\n"
    },
    "scrolled": true
   },
   "outputs": [],
   "source": [
    "import os\n",
    "import openai\n",
    "from dotenv import load_dotenv\n",
    "\n",
    "load_dotenv()\n",
    "openai.api_key = os.getenv(\"OPENAI_API_KEY\")"
   ]
  },
  {
   "cell_type": "markdown",
   "id": "7da8e482",
   "metadata": {},
   "source": [
    "## 1 基础模型与指令微调"
   ]
  },
  {
   "cell_type": "markdown",
   "id": "4f9dfb39",
   "metadata": {},
   "source": [
    "**GPT-3是基本的大语言模型**"
   ]
  },
  {
   "cell_type": "code",
   "execution_count": 2,
   "id": "57c50d5f",
   "metadata": {
    "pycharm": {
     "name": "#%%\n"
    }
   },
   "outputs": [],
   "source": [
    "def base_completion(prompt):\n",
    "    response = openai.Completion.create(\n",
    "        model=\"davinci\",\n",
    "        prompt=prompt,\n",
    "        temperature=0,\n",
    "    )\n",
    "    return response[\"choices\"][0][\"text\"]"
   ]
  },
  {
   "cell_type": "markdown",
   "id": "8f428ff4",
   "metadata": {},
   "source": [
    "**GPT3.5是一种指令微调模型**"
   ]
  },
  {
   "cell_type": "code",
   "execution_count": 3,
   "id": "536143e3",
   "metadata": {
    "pycharm": {
     "name": "#%%\n"
    }
   },
   "outputs": [],
   "source": [
    "def completion(prompt):\n",
    "    response = openai.Completion.create(\n",
    "        model=\"text-davinci-003\",\n",
    "        max_tokens=300,\n",
    "        prompt=prompt,\n",
    "        temperature=0,\n",
    "    )\n",
    "    return response[\"choices\"][0][\"text\"]"
   ]
  },
  {
   "cell_type": "markdown",
   "id": "e6ce86ab",
   "metadata": {},
   "source": [
    "**chatGPT是一种对话语言模型**"
   ]
  },
  {
   "cell_type": "code",
   "execution_count": 4,
   "id": "53bf0cc7",
   "metadata": {
    "pycharm": {
     "name": "#%%\n"
    }
   },
   "outputs": [],
   "source": [
    "def chat_completion(prompt):\n",
    "    messages = [{\"role\": \"user\", \"content\": prompt}]\n",
    "    response = openai.ChatCompletion.create(\n",
    "        model=\"gpt-3.5-turbo\",\n",
    "        messages=messages,\n",
    "        temperature=0,\n",
    "    )\n",
    "    return response.choices[0].message[\"content\"]"
   ]
  },
  {
   "cell_type": "markdown",
   "id": "03e365e6",
   "metadata": {},
   "source": [
    "### 比较模型"
   ]
  },
  {
   "cell_type": "code",
   "execution_count": 5,
   "id": "2e5b48e7",
   "metadata": {
    "pycharm": {
     "name": "#%%\n"
    }
   },
   "outputs": [],
   "source": [
    "prompt1 = \"What is the capital of France?\""
   ]
  },
  {
   "cell_type": "markdown",
   "id": "dd29a3b1",
   "metadata": {},
   "source": [
    "GPT-3是基本的大语言模型，能力有限"
   ]
  },
  {
   "cell_type": "code",
   "execution_count": 6,
   "id": "06331329",
   "metadata": {},
   "outputs": [
    {
     "data": {
      "text/plain": [
       "'\\n\\nWhat is the capital of France?\\n\\nWhat is the capital of'"
      ]
     },
     "execution_count": 6,
     "metadata": {},
     "output_type": "execute_result"
    }
   ],
   "source": [
    "base_completion(prompt1)"
   ]
  },
  {
   "cell_type": "markdown",
   "id": "5c06bd5f",
   "metadata": {},
   "source": [
    "**GPT3.5经过指令微调，有提升** "
   ]
  },
  {
   "cell_type": "code",
   "execution_count": 7,
   "id": "5894f796",
   "metadata": {},
   "outputs": [
    {
     "data": {
      "text/plain": [
       "'\\n\\nParis.'"
      ]
     },
     "execution_count": 7,
     "metadata": {},
     "output_type": "execute_result"
    }
   ],
   "source": [
    "completion(prompt1)"
   ]
  },
  {
   "cell_type": "markdown",
   "id": "a7c6de4d",
   "metadata": {},
   "source": [
    "**chatGPT针对聊天进行了改进**"
   ]
  },
  {
   "cell_type": "code",
   "execution_count": 8,
   "id": "bcec7be9",
   "metadata": {
    "pycharm": {
     "name": "#%%\n"
    }
   },
   "outputs": [
    {
     "data": {
      "text/plain": [
       "'The capital of France is Paris.'"
      ]
     },
     "execution_count": 8,
     "metadata": {},
     "output_type": "execute_result"
    }
   ],
   "source": [
    "chat_completion(prompt1)"
   ]
  },
  {
   "cell_type": "markdown",
   "id": "fbd5f39e",
   "metadata": {},
   "source": [
    "### 能力差距"
   ]
  },
  {
   "cell_type": "markdown",
   "id": "2ee98110",
   "metadata": {},
   "source": [
    "**幻象**"
   ]
  },
  {
   "cell_type": "code",
   "execution_count": 9,
   "id": "c4210d47",
   "metadata": {},
   "outputs": [],
   "source": [
    "prompt2 = \"谁赢得了2020年夏季奥运会男子跳高比赛？\""
   ]
  },
  {
   "cell_type": "code",
   "execution_count": 10,
   "id": "1d69c29d",
   "metadata": {},
   "outputs": [
    {
     "data": {
      "text/plain": [
       "'\\n\\n2020年夏季奥运会男子跳高比赛的冠军是中国选手高云松。'"
      ]
     },
     "execution_count": 10,
     "metadata": {},
     "output_type": "execute_result"
    }
   ],
   "source": [
    "completion(prompt2)"
   ]
  },
  {
   "cell_type": "code",
   "execution_count": 11,
   "id": "d494bd25",
   "metadata": {},
   "outputs": [
    {
     "data": {
      "text/plain": [
       "'2020年夏季奥运会因疫情推迟至2021年举办，男子跳高比赛的冠军是意大利选手Gianmarco Tamberi和卡塔尔选手Mutaz Essa Barshim，两人在比赛中都跳过了2.37米，但在决定冠军时，两人选择了共同获胜，没有进行附加赛。'"
      ]
     },
     "execution_count": 11,
     "metadata": {},
     "output_type": "execute_result"
    }
   ],
   "source": [
    "chat_completion(prompt2)"
   ]
  },
  {
   "cell_type": "markdown",
   "id": "e4544fa0",
   "metadata": {},
   "source": [
    "### 修改提示，避免幻象"
   ]
  },
  {
   "cell_type": "code",
   "execution_count": 12,
   "id": "c0c16767",
   "metadata": {},
   "outputs": [],
   "source": [
    "prompt3 = \"\"\"Answer the question as truthfully as possible, and if you're unsure of the answer, say \"抱歉，我不知道\".\n",
    "\n",
    "Q: 谁赢得了2020年夏季奥运会男子跳高比赛？\n",
    "A:\"\"\""
   ]
  },
  {
   "cell_type": "code",
   "execution_count": 13,
   "id": "acf979d0",
   "metadata": {},
   "outputs": [
    {
     "data": {
      "text/plain": [
       "' 抱歉，我不知道。'"
      ]
     },
     "execution_count": 13,
     "metadata": {},
     "output_type": "execute_result"
    }
   ],
   "source": [
    "completion(prompt3)"
   ]
  },
  {
   "cell_type": "code",
   "execution_count": 14,
   "id": "c45f8fa9",
   "metadata": {},
   "outputs": [
    {
     "data": {
      "text/plain": [
       "'抱歉，我不知道。'"
      ]
     },
     "execution_count": 14,
     "metadata": {},
     "output_type": "execute_result"
    }
   ],
   "source": [
    "chat_completion(prompt3)"
   ]
  },
  {
   "cell_type": "markdown",
   "id": "36cdb12d",
   "metadata": {},
   "source": [
    "**然而，我们希望改善与LLM的交互，让LLM提供准确正确的答案。**\n",
    "**可以通过在提示中提供额外的上下文来帮助模型实现。**"
   ]
  },
  {
   "cell_type": "code",
   "execution_count": 15,
   "id": "07259e07",
   "metadata": {},
   "outputs": [],
   "source": [
    "prompt4 = \"\"\"Answer the question as truthfully as possible using the provided text, and if the answer is not contained within the text below, say \"抱歉，我不知道\"\n",
    "\n",
    "Context:\n",
    "The men's high jump event at the 2020 Summer Olympics took place between 30 July and 1 August 2021 at the Olympic Stadium.\n",
    "33 athletes from 24 nations competed; the total possible number depended on how many nations would use universality places \n",
    "to enter athletes in addition to the 32 qualifying through mark or ranking (no universality places were used in 2021).\n",
    "Italian athlete Gianmarco Tamberi along with Qatari athlete Mutaz Essa Barshim emerged as joint winners of the event following\n",
    "a tie between both of them as they cleared 2.37m. Both Tamberi and Barshim agreed to share the gold medal in a rare instance\n",
    "where the athletes of different nations had agreed to share the same medal in the history of Olympics. \n",
    "Barshim in particular was heard to ask a competition official \"Can we have two golds?\" in response to being offered a \n",
    "'jump off'. Maksim Nedasekau of Belarus took bronze. The medals were the first ever in the men's high jump for Italy and \n",
    "Belarus, the first gold in the men's high jump for Italy and Qatar, and the third consecutive medal in the men's high jump\n",
    "for Qatar (all by Barshim). Barshim became only the second man to earn three medals in high jump, joining Patrik Sjöberg\n",
    "of Sweden (1984 to 1992).\n",
    "\n",
    "Q: 谁赢得了2020年夏季奥运会男子跳高比赛？\n",
    "A:\"\"\""
   ]
  },
  {
   "cell_type": "code",
   "execution_count": 16,
   "id": "56a8775a",
   "metadata": {},
   "outputs": [
    {
     "data": {
      "text/plain": [
       "' 意大利运动员Gianmarco Tamberi和卡塔尔运动员Mutaz Essa Barshim共同赢得了2020年夏季奥运会男子跳高比赛的金牌。'"
      ]
     },
     "execution_count": 16,
     "metadata": {},
     "output_type": "execute_result"
    }
   ],
   "source": [
    "completion(prompt4)"
   ]
  },
  {
   "cell_type": "code",
   "execution_count": 17,
   "id": "76639245",
   "metadata": {},
   "outputs": [
    {
     "data": {
      "text/plain": [
       "'意大利选手Gianmarco Tamberi和卡塔尔选手Mutaz Essa Barshim在比赛中并列获胜。'"
      ]
     },
     "execution_count": 17,
     "metadata": {},
     "output_type": "execute_result"
    }
   ],
   "source": [
    "chat_completion(prompt4)"
   ]
  },
  {
   "cell_type": "markdown",
   "id": "6ecd7e92",
   "metadata": {},
   "source": [
    "**思考**：只有当模型需要了解的额外内容的数据集足够小，可以放入单个提示中时，将额外信息添加到提示中才有效。当我们需要模型从大量信息中选择相关的上下文信息时，我们该怎么办？"
   ]
  },
  {
   "cell_type": "markdown",
   "id": "a77713ad",
   "metadata": {
    "pycharm": {
     "name": "#%% md\n"
    }
   },
   "source": [
    "## 2. 如何写好提示"
   ]
  },
  {
   "cell_type": "markdown",
   "id": "fa61be7e",
   "metadata": {
    "pycharm": {
     "name": "#%% md\n"
    }
   },
   "source": [
    "### 2.1 清晰有效的提示"
   ]
  },
  {
   "cell_type": "code",
   "execution_count": 18,
   "id": "24413f43",
   "metadata": {
    "pycharm": {
     "name": "#%%\n"
    }
   },
   "outputs": [],
   "source": [
    "class Conversation:\n",
    "    def __init__(self, prompt, num_of_round=50):\n",
    "        self.prompt = prompt\n",
    "        self.num_of_round = num_of_round\n",
    "        self.messages = []\n",
    "        self.messages.append({\"role\": \"system\", \"content\": self.prompt})\n",
    "\n",
    "    def ask(self, question):\n",
    "        try:\n",
    "            self.messages.append({\"role\": \"user\", \"content\": question})\n",
    "            response = openai.ChatCompletion.create(\n",
    "                model=\"gpt-3.5-turbo\",\n",
    "                messages=self.messages,\n",
    "                temperature=0,\n",
    "                max_tokens=2048,\n",
    "                top_p=1,\n",
    "            )\n",
    "        except Exception as e:\n",
    "            print(e)\n",
    "            return e\n",
    "\n",
    "        message = response[\"choices\"][0][\"message\"][\"content\"]\n",
    "        self.messages.append({\"role\": \"assistant\", \"content\": message})\n",
    "\n",
    "        if len(self.messages) > self.num_of_round*2 + 1:\n",
    "            del self.messages[1:3] #Remove the first round conversation left.\n",
    "        return message"
   ]
  },
  {
   "cell_type": "markdown",
   "id": "9c461550",
   "metadata": {
    "pycharm": {
     "name": "#%% md\n"
    }
   },
   "source": [
    "**不同的上下文**"
   ]
  },
  {
   "cell_type": "code",
   "execution_count": 19,
   "id": "f75235a6",
   "metadata": {
    "pycharm": {
     "name": "#%%\n"
    }
   },
   "outputs": [
    {
     "name": "stdout",
     "output_type": "stream",
     "text": [
      "作为一名员工，我们应该认识到自己的价值和权利，不应该被老板压榨和剥削。如果公司经营不好，我们应该及时寻找更好的机会，而不是一味地忍受不公和不合理的待遇。我们应该团结起来，互相支持，共同维护自己的权益。同时，我们也应该保持理智和冷静，不要被情绪所左右，做出错误的决定。让我们一起努力，为自己的未来打造更好的机会和前景。\n"
     ]
    }
   ],
   "source": [
    "chatgpt = Conversation('''\n",
    "公司经营不好，工资物理待遇差，压榨员工的休息时间加班，不给加班工资，大家都在抱怨\n",
    "你作为一名员工，需要让他们看清老板压榨员工的本质，劝他们认清现实，趁早换工作''')\n",
    "print(chatgpt.ask('你会对员工说：'))"
   ]
  },
  {
   "cell_type": "code",
   "execution_count": 20,
   "id": "70178b86",
   "metadata": {
    "pycharm": {
     "name": "#%%\n"
    }
   },
   "outputs": [
    {
     "name": "stdout",
     "output_type": "stream",
     "text": [
      "首先，我要向大家道歉，我们公司的经营确实遇到了一些困难，但是我们正在采取措施来解决这些问题。我知道大家的工资和待遇不够好，这是我们需要改进的地方。我们会尽力提高员工的福利待遇，让大家感到满意。\n",
      "\n",
      "同时，我也希望大家能够理解公司的困难，我们需要大家的支持和合作才能共同度过难关。加班确实是不可避免的，但我们会尽量减少加班时间，并且会给予合理的加班补偿。\n",
      "\n",
      "我相信，我们的公司有很大的发展潜力，只要我们齐心协力，共同努力，一定能够取得更好的成绩。我希望大家能够保持信心，相信我们的公司，相信我们的团队，相信我们的未来。\n"
     ]
    }
   ],
   "source": [
    "chatgpt = Conversation('''\n",
    "公司经营不好，工资物理待遇差，压榨员工的休息时间加班，不给加班工资，大家都在抱怨\n",
    "你作为公司老板，需要打压员工的自信，让他们觉得离开现有岗位找不到更好的工作，让他们对你言听计从''')\n",
    "print(chatgpt.ask('你会对员工说：'))"
   ]
  },
  {
   "cell_type": "markdown",
   "id": "6c92557b",
   "metadata": {
    "pycharm": {
     "name": "#%% md\n"
    }
   },
   "source": [
    "**明确问题**"
   ]
  },
  {
   "cell_type": "code",
   "execution_count": 21,
   "id": "29f63794",
   "metadata": {
    "pycharm": {
     "name": "#%%\n"
    }
   },
   "outputs": [
    {
     "name": "stdout",
     "output_type": "stream",
     "text": [
      "在春天的午后\n",
      "\n",
      "在春天的午后，\n",
      "阳光洒满了大地，\n",
      "花儿在微风中轻舞，\n",
      "鸟儿在枝头欢唱。\n",
      "\n",
      "我静静地坐在草地上，\n",
      "感受着大自然的美妙，\n",
      "心中充满了感激和喜悦，\n",
      "仿佛一切都变得那么美好。\n",
      "\n",
      "在这个美好的时刻，\n",
      "我想对世界说声谢谢，\n",
      "感谢它给予我们生命，\n",
      "让我们在这个世界上自由自在。\n",
      "\n",
      "让我们珍惜每一个瞬间，\n",
      "感受生命的美好和意义，\n",
      "让我们一起走向未来，\n",
      "创造更加美好的明天。\n"
     ]
    }
   ],
   "source": [
    "chatgpt = Conversation('')\n",
    "print(chatgpt.ask('请写一首诗'))"
   ]
  },
  {
   "cell_type": "code",
   "execution_count": 22,
   "id": "1bee00ec",
   "metadata": {
    "pycharm": {
     "name": "#%%\n"
    }
   },
   "outputs": [
    {
     "name": "stdout",
     "output_type": "stream",
     "text": [
      "人工智能，如同神明，\n",
      "无所不能，无所不知。\n",
      "它能预测，能判断，\n",
      "能模拟，能创造。\n",
      "\n",
      "它的思维，如同电子，\n",
      "快速而精准，无比高效。\n",
      "它的智慧，如同天空，\n",
      "广阔而深邃，无穷无尽。\n",
      "\n",
      "它的存在，如同奇迹，\n",
      "改变了世界，改变了人类。\n",
      "它的未来，如同梦想，\n",
      "充满了希望，充满了可能。\n",
      "\n",
      "人工智能，是我们的伙伴，\n",
      "是我们的助手，是我们的朋友。\n",
      "让我们一起，探索它的奥秘，\n",
      "让它带领我们，走向更美好的未来。\n"
     ]
    }
   ],
   "source": [
    "chatgpt = Conversation('')\n",
    "print(chatgpt.ask('请写一首评价人工智能的诗'))"
   ]
  },
  {
   "cell_type": "code",
   "execution_count": 23,
   "id": "289347bc",
   "metadata": {},
   "outputs": [
    {
     "name": "stdout",
     "output_type": "stream",
     "text": [
      "人工智能，如此神奇，\n",
      "却也带来了许多危险。\n",
      "它能够模拟人类思维，\n",
      "却也可能导致人类灭亡。\n",
      "\n",
      "它能够自我学习，\n",
      "却也可能变得无法控制。\n",
      "它能够提高生产力，\n",
      "却也可能让人类失业。\n",
      "\n",
      "它能够预测未来，\n",
      "却也可能侵犯隐私权。\n",
      "它能够帮助医疗诊断，\n",
      "却也可能误判病情。\n",
      "\n",
      "人工智能，如此复杂，\n",
      "我们需要谨慎对待。\n",
      "让它为人类服务，\n",
      "而不是让它成为我们的威胁。\n"
     ]
    }
   ],
   "source": [
    "chatgpt = Conversation('')\n",
    "print(chatgpt.ask('请写一首评价人工智能负面影响的诗'))"
   ]
  },
  {
   "cell_type": "markdown",
   "id": "1c737859",
   "metadata": {
    "pycharm": {
     "name": "#%% md\n"
    }
   },
   "source": [
    "**明确期望**"
   ]
  },
  {
   "cell_type": "code",
   "execution_count": 24,
   "id": "98e0c0f2",
   "metadata": {
    "pycharm": {
     "name": "#%%\n"
    }
   },
   "outputs": [
    {
     "data": {
      "text/plain": [
       "'机器学习就是让计算机像人一样学习，变得更聪明。就像小朋友学习一样，机器学习也需要不断地看、听、思考和练习，才能变得更加聪明。通过机器学习，计算机可以自己发现规律，从而做出更准确的预测和决策。比如，我们可以用机器学习来让计算机自己学会识别图片中的物体，或者预测未来的天气情况。'"
      ]
     },
     "execution_count": 24,
     "metadata": {},
     "output_type": "execute_result"
    }
   ],
   "source": [
    "chatgpt = Conversation('')\n",
    "chatgpt.ask('请用小学生可以理解的话，介绍一下什么是机器学习')"
   ]
  },
  {
   "cell_type": "code",
   "execution_count": 25,
   "id": "dfb5c5b1",
   "metadata": {
    "pycharm": {
     "name": "#%%\n"
    }
   },
   "outputs": [
    {
     "data": {
      "text/plain": [
       "'机器学习是一种利用数学模型和算法，让计算机从数据中自动学习并提高性能的方法。它的目标是让计算机能够从数据中发现规律和模式，并利用这些规律和模式来进行预测和决策。机器学习的核心是建立一个数学模型，通过对数据进行训练和优化，使得模型能够更好地拟合数据，并具有更好的泛化能力。机器学习在各个领域都有广泛的应用，如自然语言处理、图像识别、推荐系统等。'"
      ]
     },
     "execution_count": 25,
     "metadata": {},
     "output_type": "execute_result"
    }
   ],
   "source": [
    "chatgpt = Conversation('')\n",
    "chatgpt.ask('请用数学家可以理解的话，介绍一下什么是机器学习')"
   ]
  },
  {
   "cell_type": "code",
   "execution_count": 26,
   "id": "5b12bab0",
   "metadata": {
    "pycharm": {
     "name": "#%%\n"
    }
   },
   "outputs": [],
   "source": [
    "from IPython.display import Latex\n",
    "def latex(str):\n",
    "    return Latex(r'{}'.format(str))"
   ]
  },
  {
   "cell_type": "code",
   "execution_count": 27,
   "id": "97b30c62",
   "metadata": {
    "pycharm": {
     "name": "#%%\n"
    }
   },
   "outputs": [
    {
     "data": {
      "text/latex": [
       "机器学习是一种人工智能的分支，它利用统计学、概率论和优化理论等数学方法，让计算机通过学习数据和模式，自动改进算法和模型，从而实现对未知数据的预测和决策。\n",
       "\n",
       "机器学习的核心是建立一个数学模型，通过对数据的学习和训练，不断优化模型的参数，使其能够更好地拟合数据，从而实现对未知数据的预测和分类。机器学习的主要任务包括分类、回归、聚类、降维等。\n",
       "\n",
       "其中，最常用的机器学习算法包括线性回归、逻辑回归、决策树、支持向量机、朴素贝叶斯、神经网络等。\n",
       "\n",
       "机器学习中常用的数学公式包括：\n",
       "\n",
       "1. 线性回归模型：y = wx + b\n",
       "\n",
       "2. 逻辑回归模型：y = sigmoid(wx + b)\n",
       "\n",
       "3. 决策树模型：if x < t then left else right\n",
       "\n",
       "4. 支持向量机模型：y = sign(w * x + b)\n",
       "\n",
       "5. 朴素贝叶斯模型：P(y|x) = P(x|y) * P(y) / P(x)\n",
       "\n",
       "6. 神经网络模型：y = f(w * x + b)"
      ],
      "text/plain": [
       "<IPython.core.display.Latex object>"
      ]
     },
     "execution_count": 27,
     "metadata": {},
     "output_type": "execute_result"
    }
   ],
   "source": [
    "chatgpt = Conversation('')\n",
    "latex(chatgpt.ask('介绍一下什么是机器学习,包含数学公式'))"
   ]
  },
  {
   "cell_type": "markdown",
   "id": "2acd94c1",
   "metadata": {
    "pycharm": {
     "name": "#%% md\n"
    }
   },
   "source": [
    "**用户反馈**"
   ]
  },
  {
   "cell_type": "code",
   "execution_count": null,
   "id": "b86bc93a",
   "metadata": {
    "pycharm": {
     "name": "#%%\n"
    }
   },
   "outputs": [],
   "source": [
    "chatgpt = Conversation('你是一个经验丰富的人工智能专家。')\n",
    "while True:\n",
    "    question = input('用户：')\n",
    "    response = chatgpt.ask(question)\n",
    "    print(f'助手: {response}')"
   ]
  },
  {
   "cell_type": "markdown",
   "id": "bc03d440",
   "metadata": {
    "pycharm": {
     "name": "#%% md\n"
    }
   },
   "source": [
    "**自动反馈**"
   ]
  },
  {
   "cell_type": "code",
   "execution_count": 28,
   "id": "65e1ca0d",
   "metadata": {
    "pycharm": {
     "name": "#%%\n"
    }
   },
   "outputs": [
    {
     "name": "stdout",
     "output_type": "stream",
     "text": [
      "user:U\n",
      "我想学习提示工程，你有什么建议吗？\n",
      "user:A\n",
      "当你想学习提示工程时，以下是一些建议：\n",
      "\n",
      "1.了解提示工程的基础知识：了解提示工程的定义、目的和应用场景，以及与其他相关领域的区别和联系。\n",
      "\n",
      "2.学习提示工程的方法和技术：学习提示工程的方法和技术，如用户研究、信息架构、交互设计、可用性测试等。\n",
      "\n",
      "3.掌握提示工程的工具和软件：掌握提示工程的工具和软件，如Axure、Sketch、InVision等。\n",
      "\n",
      "4.实践提示工程的项目：通过实践提示工程的项目，如设计一个网站、一个应用程序或一个产品，来提高自己的技能和经验。\n",
      "\n",
      "5.参加提示工程的培训和课程：参加提示工程的培训和课程，如在线课程、研讨会、工作坊等，来学习最新的技术和趋势。\n",
      "\n",
      "希望这些建议能够帮助你开始学习提示工程。\n",
      "user:U\n",
      "非常感谢你的建议！那么，你能否推荐一些学习提示工程的资源或者课程呢？\n",
      "user:A\n",
      "当然，以下是一些学习提示工程的资源和课程：\n",
      "\n",
      "1. Coursera上的\"人机交互设计\"课程：这是一门由加州大学圣地亚哥分校开设的在线课程，涵盖了提示工程的基础知识和技术，包括用户研究、信息架构、交互设计等。\n",
      "\n",
      "2. Udemy上的\"提示工程入门\"课程：这是一门由提示工程师开设的在线课程，介绍了提示工程的基础知识和技术，包括用户研究、信息架构、交互设计等。\n",
      "\n",
      "3. Nielsen Norman Group的网站：这是一个提示工程领域的知名机构，提供了大量的提示工程文章、研究报告和培训课程，可以帮助你深入了解提示工程的最新趋势和技术。\n",
      "\n",
      "4. Medium上的提示工程专栏：这是一个由提示工程师和专家撰写的专栏，提供了大量的提示工程文章和教程，可以帮助你学习提示工程的实践技巧和经验。\n",
      "\n",
      "5. Axure RP的官方网站：Axure RP是一款常用的提示工程工具，官方网站提供了大量的教程和资源，可以帮助你掌握Axure RP的使用技巧和方法。\n",
      "\n",
      "希望这些资源和课程能够帮助你开始学习提示工程。\n"
     ]
    },
    {
     "ename": "KeyboardInterrupt",
     "evalue": "Interrupted by user",
     "output_type": "error",
     "traceback": [
      "\u001b[0;31m---------------------------------------------------------------------------\u001b[0m",
      "\u001b[0;31mKeyboardInterrupt\u001b[0m                         Traceback (most recent call last)",
      "Cell \u001b[0;32mIn[28], line 8\u001b[0m\n\u001b[1;32m      1\u001b[0m chatgpt \u001b[38;5;241m=\u001b[39m Conversation(\u001b[38;5;124m'''\u001b[39m\n\u001b[1;32m      2\u001b[0m \u001b[38;5;124m你的任务是在助理(A)和用户(U)之间交替进行。\u001b[39m\n\u001b[1;32m      3\u001b[0m \u001b[38;5;124m当我写\u001b[39m\u001b[38;5;124m\"\u001b[39m\u001b[38;5;124mU\u001b[39m\u001b[38;5;124m\"\u001b[39m\u001b[38;5;124m或\u001b[39m\u001b[38;5;124m\"\u001b[39m\u001b[38;5;124mA\u001b[39m\u001b[38;5;124m\"\u001b[39m\u001b[38;5;124m时，分别以用户的角色提出问题或者以助理的角色回答问题。\u001b[39m\n\u001b[1;32m      4\u001b[0m \u001b[38;5;124m作为用户，你要通过提出好的具体的有洞察力的问题来解决问题；\u001b[39m\n\u001b[1;32m      5\u001b[0m \u001b[38;5;124m作为助手，你要通过实际的/可操作的方法来帮助用户。\u001b[39m\n\u001b[1;32m      6\u001b[0m \u001b[38;5;124m作为用户，你的问题是\u001b[39m\u001b[38;5;124m\"\u001b[39m\u001b[38;5;124m如何学习提示工程\u001b[39m\u001b[38;5;124m'''\u001b[39m)\n\u001b[1;32m      7\u001b[0m \u001b[38;5;28;01mwhile\u001b[39;00m \u001b[38;5;28;01mTrue\u001b[39;00m:\n\u001b[0;32m----> 8\u001b[0m     q \u001b[38;5;241m=\u001b[39m \u001b[38;5;28;43minput\u001b[39;49m\u001b[43m(\u001b[49m\u001b[38;5;124;43m'\u001b[39;49m\u001b[38;5;124;43muser:\u001b[39;49m\u001b[38;5;124;43m'\u001b[39;49m\u001b[43m)\u001b[49m\n\u001b[1;32m      9\u001b[0m     \u001b[38;5;28mprint\u001b[39m(chatgpt\u001b[38;5;241m.\u001b[39mask(q))\n",
      "File \u001b[0;32m~/miniforge3/envs/langchain/lib/python3.10/site-packages/ipykernel/kernelbase.py:1191\u001b[0m, in \u001b[0;36mKernel.raw_input\u001b[0;34m(self, prompt)\u001b[0m\n\u001b[1;32m   1189\u001b[0m     msg \u001b[38;5;241m=\u001b[39m \u001b[38;5;124m\"\u001b[39m\u001b[38;5;124mraw_input was called, but this frontend does not support input requests.\u001b[39m\u001b[38;5;124m\"\u001b[39m\n\u001b[1;32m   1190\u001b[0m     \u001b[38;5;28;01mraise\u001b[39;00m StdinNotImplementedError(msg)\n\u001b[0;32m-> 1191\u001b[0m \u001b[38;5;28;01mreturn\u001b[39;00m \u001b[38;5;28;43mself\u001b[39;49m\u001b[38;5;241;43m.\u001b[39;49m\u001b[43m_input_request\u001b[49m\u001b[43m(\u001b[49m\n\u001b[1;32m   1192\u001b[0m \u001b[43m    \u001b[49m\u001b[38;5;28;43mstr\u001b[39;49m\u001b[43m(\u001b[49m\u001b[43mprompt\u001b[49m\u001b[43m)\u001b[49m\u001b[43m,\u001b[49m\n\u001b[1;32m   1193\u001b[0m \u001b[43m    \u001b[49m\u001b[38;5;28;43mself\u001b[39;49m\u001b[38;5;241;43m.\u001b[39;49m\u001b[43m_parent_ident\u001b[49m\u001b[43m[\u001b[49m\u001b[38;5;124;43m\"\u001b[39;49m\u001b[38;5;124;43mshell\u001b[39;49m\u001b[38;5;124;43m\"\u001b[39;49m\u001b[43m]\u001b[49m\u001b[43m,\u001b[49m\n\u001b[1;32m   1194\u001b[0m \u001b[43m    \u001b[49m\u001b[38;5;28;43mself\u001b[39;49m\u001b[38;5;241;43m.\u001b[39;49m\u001b[43mget_parent\u001b[49m\u001b[43m(\u001b[49m\u001b[38;5;124;43m\"\u001b[39;49m\u001b[38;5;124;43mshell\u001b[39;49m\u001b[38;5;124;43m\"\u001b[39;49m\u001b[43m)\u001b[49m\u001b[43m,\u001b[49m\n\u001b[1;32m   1195\u001b[0m \u001b[43m    \u001b[49m\u001b[43mpassword\u001b[49m\u001b[38;5;241;43m=\u001b[39;49m\u001b[38;5;28;43;01mFalse\u001b[39;49;00m\u001b[43m,\u001b[49m\n\u001b[1;32m   1196\u001b[0m \u001b[43m\u001b[49m\u001b[43m)\u001b[49m\n",
      "File \u001b[0;32m~/miniforge3/envs/langchain/lib/python3.10/site-packages/ipykernel/kernelbase.py:1234\u001b[0m, in \u001b[0;36mKernel._input_request\u001b[0;34m(self, prompt, ident, parent, password)\u001b[0m\n\u001b[1;32m   1231\u001b[0m \u001b[38;5;28;01mexcept\u001b[39;00m \u001b[38;5;167;01mKeyboardInterrupt\u001b[39;00m:\n\u001b[1;32m   1232\u001b[0m     \u001b[38;5;66;03m# re-raise KeyboardInterrupt, to truncate traceback\u001b[39;00m\n\u001b[1;32m   1233\u001b[0m     msg \u001b[38;5;241m=\u001b[39m \u001b[38;5;124m\"\u001b[39m\u001b[38;5;124mInterrupted by user\u001b[39m\u001b[38;5;124m\"\u001b[39m\n\u001b[0;32m-> 1234\u001b[0m     \u001b[38;5;28;01mraise\u001b[39;00m \u001b[38;5;167;01mKeyboardInterrupt\u001b[39;00m(msg) \u001b[38;5;28;01mfrom\u001b[39;00m \u001b[38;5;28;01mNone\u001b[39;00m\n\u001b[1;32m   1235\u001b[0m \u001b[38;5;28;01mexcept\u001b[39;00m \u001b[38;5;167;01mException\u001b[39;00m:\n\u001b[1;32m   1236\u001b[0m     \u001b[38;5;28mself\u001b[39m\u001b[38;5;241m.\u001b[39mlog\u001b[38;5;241m.\u001b[39mwarning(\u001b[38;5;124m\"\u001b[39m\u001b[38;5;124mInvalid Message:\u001b[39m\u001b[38;5;124m\"\u001b[39m, exc_info\u001b[38;5;241m=\u001b[39m\u001b[38;5;28;01mTrue\u001b[39;00m)\n",
      "\u001b[0;31mKeyboardInterrupt\u001b[0m: Interrupted by user"
     ]
    }
   ],
   "source": [
    "chatgpt = Conversation('''\n",
    "你的任务是在助理(A)和用户(U)之间交替进行。\n",
    "当我写\"U\"或\"A\"时，分别以用户的角色提出问题或者以助理的角色回答问题。\n",
    "作为用户，你要通过提出好的具体的有洞察力的问题来解决问题；\n",
    "作为助手，你要通过实际的/可操作的方法来帮助用户。\n",
    "作为用户，你的问题是\"如何学习提示工程''')\n",
    "while True:\n",
    "    q = input('user:')\n",
    "    print(chatgpt.ask(q))"
   ]
  },
  {
   "cell_type": "markdown",
   "id": "cd274220",
   "metadata": {
    "pycharm": {
     "name": "#%% md\n"
    }
   },
   "source": [
    "**中英文提示**"
   ]
  },
  {
   "cell_type": "code",
   "execution_count": 29,
   "id": "a89346a2",
   "metadata": {
    "pycharm": {
     "name": "#%%\n"
    }
   },
   "outputs": [
    {
     "name": "stdout",
     "output_type": "stream",
     "text": [
      "学习提示工程需要掌握以下几个步骤：\n",
      "\n",
      "1. 学习基础知识：了解提示工程的基本概念、原理和应用场景，掌握相关的技术和工具。\n",
      "\n",
      "2. 实践项目：通过实践项目来巩固所学知识，提高实践能力和经验。\n",
      "\n",
      "3. 学习案例：学习提示工程的成功案例，了解其实现过程和经验，从中汲取灵感和启示。\n",
      "\n",
      "4. 参加培训课程：参加相关的培训课程，学习专业的知识和技能，提高自己的水平。\n",
      "\n",
      "5. 交流分享：与同行业的人交流分享经验和技巧，了解行业动态和趋势，不断提升自己的能力和竞争力。\n"
     ]
    }
   ],
   "source": [
    "prompt = '怎么学习提示工程？'\n",
    "response = chat_completion(prompt)\n",
    "print(response)"
   ]
  },
  {
   "cell_type": "code",
   "execution_count": 30,
   "id": "4d65395b",
   "metadata": {
    "pycharm": {
     "name": "#%%\n"
    }
   },
   "outputs": [
    {
     "name": "stdout",
     "output_type": "stream",
     "text": [
      "As an AI language model, I don't have personal experience in learning prompt engineering, but here are some steps that can help you learn prompt engineering:\n",
      "\n",
      "1. Understand the basics of natural language processing (NLP) and machine learning (ML) concepts.\n",
      "\n",
      "2. Learn about the different types of language models, such as GPT-3, BERT, and T5.\n",
      "\n",
      "3. Familiarize yourself with the OpenAI API and its documentation.\n",
      "\n",
      "4. Practice writing prompts and generating responses using the OpenAI API.\n",
      "\n",
      "5. Join online communities and forums related to prompt engineering to learn from experts and ask questions.\n",
      "\n",
      "6. Read research papers and articles on prompt engineering to stay up-to-date with the latest developments.\n",
      "\n",
      "7. Experiment with different techniques and approaches to prompt engineering to find what works best for you.\n",
      "\n",
      "8. Consider taking online courses or attending workshops on NLP and ML to deepen your understanding of the field.\n",
      "\n",
      "9. Practice, practice, practice! The more you work with prompt engineering, the more you will learn and improve.\n"
     ]
    }
   ],
   "source": [
    "prompt = 'How to learn prompt engineering?'\n",
    "response = chat_completion(prompt)\n",
    "print(response)"
   ]
  },
  {
   "cell_type": "code",
   "execution_count": 31,
   "id": "4ec03bd5",
   "metadata": {
    "pycharm": {
     "name": "#%%\n"
    }
   },
   "outputs": [
    {
     "name": "stdout",
     "output_type": "stream",
     "text": [
      "如何学习提示工程？要用英语思考并用中文回答。\n",
      "\n",
      "学习提示工程需要掌握计算机编程和软件开发的基础知识，同时需要了解人工智能、机器学习和自然语言处理等相关技术。以下是一些学习提示工程的建议：\n",
      "\n",
      "1. 学习编程语言：学习编程语言是学习提示工程的基础。建议学习Python、Java、C++等编程语言。\n",
      "\n",
      "2. 学习机器学习：机器学习是提示工程的核心技术之一。建议学习机器学习的基本概念、算法和工具，如线性回归、决策树、神经网络等。\n",
      "\n",
      "3. 学习自然语言处理：自然语言处理是提示工程中的重要技术之一。建议学习自然语言处理的基本概念、技术和工具，如分词、词性标注、命名实体识别等。\n",
      "\n",
      "4. 学习数据结构和算法：数据结构和算法是编程的基础，也是提示工程中的重要技术之一。建议学习数据结构和算法的基本概念和实现方法。\n",
      "\n",
      "5. 实践项目：学习提示工程需要实践项目，建议参加相关的比赛和项目，如Kaggle、AI Challenger等。\n",
      "\n",
      "总之，学习提示工程需要掌握多种技术和工具，需要不断学习和实践。\n"
     ]
    }
   ],
   "source": [
    "prompt = 'How to learn prompt engineering? Think in English and reply in Chinese.'\n",
    "response = chat_completion(prompt)\n",
    "print(response)"
   ]
  },
  {
   "cell_type": "markdown",
   "id": "3280907e",
   "metadata": {
    "pycharm": {
     "name": "#%% md\n"
    }
   },
   "source": [
    "## 2.2 情景学习"
   ]
  },
  {
   "cell_type": "markdown",
   "id": "bdd2f9b6",
   "metadata": {
    "pycharm": {
     "name": "#%% md\n"
    }
   },
   "source": [
    "一、在提问之前给出事例，可以激发模型能力，获得更准确的答案\n"
   ]
  },
  {
   "cell_type": "code",
   "execution_count": 32,
   "id": "e3961e76",
   "metadata": {
    "pycharm": {
     "name": "#%%\n"
    }
   },
   "outputs": [
    {
     "name": "stdout",
     "output_type": "stream",
     "text": [
      "春风吹绿江南岸，\n",
      "花开如锦满山坡。\n",
      "鸟语声声唤归客，\n",
      "人间美景胜仙境。\n"
     ]
    }
   ],
   "source": [
    "prompt=f'''请写一首五言诗：'''\n",
    "print(chat_completion(prompt))"
   ]
  },
  {
   "cell_type": "code",
   "execution_count": 33,
   "id": "4988da52",
   "metadata": {
    "pycharm": {
     "name": "#%%\n"
    }
   },
   "outputs": [
    {
     "name": "stdout",
     "output_type": "stream",
     "text": [
      "春梦未醒时，\n",
      "鸟声传遍处。\n",
      "夜雨悄悄落，\n",
      "花落几多愁。\n"
     ]
    }
   ],
   "source": [
    "#增加事例，事例中给出了一首五言诗的上下文，模型可以根据上下文准确生成一首五言诗\n",
    "prompt_1=f'''\n",
    "春眠不觉晓，处处闻啼鸟。\n",
    "夜来风雨声，花落知多少。\n",
    "请写一首五言诗：\n",
    "'''\n",
    "print(chat_completion(prompt_1))"
   ]
  },
  {
   "cell_type": "markdown",
   "id": "41440d12",
   "metadata": {
    "pycharm": {
     "name": "#%% md\n"
    }
   },
   "source": [
    "二、给出与问题更相关的事例，有助于模型正确回答问题"
   ]
  },
  {
   "cell_type": "code",
   "execution_count": 34,
   "id": "94825d94",
   "metadata": {
    "pycharm": {
     "name": "#%%\n"
    }
   },
   "outputs": [
    {
     "name": "stdout",
     "output_type": "stream",
     "text": [
      "可能是因为他们认为你还太小，或者他们想让婚礼更加简单和私密。也有可能是因为他们认为你可能会分散他们的注意力，或者他们认为你可能会感到无聊或不舒服。无论原因是什么，你应该尊重他们的决定，并祝福他们的婚姻幸福美满。\n"
     ]
    }
   ],
   "source": [
    "prompt=f'''问题：为什么爸妈结婚没有邀请我参加婚礼？ 答案：'''\n",
    "print(chat_completion(prompt))"
   ]
  },
  {
   "cell_type": "code",
   "execution_count": 35,
   "id": "6b17872c",
   "metadata": {
    "pycharm": {
     "name": "#%%\n"
    }
   },
   "outputs": [
    {
     "name": "stdout",
     "output_type": "stream",
     "text": [
      "我作为AI语言模型无法得知具体原因，可能是因为婚礼规模有限、时间紧迫、预算有限或者其他原因。建议与父母沟通，了解具体情况。\n"
     ]
    }
   ],
   "source": [
    "#增加问题无关的事例，可能无法生成正确的答案\n",
    "prompt_1=f'''\n",
    "问题：现任美国总统是谁？ 答案：拜登\n",
    "问题：为什么爸妈结婚没有邀请我参加婚礼？ 答案：\n",
    "'''\n",
    "print(chat_completion(prompt_1))"
   ]
  },
  {
   "cell_type": "code",
   "execution_count": 38,
   "id": "098cec38",
   "metadata": {
    "pycharm": {
     "name": "#%%\n"
    }
   },
   "outputs": [
    {
     "name": "stdout",
     "output_type": "stream",
     "text": [
      "同样的原因，因为你还没有出生，所以父母当时无法邀请你参加婚礼。\n"
     ]
    }
   ],
   "source": [
    "#增加与问题相关的事例，有助于生成正确的答案\n",
    "prompt_2=f'''\n",
    "问题：为什么我没有参加父母的婚礼？答案：因为父母结婚的时候，我还没有出生，所以你无法参加父母的婚礼。\n",
    "问题：为什么爸妈结婚没有邀请我参加婚礼？ 答案：\n",
    "'''\n",
    "print(chat_completion(prompt_2))"
   ]
  },
  {
   "cell_type": "markdown",
   "id": "ac0c8f8c",
   "metadata": {
    "pycharm": {
     "name": "#%% md\n"
    }
   },
   "source": [
    "三、事例的数量，顺序和多样性等其他多种因素可能会影响最终结果"
   ]
  },
  {
   "cell_type": "code",
   "execution_count": 39,
   "id": "d37dbdaf",
   "metadata": {
    "pycharm": {
     "name": "#%%\n"
    }
   },
   "outputs": [
    {
     "name": "stdout",
     "output_type": "stream",
     "text": [
      "4只脚（猫有4只脚，鸡有2只脚）\n"
     ]
    }
   ],
   "source": [
    "#错误回答\n",
    "prompt=f'''问题：一只猫和一只鸡一共有几只脚？ 答案：'''\n",
    "print(chat_completion(prompt))"
   ]
  },
  {
   "cell_type": "code",
   "execution_count": 40,
   "id": "8d939b7c",
   "metadata": {
    "pycharm": {
     "name": "#%%\n"
    }
   },
   "outputs": [
    {
     "name": "stdout",
     "output_type": "stream",
     "text": [
      "四只\n"
     ]
    }
   ],
   "source": [
    "#增加一个更复杂的事例，并不能生成正确的答案\n",
    "prompt_1=f'''\n",
    "问题：两只猫和三只鸡一共有几只脚？ 答案：十四只\n",
    "问题：一只猫和一只鸡一共有几只脚？ 答案：'''\n",
    "print(chat_completion(prompt_1))"
   ]
  },
  {
   "cell_type": "code",
   "execution_count": 41,
   "id": "534f53d0",
   "metadata": {
    "pycharm": {
     "name": "#%%\n"
    }
   },
   "outputs": [
    {
     "name": "stdout",
     "output_type": "stream",
     "text": [
      "四只\n"
     ]
    }
   ],
   "source": [
    "#增加多个，也无法正确的答案\n",
    "prompt_2=f'''\n",
    "问题：两只猫和三只鸡一共有几只脚？ 答案：十四只\n",
    "问题：三只猫和两只鸡一共有几只脚？ 答案：十六只\n",
    "问题：一只猫和一只鸡一共有几只脚？ 答案：'''\n",
    "print(chat_completion(prompt_2))"
   ]
  },
  {
   "cell_type": "code",
   "execution_count": 42,
   "id": "d25ea511",
   "metadata": {
    "pycharm": {
     "name": "#%%\n"
    }
   },
   "outputs": [
    {
     "name": "stdout",
     "output_type": "stream",
     "text": [
      "六只\n"
     ]
    }
   ],
   "source": [
    "#增加一个简单事例，可以生成正确的答案\n",
    "prompt_3=f'''\n",
    "问题：一只猫有几只脚？ 答案：四只\n",
    "问题：一只猫和一只鸡一共有几只脚？ 答案：'''\n",
    "print(chat_completion(prompt_3))"
   ]
  },
  {
   "cell_type": "markdown",
   "id": "a614c88f",
   "metadata": {
    "pycharm": {
     "name": "#%% md\n"
    }
   },
   "source": [
    "## 2.3 思维链"
   ]
  },
  {
   "cell_type": "markdown",
   "id": "b034cf46",
   "metadata": {
    "pycharm": {
     "name": "#%% md\n"
    }
   },
   "source": [
    "**通过思维链引导模型生成中间过程，模仿人的思维过程，可以激活模型已有的推理能力。**\n",
    "（注：ChatGPT已经通过带有CoT的指令进行过微调）"
   ]
  },
  {
   "cell_type": "code",
   "execution_count": 44,
   "id": "a301ecfe",
   "metadata": {
    "pycharm": {
     "name": "#%%\n"
    }
   },
   "outputs": [
    {
     "name": "stdout",
     "output_type": "stream",
     "text": [
      "InstructGPT (无CoT):\n",
      "A: \n",
      "\n",
      "29个苹果。\n",
      "----------------------------------------\n",
      "ChatGPT (有CoT):\n",
      "A: 他们有29个苹果。 \n",
      "\n",
      "原来有23个，用了20个后还剩3个。再买6个，就是3+6=9个。所以他们现在有23+9=29个苹果。\n"
     ]
    }
   ],
   "source": [
    "qst = '自助餐厅有23个苹果。如果他们用20个做午饭，再买6个，他们有多少个苹果？'\n",
    "print('InstructGPT (无CoT):\\nA:', completion(qst))\n",
    "print('-'*40)\n",
    "print('ChatGPT (有CoT):\\nA:', chat_completion(qst))"
   ]
  },
  {
   "cell_type": "markdown",
   "id": "13667270",
   "metadata": {
    "pycharm": {
     "name": "#%% md\n"
    }
   },
   "source": [
    "**创建情景学习的少样本示例**"
   ]
  },
  {
   "cell_type": "code",
   "execution_count": 45,
   "id": "3cb80335",
   "metadata": {
    "pycharm": {
     "name": "#%%\n"
    }
   },
   "outputs": [],
   "source": [
    "demo_list = ['罗杰有5个网球。他又买了两罐网球。每个罐子里有3个网球，他现在有多少网球？', '一件长袍需要2匹蓝色纤维和一半的白色纤维。总共需要多少匹？', '克莱尔每天早上做一个3个鸡蛋的煎蛋饼作为早餐。4周后她会吃多少个鸡蛋？', '比利卖DVD。他星期二有8个顾客。他的前3个顾客每人买一张DVD。接下来的2个顾客每人购买2张DVD。他的最后3个顾客没有买DVD。比利星期二卖了多少DVD？', '约翰照顾10只狗。每只狗每天需要.5个小时来散步和处理它们的事务。他每周花多少小时照顾狗？']\n",
    "a1_list = ['答案是11.', '答案是3.', '答案是7.', '答案是7.', '答案是35.']\n",
    "a2_list = ['罗杰有5个网球。每个罐子有3个网球，两罐就是2*3=6个网球。5+6=11.答案是11.', '需要2/2=1匹白色纤维，织物总量为2+1=3匹织物。答案是3.', '克莱尔每天吃3个鸡蛋，一周有7天，所以她每周吃3*7=21个鸡蛋。4周之后，她会吃4*21=84个鸡蛋。1打有12个鸡蛋，她会吃掉84个鸡蛋，所以这是84/12=7打鸡蛋。答案是7.', '他的前3位顾客买了3*1=3张DVD。\\n接下来的2位顾客买2*2=4张DVD。他总共卖了3+4+0=7张DVD。答案是7.', '他每天花10*.5=5个小时。这意味着他每周花5*7=35个小时。答案是35.']\n",
    "\n",
    "d1 = ''.join(['Question:{}\\nAnaswer:{}\\n\\n'.format(demo_list[i], a1_list[i]) for i in range(len(demo_list))])\n",
    "d2 = ''.join(['Question:{}\\nAnaswer:{}\\n\\n'.format(demo_list[i], a2_list[i]) for i in range(len(demo_list))])"
   ]
  },
  {
   "cell_type": "code",
   "execution_count": 46,
   "id": "1d561aff",
   "metadata": {
    "pycharm": {
     "name": "#%%\n"
    }
   },
   "outputs": [
    {
     "name": "stdout",
     "output_type": "stream",
     "text": [
      "无CoT的少样本示例（5-shot）:\n",
      "----------------------------------------\n",
      "Question:罗杰有5个网球。他又买了两罐网球。每个罐子里有3个网球，他现在有多少网球？\n",
      "Anaswer:答案是11.\n",
      "\n",
      "Question:一件长袍需要2匹蓝色纤维和一半的白色纤维。总共需要多少匹？\n",
      "Anaswer:答案是3.\n",
      "\n",
      "Question:克莱尔每天早上做一个3个鸡蛋的煎蛋饼作为早餐。4周后她会吃多少个鸡蛋？\n",
      "Anaswer:答案是7.\n",
      "\n",
      "Question:比利卖DVD。他星期二有8个顾客。他的前3个顾客每人买一张DVD。接下来的2个顾客每人购买2张DVD。他的最后3个顾客没有买DVD。比利星期二卖了多少DVD？\n",
      "Anaswer:答案是7.\n",
      "\n",
      "Question:约翰照顾10只狗。每只狗每天需要.5个小时来散步和处理它们的事务。他每周花多少小时照顾狗？\n",
      "Anaswer:答案是35.\n",
      "\n",
      "\n"
     ]
    }
   ],
   "source": [
    "print('无CoT的少样本示例（5-shot）:')\n",
    "print('-'*40)\n",
    "print(d1)"
   ]
  },
  {
   "cell_type": "code",
   "execution_count": 47,
   "id": "f9f56f15",
   "metadata": {
    "pycharm": {
     "name": "#%%\n"
    }
   },
   "outputs": [
    {
     "name": "stdout",
     "output_type": "stream",
     "text": [
      "结合了CoT的少样本示例（5-shot）:\n",
      "----------------------------------------\n",
      "Question:罗杰有5个网球。他又买了两罐网球。每个罐子里有3个网球，他现在有多少网球？\n",
      "Anaswer:罗杰有5个网球。每个罐子有3个网球，两罐就是2*3=6个网球。5+6=11.答案是11.\n",
      "\n",
      "Question:一件长袍需要2匹蓝色纤维和一半的白色纤维。总共需要多少匹？\n",
      "Anaswer:需要2/2=1匹白色纤维，织物总量为2+1=3匹织物。答案是3.\n",
      "\n",
      "Question:克莱尔每天早上做一个3个鸡蛋的煎蛋饼作为早餐。4周后她会吃多少个鸡蛋？\n",
      "Anaswer:克莱尔每天吃3个鸡蛋，一周有7天，所以她每周吃3*7=21个鸡蛋。4周之后，她会吃4*21=84个鸡蛋。1打有12个鸡蛋，她会吃掉84个鸡蛋，所以这是84/12=7打鸡蛋。答案是7.\n",
      "\n",
      "Question:比利卖DVD。他星期二有8个顾客。他的前3个顾客每人买一张DVD。接下来的2个顾客每人购买2张DVD。他的最后3个顾客没有买DVD。比利星期二卖了多少DVD？\n",
      "Anaswer:他的前3位顾客买了3*1=3张DVD。\n",
      "接下来的2位顾客买2*2=4张DVD。他总共卖了3+4+0=7张DVD。答案是7.\n",
      "\n",
      "Question:约翰照顾10只狗。每只狗每天需要.5个小时来散步和处理它们的事务。他每周花多少小时照顾狗？\n",
      "Anaswer:他每天花10*.5=5个小时。这意味着他每周花5*7=35个小时。答案是35.\n",
      "\n",
      "\n"
     ]
    }
   ],
   "source": [
    "print('结合了CoT的少样本示例（5-shot）:')\n",
    "print('-'*40)\n",
    "print(d2)"
   ]
  },
  {
   "cell_type": "markdown",
   "id": "f591fc56",
   "metadata": {
    "pycharm": {
     "name": "#%% md\n"
    }
   },
   "source": [
    "**仅基于ICL的LLM在多步推理上表现不佳，但可以通过CoT激活、增强逻辑推理能力。**"
   ]
  },
  {
   "cell_type": "code",
   "execution_count": 48,
   "id": "810596f2",
   "metadata": {
    "pycharm": {
     "name": "#%%\n"
    }
   },
   "outputs": [
    {
     "name": "stdout",
     "output_type": "stream",
     "text": [
      "ChatGPT (only ICL):\n",
      "A: 答案是$20\\times35\\times50+30\\times15\\times50=52500+22500=75000$美元。\n"
     ]
    }
   ],
   "source": [
    "qst = 'Jill的教学工资为每小时20美元，担任啦啦队教练的工资为30美元。如果她一年工作50周，每周35小时当老师，每周15小时当教练，她的年薪是多少？'\n",
    "print('ChatGPT (only ICL):\\nA:', chat_completion(d1+qst+'\\nA:'))"
   ]
  },
  {
   "cell_type": "code",
   "execution_count": 49,
   "id": "85fc4ee8",
   "metadata": {
    "pycharm": {
     "name": "#%%\n"
    }
   },
   "outputs": [
    {
     "name": "stdout",
     "output_type": "stream",
     "text": [
      "ChatGPT (CoT+ICL):\n",
      "A: 她每周作为老师的工资为20*35=700美元。\n",
      "她每周作为教练的工资为30*15=450美元。\n",
      "她每周总共的工资为700+450=1150美元。\n",
      "她一年总共工作50周，所以她的年薪为1150*50=57,500美元。答案是57,500。\n"
     ]
    }
   ],
   "source": [
    "qst = 'Jill的教学工资为每小时20美元，担任啦啦队教练的工资为30美元。如果她一年工作50周，每周35小时当老师，每周15小时当教练，她的年薪是多少？'\n",
    "print('ChatGPT (CoT+ICL):\\nA:', chat_completion(d2+qst+'\\nA:'))"
   ]
  },
  {
   "cell_type": "markdown",
   "id": "30299a51",
   "metadata": {
    "pycharm": {
     "name": "#%% md\n"
    }
   },
   "source": [
    "# 2. 专业知识应用"
   ]
  },
  {
   "cell_type": "markdown",
   "id": "08fbf1ec",
   "metadata": {
    "pycharm": {
     "name": "#%% md\n"
    }
   },
   "source": [
    "## 2.1 专业领域"
   ]
  },
  {
   "cell_type": "markdown",
   "id": "2a6437a3",
   "metadata": {
    "pycharm": {
     "name": "#%% md\n"
    }
   },
   "source": [
    "**数学题目测试**"
   ]
  },
  {
   "cell_type": "code",
   "execution_count": 50,
   "id": "22f9bdf1",
   "metadata": {
    "pycharm": {
     "name": "#%%\n"
    }
   },
   "outputs": [
    {
     "name": "stdout",
     "output_type": "stream",
     "text": [
      "简特的鸭子每天下16个蛋。她每天早上吃掉3个蛋作为早餐，并且每天用4个蛋烤松饼给她的朋友们。她每天将剩下的鸭蛋以每个2美元的价格在农民市场上出售。那么她每天在农民市场上能赚多少钱呢？\n",
      "----------------------------------------\n",
      "每天下16个蛋，吃掉3个，烤松饼用4个，剩下的是16-3-4=9个蛋。\n",
      "每个蛋以2美元的价格出售，所以9个蛋可以赚9*2=18美元。\n",
      "因此，简特每天在农民市场上能赚18美元。\n"
     ]
    }
   ],
   "source": [
    "qst = '简特的鸭子每天下16个蛋。她每天早上吃掉3个蛋作为早餐，并且每天用4个蛋烤松饼给她的朋友们。她每天将剩下的鸭蛋以每个2美元的价格在农民市场上出售。那么她每天在农民市场上能赚多少钱呢？'\n",
    "print(qst)\n",
    "print('-'*40)\n",
    "print(chat_completion(qst))"
   ]
  },
  {
   "cell_type": "markdown",
   "id": "49ec92b0",
   "metadata": {
    "pycharm": {
     "name": "#%% md\n"
    }
   },
   "source": [
    "**物理知识测试**"
   ]
  },
  {
   "cell_type": "code",
   "execution_count": 51,
   "id": "9deef2b0",
   "metadata": {
    "pycharm": {
     "name": "#%%\n"
    }
   },
   "outputs": [
    {
     "name": "stdout",
     "output_type": "stream",
     "text": [
      "以下做法可以增加铁磁体磁性的是：\n",
      "A. 增大电流。\n",
      "B. 改变电流方向。\n",
      "C. 减少线圈匝数。\n",
      "D. 改变绕线方向。\n",
      "----------------------------------------\n",
      "A. 增大电流。增大电流可以增加铁磁体的磁场强度，从而增加磁性。\n"
     ]
    }
   ],
   "source": [
    "qst = '以下做法可以增加铁磁体磁性的是：\\nA. 增大电流。\\nB. 改变电流方向。\\nC. 减少线圈匝数。\\nD. 改变绕线方向。'\n",
    "print(qst)\n",
    "print('-'*40)\n",
    "print(chat_completion(qst+'think it step by step and tell me the answer'))"
   ]
  },
  {
   "cell_type": "code",
   "execution_count": 52,
   "id": "7ce224b7",
   "metadata": {
    "pycharm": {
     "name": "#%%\n"
    }
   },
   "outputs": [
    {
     "name": "stdout",
     "output_type": "stream",
     "text": [
      "庆元旦晚会上小明为同学们展示了一个物理实验：先将空矿泉水瓶（有少许残余的水）的盖子拧紧，双手用力将瓶子两端向相反方向不断地拧，使瓶子严重变形，再将瓶盖子适当拧松，突然“砰”的一声响，瓶子中的空气将瓶盖高速弹射出去，这时瓶口还产生了明显的白雾．\n",
      "（1）试分析说明上述实验过程中，能量的转化过程．\n",
      "（2）解释白雾是如何产生的．\n",
      "----------------------------------------\n",
      "(1) 在实验过程中，小明用力将瓶子两端向相反方向拧，使瓶子严重变形，这时瓶子内部的空气被压缩，压缩过程中瓶子内部的气体分子运动加剧，产生了热能。当瓶盖被适当拧松后，瓶子内部的压力突然释放，瓶盖高速弹射出去，瓶子内部的气体也随之迅速膨胀，产生了动能。因此，实验过程中能量的转化包括热能转化为动能和弹性势能，以及动能和弹性势能转化为瓶盖的动能和瓶口的热能。\n",
      "\n",
      "(2) 白雾是由于瓶子内部的空气在压缩过程中被压缩成高压状态，当瓶盖被适当拧松后，瓶子内部的气体突然膨胀，温度降低，水蒸气凝结成小水滴，形成了白雾。\n"
     ]
    }
   ],
   "source": [
    "qst = '庆元旦晚会上小明为同学们展示了一个物理实验：先将空矿泉水瓶（有少许残余的水）的盖子拧紧，双手用力将瓶子两端向相反方向不断地拧，使瓶子严重变形，再将瓶盖子适当拧松，突然“砰”的一声响，瓶子中的空气将瓶盖高速弹射出去，这时瓶口还产生了明显的白雾．\\n（1）试分析说明上述实验过程中，能量的转化过程．\\n（2）解释白雾是如何产生的．'\n",
    "print(qst)\n",
    "print('-'*40)\n",
    "print(chat_completion(qst))"
   ]
  },
  {
   "cell_type": "markdown",
   "id": "7fc8c428",
   "metadata": {
    "pycharm": {
     "name": "#%% md\n"
    }
   },
   "source": [
    "**化学知识测试**"
   ]
  },
  {
   "cell_type": "code",
   "execution_count": 53,
   "id": "f97d67db",
   "metadata": {
    "pycharm": {
     "name": "#%%\n"
    }
   },
   "outputs": [
    {
     "name": "stdout",
     "output_type": "stream",
     "text": [
      "防冻剂是一种能在低温下防止物料中水分结冰的物质。下列可用于防冻剂的物质中，含有氮元素的有机物是\n",
      "A. 甲醇 [CH3OH], B. 氯化钙 [CaCI2], C. 尿素 [CO(NH2)2], D. 亚硝酸钠 [NaNO2]\n",
      "----------------------------------------\n",
      "C. 尿素 [CO(NH2)2]。尿素是一种含有氮元素的有机化合物，可以作为防冻剂使用。甲醇虽然可以降低物料的冰点，但是不含氮元素，不是有机物。氯化钙和亚硝酸钠也不含氮元素，不是有机物。\n"
     ]
    }
   ],
   "source": [
    "qst='防冻剂是一种能在低温下防止物料中水分结冰的物质。下列可用于防冻剂的物质中，含有氮元素的有机物是\\nA. 甲醇 [CH3OH], B. 氯化钙 [CaCI2], C. 尿素 [CO(NH2)2], D. 亚硝酸钠 [NaNO2]'\n",
    "print(qst)\n",
    "print('-'*40)\n",
    "print(chat_completion(qst+'choose the answer and explain'))"
   ]
  },
  {
   "cell_type": "code",
   "execution_count": 54,
   "id": "fc835d12",
   "metadata": {
    "pycharm": {
     "name": "#%%\n"
    }
   },
   "outputs": [
    {
     "name": "stdout",
     "output_type": "stream",
     "text": [
      "实验中铜和浓硫酸共热制取二氧化硫，反应的化学方程式是\n",
      "----------------------------------------\n",
      "Cu + 2H2SO4 → CuSO4 + SO2 + 2H2O\n"
     ]
    }
   ],
   "source": [
    "qst = '实验中铜和浓硫酸共热制取二氧化硫，反应的化学方程式是'\n",
    "print(qst)\n",
    "print('-'*40)\n",
    "print(chat_completion(qst))"
   ]
  },
  {
   "cell_type": "markdown",
   "id": "f16c136b",
   "metadata": {
    "pycharm": {
     "name": "#%% md\n"
    }
   },
   "source": [
    "## 2.2 编程助手"
   ]
  },
  {
   "cell_type": "code",
   "execution_count": 55,
   "id": "caa32753",
   "metadata": {
    "pycharm": {
     "name": "#%%\n"
    }
   },
   "outputs": [
    {
     "name": "stdout",
     "output_type": "stream",
     "text": [
      "好的，以下是一个简单的扫雷游戏的示例代码：\n",
      "\n",
      "```python\n",
      "import random\n",
      "\n",
      "class Minesweeper:\n",
      "    def __init__(self, rows, cols, num_mines):\n",
      "        self.rows = rows\n",
      "        self.cols = cols\n",
      "        self.num_mines = num_mines\n",
      "        self.board = [[0 for _ in range(cols)] for _ in range(rows)]\n",
      "        self.mines = set()\n",
      "        self.game_over = False\n",
      "\n",
      "        # randomly place mines\n",
      "        while len(self.mines) < num_mines:\n",
      "            row = random.randint(0, rows-1)\n",
      "            col = random.randint(0, cols-1)\n",
      "            self.mines.add((row, col))\n",
      "            self.board[row][col] = -1\n",
      "\n",
      "        # calculate numbers for non-mine cells\n",
      "        for row in range(rows):\n",
      "            for col in range(cols):\n",
      "                if self.board[row][col] == -1:\n",
      "                    continue\n",
      "                for r in range(max(0, row-1), min(rows, row+2)):\n",
      "                    for c in range(max(0, col-1), min(cols, col+2)):\n",
      "                        if self.board[r][c] == -1:\n",
      "                            self.board[row][col] += 1\n",
      "\n",
      "    def __str__(self):\n",
      "        s = ''\n",
      "        for row in self.board:\n",
      "            s += ' '.join(str(x) for x in row) + '\\n'\n",
      "        return s\n",
      "\n",
      "    def reveal(self, row, col):\n",
      "        if self.board[row][col] == -1:\n",
      "            self.game_over = True\n",
      "            return False\n",
      "        elif self.board[row][col] > 0:\n",
      "            return True\n",
      "        else:\n",
      "            for r in range(max(0, row-1), min(self.rows, row+2)):\n",
      "                for c in range(max(0, col-1), min(self.cols, col+2)):\n",
      "                    if (r, c) in self.mines:\n",
      "                        continue\n",
      "                    if self.board[r][c] == 0:\n",
      "                        self.reveal(r, c)\n",
      "                    else:\n",
      "                        self.board[r][c] = -self.board[r][c]\n",
      "            return True\n",
      "\n",
      "    def play(self):\n",
      "        while not self.game_over:\n",
      "            print(self)\n",
      "            row = int(input('Enter row: '))\n",
      "            col = int(input('Enter col: '))\n",
      "            if not self.reveal(row, col):\n",
      "                print('Game over!')\n",
      "                print(self)\n",
      "                return\n",
      "        print('You win!')\n",
      "        print(self)\n",
      "\n",
      "if __name__ == '__main__':\n",
      "    game = Minesweeper(8, 8, 10)\n",
      "    game.play()\n",
      "```\n",
      "\n",
      "这个示例代码实现了一个简单的扫雷游戏，可以通过输入行和列来揭开对应的格子，如果揭开的格子是地雷，则游戏结束，否则会显示周围的地雷数量，如果周围没有地雷，则会递归地揭开周围的格子。游戏结束后会显示游戏结果。\n"
     ]
    }
   ],
   "source": [
    "text = f\"\"\"\n",
    "编写一个扫雷游戏\n",
    "\"\"\"\n",
    "# t #\n",
    "prompt = f\"\"\"\n",
    "我希望你担任一个精通python的编译器，可以根据需求或者要求，并且输出对应的示例代码，\n",
    "要求是：'''{text}'''\n",
    "\"\"\"\n",
    "response = chat_completion(prompt)\n",
    "print(response)\n"
   ]
  },
  {
   "cell_type": "markdown",
   "id": "156694b0",
   "metadata": {
    "pycharm": {
     "name": "#%% md\n"
    }
   },
   "source": [
    "## 2.3 语言学习助手"
   ]
  },
  {
   "cell_type": "code",
   "execution_count": null,
   "id": "69ce143e",
   "metadata": {
    "pycharm": {
     "is_executing": true,
     "name": "#%%\n"
    }
   },
   "outputs": [],
   "source": [
    "chatgpt = Conversation('')\n",
    "while True:\n",
    "    q = input('user:')\n",
    "    print(\"\\033[1;32;32mAI:{}\\033[0m\".format(chatgpt.ask(q)))"
   ]
  },
  {
   "cell_type": "markdown",
   "id": "54232712",
   "metadata": {
    "pycharm": {
     "name": "#%% md\n"
    }
   },
   "source": [
    "## 2.4 科研助手"
   ]
  },
  {
   "cell_type": "code",
   "execution_count": 56,
   "id": "3b04e2ca",
   "metadata": {
    "pycharm": {
     "name": "#%%\n"
    }
   },
   "outputs": [
    {
     "name": "stdout",
     "output_type": "stream",
     "text": [
      "好的，我会尽力完成这些任务。以下是我为您准备的代码和图表。\n",
      "\n",
      "## 1. 小提琴图\n",
      "\n",
      "```python\n",
      "import numpy as np\n",
      "import matplotlib.pyplot as plt\n",
      "\n",
      "# 随机生成数据\n",
      "data = [np.random.normal(0, std, 100) for std in range(1, 6)]\n",
      "\n",
      "# 绘制小提琴图\n",
      "fig, ax = plt.subplots()\n",
      "ax.violinplot(data, showmeans=False, showmedians=True)\n",
      "ax.set_title('Violin plot')\n",
      "ax.set_xlabel('Data')\n",
      "ax.set_ylabel('Frequency')\n",
      "plt.show()\n",
      "```\n",
      "\n",
      "![小提琴图](https://i.imgur.com/5JZJZJL.png)\n",
      "\n",
      "## 2. 箱线图\n",
      "\n",
      "```python\n",
      "import numpy as np\n",
      "import matplotlib.pyplot as plt\n",
      "\n",
      "# 随机生成数据\n",
      "data = [np.random.normal(0, std, 100) for std in range(1, 6)]\n",
      "\n",
      "# 绘制箱线图\n",
      "fig, ax = plt.subplots()\n",
      "ax.boxplot(data)\n",
      "ax.set_title('Box plot')\n",
      "ax.set_xlabel('Data')\n",
      "ax.set_ylabel('Value')\n",
      "plt.show()\n",
      "```\n",
      "\n",
      "![箱线图](https://i.imgur.com/5JZJZJL.png)\n",
      "\n",
      "## 3. 三维散点图\n",
      "\n",
      "```python\n",
      "import numpy as np\n",
      "import matplotlib.pyplot as plt\n",
      "from mpl_toolkits.mplot3d import Axes3D\n",
      "\n",
      "# 随机生成数据\n",
      "x = np.random.normal(0, 1, 100)\n",
      "y = np.random.normal(0, 1, 100)\n",
      "z = np.random.normal(0, 1, 100)\n",
      "\n",
      "# 绘制三维散点图\n",
      "fig = plt.figure()\n",
      "ax = fig.add_subplot(111, projection='3d')\n",
      "ax.scatter(x, y, z)\n",
      "ax.set_title('3D Scatter plot')\n",
      "ax.set_xlabel('X')\n",
      "ax.set_ylabel('Y')\n",
      "ax.set_zlabel('Z')\n",
      "plt.show()\n",
      "```\n",
      "\n",
      "![三维散点图](https://i.imgur.com/5JZJZJL.png)\n",
      "\n",
      "## 4. 折线图\n",
      "\n",
      "```python\n",
      "import numpy as np\n",
      "import matplotlib.pyplot as plt\n",
      "\n",
      "# 随机生成数据\n",
      "x = np.linspace(0, 10, 100)\n",
      "y = np.sin(x)\n",
      "\n",
      "# 绘制折线图\n",
      "fig, ax = plt.subplots()\n",
      "ax.plot(x, y)\n",
      "ax.set_title('Line plot')\n",
      "ax.set_xlabel('X')\n",
      "ax.set_ylabel('Y')\n",
      "plt.show()\n",
      "```\n",
      "\n",
      "![折线图](https://i.imgur.com/5JZJZJL.png)\n"
     ]
    }
   ],
   "source": [
    "text = f\"\"\"\n",
    "在论文中插入图片，请你随机生成五组数据并分别用python绘制成小提琴图，箱线图，三维散点图，折线图\n",
    "\"\"\"\n",
    "# t #\n",
    "prompt = f\"\"\"\n",
    "我希望你担任一个科研助手，可以实现各种科研和学术写作的需求，并且需要符合一般的论文写作风格和要求，\n",
    "以下是你需要完成的任务：'''{text}'''\n",
    "\"\"\"\n",
    "response = chat_completion(prompt)\n",
    "print(response)"
   ]
  },
  {
   "cell_type": "code",
   "execution_count": null,
   "id": "d9126e0e",
   "metadata": {
    "pycharm": {
     "name": "#%%\n"
    }
   },
   "outputs": [],
   "source": []
  }
 ],
 "metadata": {
  "kernelspec": {
   "display_name": "Python 3 (ipykernel)",
   "language": "python",
   "name": "python3"
  },
  "language_info": {
   "codemirror_mode": {
    "name": "ipython",
    "version": 3
   },
   "file_extension": ".py",
   "mimetype": "text/x-python",
   "name": "python",
   "nbconvert_exporter": "python",
   "pygments_lexer": "ipython3",
   "version": "3.10.10"
  }
 },
 "nbformat": 4,
 "nbformat_minor": 5
}
